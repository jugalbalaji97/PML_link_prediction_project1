{
 "cells": [
  {
   "cell_type": "code",
   "execution_count": 40,
   "id": "b50bf36d-847a-4c4c-a8d0-ef01698a624b",
   "metadata": {},
   "outputs": [],
   "source": [
    "import pandas as pd\n",
    "import csv\n",
    "import numpy as np\n",
    "import random\n",
    "import numpy as np\n",
    "from datetime import datetime\n",
    "import networkx as nx"
   ]
  },
  {
   "cell_type": "markdown",
   "id": "59f6d1ca-b916-4b84-955a-81b5c461892d",
   "metadata": {},
   "source": [
    "### File Paths"
   ]
  },
  {
   "cell_type": "code",
   "execution_count": 41,
   "id": "5f8bc156-e666-4df4-86e9-d376625a5b88",
   "metadata": {},
   "outputs": [],
   "source": [
    "train_file = 'train.csv'"
   ]
  },
  {
   "cell_type": "markdown",
   "id": "af0a34e1-3fde-483d-b1c9-e15da68563d5",
   "metadata": {},
   "source": [
    "### Functions"
   ]
  },
  {
   "cell_type": "code",
   "execution_count": 42,
   "id": "9dbac464-cc18-4aa3-8ab9-2126d54762d9",
   "metadata": {},
   "outputs": [],
   "source": [
    "def create_edges(adjacency_list : dict):\n",
    "    edges = []\n",
    "    for node in adjacency_list.keys():\n",
    "        for neighbour in adjacency_list[node]:\n",
    "            edges.append([node, neighbour])\n",
    "\n",
    "    return edges"
   ]
  },
  {
   "cell_type": "markdown",
   "id": "57105dc1-e044-4c66-9982-e5ad75146027",
   "metadata": {},
   "source": [
    "### Adjacency List - True Edges"
   ]
  },
  {
   "cell_type": "code",
   "execution_count": 43,
   "id": "a7a7a598-2cd0-4722-a205-9cf03505ea49",
   "metadata": {},
   "outputs": [],
   "source": [
    "seed_value = 16\n",
    "random.seed(seed_value)\n",
    "\n",
    "adjacency_list_sampled = {}\n",
    "sampling_ratio = 0.001\n",
    "\n",
    "with open(train_file, 'r') as csvfile:\n",
    "    reader = csv.reader(csvfile)\n",
    "    for row_string in reader:\n",
    "        row = [int(x) for x in row_string]\n",
    "        num_samples = max(int(len(row) * sampling_ratio), min(20,len(row)-1)) #sample atleast 20 edges from each node\n",
    "        if len(row) > 1:\n",
    "            adjacency_list_sampled[row[0]] = set(random.sample(row[1:], num_samples))\n",
    "        else:\n",
    "            #To handle nodes with no neighbors\n",
    "            adjacency_list_sampled[row[0]] = set([])"
   ]
  },
  {
   "cell_type": "markdown",
   "id": "db1070ef-c385-4613-87b4-b373ac8f2b6b",
   "metadata": {},
   "source": [
    "### True Edges Dataframe"
   ]
  },
  {
   "cell_type": "code",
   "execution_count": 44,
   "id": "03a0ddb7-d9a9-4b7e-ac62-7e2af551f7bd",
   "metadata": {},
   "outputs": [],
   "source": [
    "true_edges = create_edges(adjacency_list_sampled)"
   ]
  },
  {
   "cell_type": "code",
   "execution_count": 45,
   "id": "a2a74404-6b32-43df-b455-4897442abfd5",
   "metadata": {},
   "outputs": [
    {
     "data": {
      "text/html": [
       "<div>\n",
       "<style scoped>\n",
       "    .dataframe tbody tr th:only-of-type {\n",
       "        vertical-align: middle;\n",
       "    }\n",
       "\n",
       "    .dataframe tbody tr th {\n",
       "        vertical-align: top;\n",
       "    }\n",
       "\n",
       "    .dataframe thead th {\n",
       "        text-align: right;\n",
       "    }\n",
       "</style>\n",
       "<table border=\"1\" class=\"dataframe\">\n",
       "  <thead>\n",
       "    <tr style=\"text-align: right;\">\n",
       "      <th></th>\n",
       "      <th>source</th>\n",
       "      <th>sink</th>\n",
       "    </tr>\n",
       "  </thead>\n",
       "  <tbody>\n",
       "    <tr>\n",
       "      <th>0</th>\n",
       "      <td>687794</td>\n",
       "      <td>4763554</td>\n",
       "    </tr>\n",
       "    <tr>\n",
       "      <th>1</th>\n",
       "      <td>687794</td>\n",
       "      <td>1224868</td>\n",
       "    </tr>\n",
       "    <tr>\n",
       "      <th>2</th>\n",
       "      <td>687794</td>\n",
       "      <td>32423</td>\n",
       "    </tr>\n",
       "  </tbody>\n",
       "</table>\n",
       "</div>"
      ],
      "text/plain": [
       "   source     sink\n",
       "0  687794  4763554\n",
       "1  687794  1224868\n",
       "2  687794    32423"
      ]
     },
     "execution_count": 45,
     "metadata": {},
     "output_type": "execute_result"
    }
   ],
   "source": [
    "true_edges_df = pd.DataFrame(true_edges, columns = ['source', 'sink'])\n",
    "true_edges_df.head(3)"
   ]
  },
  {
   "cell_type": "code",
   "execution_count": 46,
   "id": "3fdf0ced-e667-4f71-b69b-aac806a605b5",
   "metadata": {},
   "outputs": [
    {
     "data": {
      "text/plain": [
       "(377684, 2)"
      ]
     },
     "execution_count": 46,
     "metadata": {},
     "output_type": "execute_result"
    }
   ],
   "source": [
    "true_edges_df.shape"
   ]
  },
  {
   "cell_type": "code",
   "execution_count": 47,
   "id": "1502e30e-95ba-402f-9b59-cbb0a3f66e2a",
   "metadata": {},
   "outputs": [
    {
     "data": {
      "text/plain": [
       "19570"
      ]
     },
     "execution_count": 47,
     "metadata": {},
     "output_type": "execute_result"
    }
   ],
   "source": [
    "true_edges_df.source.nunique() #430 nodes have no edges"
   ]
  },
  {
   "cell_type": "markdown",
   "id": "7b7b03b1-5bb6-475e-8708-f4e2f89266f3",
   "metadata": {},
   "source": [
    "### Adding Labels column"
   ]
  },
  {
   "cell_type": "code",
   "execution_count": 48,
   "id": "b66587a9-d8e7-4a90-84b5-db82cb18371c",
   "metadata": {},
   "outputs": [
    {
     "data": {
      "text/html": [
       "<div>\n",
       "<style scoped>\n",
       "    .dataframe tbody tr th:only-of-type {\n",
       "        vertical-align: middle;\n",
       "    }\n",
       "\n",
       "    .dataframe tbody tr th {\n",
       "        vertical-align: top;\n",
       "    }\n",
       "\n",
       "    .dataframe thead th {\n",
       "        text-align: right;\n",
       "    }\n",
       "</style>\n",
       "<table border=\"1\" class=\"dataframe\">\n",
       "  <thead>\n",
       "    <tr style=\"text-align: right;\">\n",
       "      <th></th>\n",
       "      <th>source</th>\n",
       "      <th>sink</th>\n",
       "      <th>label</th>\n",
       "    </tr>\n",
       "  </thead>\n",
       "  <tbody>\n",
       "    <tr>\n",
       "      <th>0</th>\n",
       "      <td>687794</td>\n",
       "      <td>4763554</td>\n",
       "      <td>1</td>\n",
       "    </tr>\n",
       "    <tr>\n",
       "      <th>1</th>\n",
       "      <td>687794</td>\n",
       "      <td>1224868</td>\n",
       "      <td>1</td>\n",
       "    </tr>\n",
       "    <tr>\n",
       "      <th>2</th>\n",
       "      <td>687794</td>\n",
       "      <td>32423</td>\n",
       "      <td>1</td>\n",
       "    </tr>\n",
       "  </tbody>\n",
       "</table>\n",
       "</div>"
      ],
      "text/plain": [
       "   source     sink  label\n",
       "0  687794  4763554      1\n",
       "1  687794  1224868      1\n",
       "2  687794    32423      1"
      ]
     },
     "execution_count": 48,
     "metadata": {},
     "output_type": "execute_result"
    }
   ],
   "source": [
    "true_edges_df['label'] = 1\n",
    "true_edges_df.head(3)"
   ]
  },
  {
   "cell_type": "markdown",
   "id": "d98f0da1-2718-4cc7-ac4b-d9b09c7a24cb",
   "metadata": {},
   "source": [
    "### Making a Undirected Graph"
   ]
  },
  {
   "cell_type": "code",
   "execution_count": 49,
   "id": "d05e8c87-1c47-4a4d-aa26-538d6ce7f270",
   "metadata": {},
   "outputs": [],
   "source": [
    "true_edges_df = true_edges_df.loc[~(true_edges_df['source'] == true_edges_df['sink'])] #to remove self loops"
   ]
  },
  {
   "cell_type": "code",
   "execution_count": 50,
   "id": "296c49f0-ef56-48a4-b5a5-de2d5844007b",
   "metadata": {},
   "outputs": [],
   "source": [
    "true_edge_list = list(zip(true_edges_df['source'].tolist(), true_edges_df['sink'].tolist()))"
   ]
  },
  {
   "cell_type": "code",
   "execution_count": 51,
   "id": "6f8f37a0-a0fc-4d0f-8062-4f02ed595ba8",
   "metadata": {},
   "outputs": [],
   "source": [
    "G = nx.Graph(true_edge_list)"
   ]
  },
  {
   "cell_type": "markdown",
   "id": "4f20e61e-3b48-4032-9b22-208d3ec41345",
   "metadata": {},
   "source": [
    "### Making a Directed Graph"
   ]
  },
  {
   "cell_type": "code",
   "execution_count": 52,
   "id": "0051fb7a-c94a-4e53-95b1-53219f50566a",
   "metadata": {},
   "outputs": [],
   "source": [
    "DiG = nx.DiGraph(true_edge_list)"
   ]
  },
  {
   "cell_type": "markdown",
   "id": "9e335b36-894c-48b0-9873-1e0e73249d24",
   "metadata": {},
   "source": [
    "### Adding False Edges"
   ]
  },
  {
   "cell_type": "code",
   "execution_count": 53,
   "id": "8b95a556-7ed9-4fec-b56c-64dadc368137",
   "metadata": {},
   "outputs": [
    {
     "name": "stdout",
     "output_type": "stream",
     "text": [
      "10000 false edges created...\n",
      "20000 false edges created...\n",
      "30000 false edges created...\n",
      "40000 false edges created...\n",
      "50000 false edges created...\n",
      "60000 false edges created...\n",
      "70000 false edges created...\n",
      "80000 false edges created...\n",
      "90000 false edges created...\n",
      "100000 false edges created...\n",
      "110000 false edges created...\n",
      "120000 false edges created...\n",
      "130000 false edges created...\n",
      "140000 false edges created...\n",
      "150000 false edges created...\n",
      "160000 false edges created...\n",
      "170000 false edges created...\n",
      "180000 false edges created...\n",
      "190000 false edges created...\n",
      "200000 false edges created...\n",
      "210000 false edges created...\n",
      "220000 false edges created...\n",
      "230000 false edges created...\n",
      "240000 false edges created...\n",
      "250000 false edges created...\n",
      "260000 false edges created...\n",
      "270000 false edges created...\n",
      "280000 false edges created...\n",
      "290000 false edges created...\n",
      "300000 false edges created...\n",
      "310000 false edges created...\n",
      "320000 false edges created...\n",
      "330000 false edges created...\n",
      "340000 false edges created...\n",
      "350000 false edges created...\n"
     ]
    }
   ],
   "source": [
    "# Define the number of edges 'n' to add\n",
    "n = 350000\n",
    "\n",
    "# Get a list of existing nodes in the graph\n",
    "nodes = list(DiG.nodes())\n",
    "edges = list(DiG.edges())\n",
    "\n",
    "# Generate 'n' random edges between existing nodes without self-loops and duplicates\n",
    "false_edges = set()  # Use a set to ensure uniqueness\n",
    "\n",
    "while len(false_edges) < n:\n",
    "    edge = (random.choice(nodes), random.choice(nodes))\n",
    "    \n",
    "    # Check if it's a self-loop or duplicate edge\n",
    "    if edge[0] != edge[1] and edge not in false_edges and edge[::-1] not in false_edges and edge[::-1] not in edges:\n",
    "        false_edges.add(edge)\n",
    "\n",
    "    if len(false_edges) % 10000 == 0:\n",
    "        print(f\"{len(false_edges)} false edges created...\")\n",
    "\n",
    "G.add_edges_from(false_edges)\n",
    "DiG.add_edges_from(false_edges)"
   ]
  },
  {
   "cell_type": "markdown",
   "id": "41162df6-76a8-4c3c-a7f8-0df0cdedc02a",
   "metadata": {},
   "source": [
    "### False Edges Dataframe"
   ]
  },
  {
   "cell_type": "code",
   "execution_count": 54,
   "id": "6e3346f1-adaf-4f5d-9120-37fa9b24e70b",
   "metadata": {},
   "outputs": [
    {
     "data": {
      "text/html": [
       "<div>\n",
       "<style scoped>\n",
       "    .dataframe tbody tr th:only-of-type {\n",
       "        vertical-align: middle;\n",
       "    }\n",
       "\n",
       "    .dataframe tbody tr th {\n",
       "        vertical-align: top;\n",
       "    }\n",
       "\n",
       "    .dataframe thead th {\n",
       "        text-align: right;\n",
       "    }\n",
       "</style>\n",
       "<table border=\"1\" class=\"dataframe\">\n",
       "  <thead>\n",
       "    <tr style=\"text-align: right;\">\n",
       "      <th></th>\n",
       "      <th>source</th>\n",
       "      <th>sink</th>\n",
       "    </tr>\n",
       "  </thead>\n",
       "  <tbody>\n",
       "    <tr>\n",
       "      <th>0</th>\n",
       "      <td>384931</td>\n",
       "      <td>3496589</td>\n",
       "    </tr>\n",
       "    <tr>\n",
       "      <th>1</th>\n",
       "      <td>2386113</td>\n",
       "      <td>620583</td>\n",
       "    </tr>\n",
       "    <tr>\n",
       "      <th>2</th>\n",
       "      <td>1872437</td>\n",
       "      <td>833447</td>\n",
       "    </tr>\n",
       "  </tbody>\n",
       "</table>\n",
       "</div>"
      ],
      "text/plain": [
       "    source     sink\n",
       "0   384931  3496589\n",
       "1  2386113   620583\n",
       "2  1872437   833447"
      ]
     },
     "execution_count": 54,
     "metadata": {},
     "output_type": "execute_result"
    }
   ],
   "source": [
    "false_edges_df = pd.DataFrame(false_edges, columns = ['source', 'sink'])\n",
    "false_edges_df.head(3)"
   ]
  },
  {
   "cell_type": "code",
   "execution_count": 55,
   "id": "3bf0f1a6-c5e6-499f-b3e8-4b2dc3d2f1e5",
   "metadata": {},
   "outputs": [
    {
     "data": {
      "text/html": [
       "<div>\n",
       "<style scoped>\n",
       "    .dataframe tbody tr th:only-of-type {\n",
       "        vertical-align: middle;\n",
       "    }\n",
       "\n",
       "    .dataframe tbody tr th {\n",
       "        vertical-align: top;\n",
       "    }\n",
       "\n",
       "    .dataframe thead th {\n",
       "        text-align: right;\n",
       "    }\n",
       "</style>\n",
       "<table border=\"1\" class=\"dataframe\">\n",
       "  <thead>\n",
       "    <tr style=\"text-align: right;\">\n",
       "      <th></th>\n",
       "      <th>source</th>\n",
       "      <th>sink</th>\n",
       "      <th>label</th>\n",
       "    </tr>\n",
       "  </thead>\n",
       "  <tbody>\n",
       "    <tr>\n",
       "      <th>0</th>\n",
       "      <td>384931</td>\n",
       "      <td>3496589</td>\n",
       "      <td>0</td>\n",
       "    </tr>\n",
       "    <tr>\n",
       "      <th>1</th>\n",
       "      <td>2386113</td>\n",
       "      <td>620583</td>\n",
       "      <td>0</td>\n",
       "    </tr>\n",
       "    <tr>\n",
       "      <th>2</th>\n",
       "      <td>1872437</td>\n",
       "      <td>833447</td>\n",
       "      <td>0</td>\n",
       "    </tr>\n",
       "  </tbody>\n",
       "</table>\n",
       "</div>"
      ],
      "text/plain": [
       "    source     sink  label\n",
       "0   384931  3496589      0\n",
       "1  2386113   620583      0\n",
       "2  1872437   833447      0"
      ]
     },
     "execution_count": 55,
     "metadata": {},
     "output_type": "execute_result"
    }
   ],
   "source": [
    "false_edges_df['label'] = 0\n",
    "false_edges_df.head(3)"
   ]
  },
  {
   "cell_type": "markdown",
   "id": "37d8312c-c8bc-409d-b28f-252e2c63c239",
   "metadata": {},
   "source": [
    "### Sampled Edges Dataframe (True and False Edges)"
   ]
  },
  {
   "cell_type": "code",
   "execution_count": 56,
   "id": "46027273-cd0b-4248-b2d4-afe50ba8400b",
   "metadata": {},
   "outputs": [
    {
     "data": {
      "text/html": [
       "<div>\n",
       "<style scoped>\n",
       "    .dataframe tbody tr th:only-of-type {\n",
       "        vertical-align: middle;\n",
       "    }\n",
       "\n",
       "    .dataframe tbody tr th {\n",
       "        vertical-align: top;\n",
       "    }\n",
       "\n",
       "    .dataframe thead th {\n",
       "        text-align: right;\n",
       "    }\n",
       "</style>\n",
       "<table border=\"1\" class=\"dataframe\">\n",
       "  <thead>\n",
       "    <tr style=\"text-align: right;\">\n",
       "      <th></th>\n",
       "      <th>source</th>\n",
       "      <th>sink</th>\n",
       "      <th>label</th>\n",
       "    </tr>\n",
       "  </thead>\n",
       "  <tbody>\n",
       "    <tr>\n",
       "      <th>0</th>\n",
       "      <td>687794</td>\n",
       "      <td>4763554</td>\n",
       "      <td>1</td>\n",
       "    </tr>\n",
       "    <tr>\n",
       "      <th>1</th>\n",
       "      <td>687794</td>\n",
       "      <td>1224868</td>\n",
       "      <td>1</td>\n",
       "    </tr>\n",
       "    <tr>\n",
       "      <th>2</th>\n",
       "      <td>687794</td>\n",
       "      <td>32423</td>\n",
       "      <td>1</td>\n",
       "    </tr>\n",
       "    <tr>\n",
       "      <th>3</th>\n",
       "      <td>687794</td>\n",
       "      <td>1198888</td>\n",
       "      <td>1</td>\n",
       "    </tr>\n",
       "    <tr>\n",
       "      <th>4</th>\n",
       "      <td>687794</td>\n",
       "      <td>1822375</td>\n",
       "      <td>1</td>\n",
       "    </tr>\n",
       "  </tbody>\n",
       "</table>\n",
       "</div>"
      ],
      "text/plain": [
       "   source     sink  label\n",
       "0  687794  4763554      1\n",
       "1  687794  1224868      1\n",
       "2  687794    32423      1\n",
       "3  687794  1198888      1\n",
       "4  687794  1822375      1"
      ]
     },
     "execution_count": 56,
     "metadata": {},
     "output_type": "execute_result"
    }
   ],
   "source": [
    "edges_df = pd.concat([true_edges_df, false_edges_df])\n",
    "edges_df.head()"
   ]
  },
  {
   "cell_type": "code",
   "execution_count": 57,
   "id": "1257ada2-96cc-429a-b7d5-48456ff8972a",
   "metadata": {},
   "outputs": [
    {
     "data": {
      "text/plain": [
       "(727683, 3)"
      ]
     },
     "execution_count": 57,
     "metadata": {},
     "output_type": "execute_result"
    }
   ],
   "source": [
    "edges_df.shape"
   ]
  },
  {
   "cell_type": "code",
   "execution_count": 58,
   "id": "7dec1284-8343-4362-9ba2-2a1861a69964",
   "metadata": {},
   "outputs": [
    {
     "data": {
      "text/plain": [
       "label\n",
       "1    377683\n",
       "0    350000\n",
       "Name: count, dtype: int64"
      ]
     },
     "execution_count": 58,
     "metadata": {},
     "output_type": "execute_result"
    }
   ],
   "source": [
    "edges_df.label.value_counts()"
   ]
  },
  {
   "cell_type": "markdown",
   "id": "e1352bf8-3617-420a-bf2b-c5a8d01f609c",
   "metadata": {},
   "source": [
    "### Saving Edges Dataframe to a CSV file"
   ]
  },
  {
   "cell_type": "code",
   "execution_count": 59,
   "id": "5809075c-fdd3-49b6-a3ed-f2b1991bad57",
   "metadata": {},
   "outputs": [],
   "source": [
    "today_date = datetime.now().strftime(\"%Y%m%d_%H%M\")\n",
    "edges_df.to_csv(f\"data\\{today_date}_sampled_edges.csv\", index = False)"
   ]
  },
  {
   "cell_type": "markdown",
   "id": "3de6d470-9789-4f70-8285-025990fceff6",
   "metadata": {},
   "source": [
    "### Saving the Graphs"
   ]
  },
  {
   "cell_type": "code",
   "execution_count": 60,
   "id": "4f3d7bb2-32b0-4df8-b2ba-a3233fe658f0",
   "metadata": {},
   "outputs": [],
   "source": [
    "nx.write_graphml(G, f\"data\\{today_date}_sampled_graph.graphml\")\n",
    "nx.write_graphml(DiG, f\"data\\{today_date}_sampled_digraph.graphml\")"
   ]
  },
  {
   "cell_type": "markdown",
   "id": "fa819238-1526-4cc9-9df2-619da7dc4a08",
   "metadata": {},
   "source": []
  }
 ],
 "metadata": {
  "kernelspec": {
   "display_name": "Python 3 (ipykernel)",
   "language": "python",
   "name": "python3"
  },
  "language_info": {
   "codemirror_mode": {
    "name": "ipython",
    "version": 3
   },
   "file_extension": ".py",
   "mimetype": "text/x-python",
   "name": "python",
   "nbconvert_exporter": "python",
   "pygments_lexer": "ipython3",
   "version": "3.11.7"
  }
 },
 "nbformat": 4,
 "nbformat_minor": 5
}
