{
 "cells": [
  {
   "cell_type": "code",
   "execution_count": 35,
   "id": "b50bf36d-847a-4c4c-a8d0-ef01698a624b",
   "metadata": {},
   "outputs": [],
   "source": [
    "import pandas as pd\n",
    "import csv\n",
    "import numpy as np\n",
    "import random\n",
    "import numpy as np\n",
    "from datetime import datetime\n",
    "import networkx as nx"
   ]
  },
  {
   "cell_type": "markdown",
   "id": "59f6d1ca-b916-4b84-955a-81b5c461892d",
   "metadata": {},
   "source": [
    "### File Paths"
   ]
  },
  {
   "cell_type": "code",
   "execution_count": 36,
   "id": "5f8bc156-e666-4df4-86e9-d376625a5b88",
   "metadata": {},
   "outputs": [],
   "source": [
    "train_file = 'train.csv'"
   ]
  },
  {
   "cell_type": "markdown",
   "id": "af0a34e1-3fde-483d-b1c9-e15da68563d5",
   "metadata": {},
   "source": [
    "### Functions"
   ]
  },
  {
   "cell_type": "code",
   "execution_count": 37,
   "id": "9dbac464-cc18-4aa3-8ab9-2126d54762d9",
   "metadata": {},
   "outputs": [],
   "source": [
    "def create_edges(adjacency_list : dict):\n",
    "    edges = []\n",
    "    for node in adjacency_list.keys():\n",
    "        for neighbour in adjacency_list[node]:\n",
    "            edges.append([node, neighbour])\n",
    "\n",
    "    return edges"
   ]
  },
  {
   "cell_type": "markdown",
   "id": "57105dc1-e044-4c66-9982-e5ad75146027",
   "metadata": {},
   "source": [
    "### Adjacency List - True Edges"
   ]
  },
  {
   "cell_type": "code",
   "execution_count": 40,
   "id": "a7a7a598-2cd0-4722-a205-9cf03505ea49",
   "metadata": {},
   "outputs": [],
   "source": [
    "seed_value = 16\n",
    "random.seed(seed_value)\n",
    "\n",
    "# adjacency_list_sampled = {}\n",
    "# sampling_ratio = 0.001\n",
    "\n",
    "# with open(train_file, 'r') as csvfile:\n",
    "#     reader = csv.reader(csvfile)\n",
    "#     for row_string in reader:\n",
    "#         row = [int(x) for x in row_string]\n",
    "#         num_samples = max(int(len(row) * sampling_ratio), min(20,len(row)-1)) #sample atleast 20 edges from each node\n",
    "#         if len(row) > 1:\n",
    "#             adjacency_list_sampled[row[0]] = set(random.sample(row[1:], num_samples))\n",
    "#         else:\n",
    "#             #To handle nodes with no neighbors\n",
    "#             adjacency_list_sampled[row[0]] = set([])\n",
    "\n",
    "def random_walk(graph, start_node, walk_length):\n",
    "    walk = [start_node]\n",
    "    \n",
    "    for _ in range(walk_length):\n",
    "        neighbors = graph.get(walk[-1], [])  # Get neighbors of the last visited node\n",
    "        if neighbors:\n",
    "            next_node = random.choice(neighbors)\n",
    "            walk.append(next_node)\n",
    "        else:\n",
    "            break  # If no neighbors, terminate the walk\n",
    "    \n",
    "    return walk\n",
    "\n",
    "# Specify the file path\n",
    "file_path = train_file  # Replace with the actual file path\n",
    "\n",
    "# Specify the number of random walks and the length of each walk\n",
    "num_walks = 50000\n",
    "walk_length = 10\n",
    "\n",
    "# Open the CSV file and build the graph\n",
    "adjacency_list = {}\n",
    "with open(file_path, 'r') as file:\n",
    "    reader = csv.reader(file)\n",
    "    \n",
    "    # Build the graph from the CSV file\n",
    "    for row in reader:\n",
    "        node = row[0]\n",
    "        neighbors = row[1:]\n",
    "        adjacency_list[node] = neighbors\n",
    "\n",
    "# Initialize a list to store sampled edges\n",
    "sampled_edges = []\n",
    "\n",
    "# Perform random walks and sample edges\n",
    "for _ in range(num_walks):\n",
    "    start_node = random.choice(list(adjacency_list.keys()))\n",
    "    walk = random_walk(adjacency_list, start_node, walk_length)\n",
    "    \n",
    "    # Extract edges from the random walk\n",
    "    edges = [(walk[i], walk[i+1]) for i in range(len(walk)-1)]\n",
    "    sampled_edges.extend(edges)"
   ]
  },
  {
   "cell_type": "code",
   "execution_count": 41,
   "id": "e5c26ea6-24a3-4d52-9eae-1a12258daf17",
   "metadata": {},
   "outputs": [
    {
     "data": {
      "text/plain": [
       "73047"
      ]
     },
     "execution_count": 41,
     "metadata": {},
     "output_type": "execute_result"
    }
   ],
   "source": [
    "len(sampled_edges)"
   ]
  },
  {
   "cell_type": "code",
   "execution_count": 42,
   "id": "5ed759b1-78d9-420d-85c0-65f9a77c4c40",
   "metadata": {},
   "outputs": [
    {
     "data": {
      "text/plain": [
       "20000"
      ]
     },
     "execution_count": 42,
     "metadata": {},
     "output_type": "execute_result"
    }
   ],
   "source": [
    "len(adjacency_list)"
   ]
  },
  {
   "cell_type": "code",
   "execution_count": 43,
   "id": "e68dd5ef-e6ef-40be-ae32-f8ffdaae1e96",
   "metadata": {},
   "outputs": [],
   "source": [
    "true_edges = sampled_edges"
   ]
  },
  {
   "cell_type": "markdown",
   "id": "396e5937-ea7c-4294-baaa-fe6133e8ceba",
   "metadata": {},
   "source": [
    "### Making an Undirected Graph"
   ]
  },
  {
   "cell_type": "code",
   "execution_count": 44,
   "id": "9d7a358a-18e3-4f18-a88c-7e7bdf87e1ff",
   "metadata": {},
   "outputs": [],
   "source": [
    "G = nx.Graph(true_edges)"
   ]
  },
  {
   "cell_type": "markdown",
   "id": "95512847-2703-42e8-b61d-a8bca7582340",
   "metadata": {},
   "source": [
    "### Making a Directed Graph"
   ]
  },
  {
   "cell_type": "code",
   "execution_count": 45,
   "id": "51278f57-64a0-486d-acc2-8bb9788c4493",
   "metadata": {},
   "outputs": [],
   "source": [
    "DiG = nx.DiGraph(true_edges)"
   ]
  },
  {
   "cell_type": "code",
   "execution_count": 46,
   "id": "0bfeef05-7489-4c9a-8ba4-0bd38a80d120",
   "metadata": {},
   "outputs": [],
   "source": [
    "nodes = list(DiG.nodes())\n",
    "edges = list(DiG.edges())"
   ]
  },
  {
   "cell_type": "code",
   "execution_count": 47,
   "id": "41a85901-dd91-4c78-b84f-4b91138836c9",
   "metadata": {},
   "outputs": [
    {
     "data": {
      "text/plain": [
       "(60286, 69298)"
      ]
     },
     "execution_count": 47,
     "metadata": {},
     "output_type": "execute_result"
    }
   ],
   "source": [
    "len(nodes), len(edges)"
   ]
  },
  {
   "cell_type": "markdown",
   "id": "496fbdf4-9609-4ecb-9811-30aace4fda82",
   "metadata": {},
   "source": [
    "### Adding False Edges"
   ]
  },
  {
   "cell_type": "code",
   "execution_count": 48,
   "id": "31fbf850-5434-4519-9957-04aadbd5c101",
   "metadata": {},
   "outputs": [],
   "source": [
    "#false_edges_adjacency_list = {}G\n",
    "\n",
    "# sinks = list(set(true_edges_df['sink'].values).union(set(true_edges_df['source'].values)))\n",
    "\n",
    "# for node in adjacency_list_sampled.keys():\n",
    "#     if len(adjacency_list_sampled[node]) == 0:\n",
    "#         degree = random.randint(5, 50)\n",
    "#         sink_nodes = set(random.sample(sinks, degree))\n",
    "#         false_edges_adjacency_list[node] = sink_nodes\n",
    "#     else:\n",
    "#         degree = random.randint(5, 50)\n",
    "#         sink_nodes = set(random.sample(sinks, degree))\n",
    "#         sink_nodes = [x for x in sink_nodes if x not in adjacency_list_sampled[node]]\n",
    "#         false_edges_adjacency_list[node] = sink_nodes\n",
    "\n",
    "false_edges_count = 70000\n",
    "false_edges = []\n",
    "\n",
    "while false_edges_count != len(false_edges):\n",
    "    source = random.choice(nodes)\n",
    "    sink = random.choice(nodes)\n",
    "    if source != sink:\n",
    "        if (source, sink) not in edges:\n",
    "            false_edges.append((source, sink))"
   ]
  },
  {
   "cell_type": "code",
   "execution_count": 49,
   "id": "de04a64b-a991-4657-8ba5-6f4362095f61",
   "metadata": {},
   "outputs": [],
   "source": [
    "G.add_edges_from(false_edges)\n",
    "DiG.add_edges_from(false_edges)"
   ]
  },
  {
   "cell_type": "markdown",
   "id": "db1070ef-c385-4613-87b4-b373ac8f2b6b",
   "metadata": {},
   "source": [
    "### True Edges Dataframe"
   ]
  },
  {
   "cell_type": "code",
   "execution_count": 50,
   "id": "03a0ddb7-d9a9-4b7e-ac62-7e2af551f7bd",
   "metadata": {},
   "outputs": [],
   "source": [
    "#true_edges = create_edges(adjacency_list_sampled)"
   ]
  },
  {
   "cell_type": "code",
   "execution_count": 51,
   "id": "a2a74404-6b32-43df-b455-4897442abfd5",
   "metadata": {},
   "outputs": [
    {
     "data": {
      "text/html": [
       "<div>\n",
       "<style scoped>\n",
       "    .dataframe tbody tr th:only-of-type {\n",
       "        vertical-align: middle;\n",
       "    }\n",
       "\n",
       "    .dataframe tbody tr th {\n",
       "        vertical-align: top;\n",
       "    }\n",
       "\n",
       "    .dataframe thead th {\n",
       "        text-align: right;\n",
       "    }\n",
       "</style>\n",
       "<table border=\"1\" class=\"dataframe\">\n",
       "  <thead>\n",
       "    <tr style=\"text-align: right;\">\n",
       "      <th></th>\n",
       "      <th>source</th>\n",
       "      <th>sink</th>\n",
       "    </tr>\n",
       "  </thead>\n",
       "  <tbody>\n",
       "    <tr>\n",
       "      <th>0</th>\n",
       "      <td>1276050</td>\n",
       "      <td>4115397</td>\n",
       "    </tr>\n",
       "    <tr>\n",
       "      <th>1</th>\n",
       "      <td>376726</td>\n",
       "      <td>652404</td>\n",
       "    </tr>\n",
       "    <tr>\n",
       "      <th>2</th>\n",
       "      <td>4243429</td>\n",
       "      <td>2819456</td>\n",
       "    </tr>\n",
       "  </tbody>\n",
       "</table>\n",
       "</div>"
      ],
      "text/plain": [
       "    source     sink\n",
       "0  1276050  4115397\n",
       "1   376726   652404\n",
       "2  4243429  2819456"
      ]
     },
     "execution_count": 51,
     "metadata": {},
     "output_type": "execute_result"
    }
   ],
   "source": [
    "true_edges_df = pd.DataFrame(true_edges, columns = ['source', 'sink'])\n",
    "true_edges_df.head(3)"
   ]
  },
  {
   "cell_type": "code",
   "execution_count": 52,
   "id": "3fdf0ced-e667-4f71-b69b-aac806a605b5",
   "metadata": {},
   "outputs": [
    {
     "data": {
      "text/plain": [
       "(73047, 2)"
      ]
     },
     "execution_count": 52,
     "metadata": {},
     "output_type": "execute_result"
    }
   ],
   "source": [
    "true_edges_df.shape"
   ]
  },
  {
   "cell_type": "markdown",
   "id": "7b7b03b1-5bb6-475e-8708-f4e2f89266f3",
   "metadata": {},
   "source": [
    "### Adding Labels column"
   ]
  },
  {
   "cell_type": "code",
   "execution_count": 53,
   "id": "b66587a9-d8e7-4a90-84b5-db82cb18371c",
   "metadata": {},
   "outputs": [
    {
     "data": {
      "text/html": [
       "<div>\n",
       "<style scoped>\n",
       "    .dataframe tbody tr th:only-of-type {\n",
       "        vertical-align: middle;\n",
       "    }\n",
       "\n",
       "    .dataframe tbody tr th {\n",
       "        vertical-align: top;\n",
       "    }\n",
       "\n",
       "    .dataframe thead th {\n",
       "        text-align: right;\n",
       "    }\n",
       "</style>\n",
       "<table border=\"1\" class=\"dataframe\">\n",
       "  <thead>\n",
       "    <tr style=\"text-align: right;\">\n",
       "      <th></th>\n",
       "      <th>source</th>\n",
       "      <th>sink</th>\n",
       "      <th>label</th>\n",
       "    </tr>\n",
       "  </thead>\n",
       "  <tbody>\n",
       "    <tr>\n",
       "      <th>0</th>\n",
       "      <td>1276050</td>\n",
       "      <td>4115397</td>\n",
       "      <td>1</td>\n",
       "    </tr>\n",
       "    <tr>\n",
       "      <th>1</th>\n",
       "      <td>376726</td>\n",
       "      <td>652404</td>\n",
       "      <td>1</td>\n",
       "    </tr>\n",
       "    <tr>\n",
       "      <th>2</th>\n",
       "      <td>4243429</td>\n",
       "      <td>2819456</td>\n",
       "      <td>1</td>\n",
       "    </tr>\n",
       "  </tbody>\n",
       "</table>\n",
       "</div>"
      ],
      "text/plain": [
       "    source     sink  label\n",
       "0  1276050  4115397      1\n",
       "1   376726   652404      1\n",
       "2  4243429  2819456      1"
      ]
     },
     "execution_count": 53,
     "metadata": {},
     "output_type": "execute_result"
    }
   ],
   "source": [
    "true_edges_df['label'] = 1\n",
    "true_edges_df.head(3)"
   ]
  },
  {
   "cell_type": "markdown",
   "id": "41162df6-76a8-4c3c-a7f8-0df0cdedc02a",
   "metadata": {},
   "source": [
    "### False Edges Dataframe"
   ]
  },
  {
   "cell_type": "code",
   "execution_count": 54,
   "id": "f3167a4f-3aa6-454c-af70-101a39db45ca",
   "metadata": {},
   "outputs": [],
   "source": [
    "# false_edges = create_edges(false_edges_adjacency_list)"
   ]
  },
  {
   "cell_type": "code",
   "execution_count": 55,
   "id": "6e3346f1-adaf-4f5d-9120-37fa9b24e70b",
   "metadata": {},
   "outputs": [
    {
     "data": {
      "text/html": [
       "<div>\n",
       "<style scoped>\n",
       "    .dataframe tbody tr th:only-of-type {\n",
       "        vertical-align: middle;\n",
       "    }\n",
       "\n",
       "    .dataframe tbody tr th {\n",
       "        vertical-align: top;\n",
       "    }\n",
       "\n",
       "    .dataframe thead th {\n",
       "        text-align: right;\n",
       "    }\n",
       "</style>\n",
       "<table border=\"1\" class=\"dataframe\">\n",
       "  <thead>\n",
       "    <tr style=\"text-align: right;\">\n",
       "      <th></th>\n",
       "      <th>source</th>\n",
       "      <th>sink</th>\n",
       "    </tr>\n",
       "  </thead>\n",
       "  <tbody>\n",
       "    <tr>\n",
       "      <th>0</th>\n",
       "      <td>3997545</td>\n",
       "      <td>2494180</td>\n",
       "    </tr>\n",
       "    <tr>\n",
       "      <th>1</th>\n",
       "      <td>945501</td>\n",
       "      <td>3819185</td>\n",
       "    </tr>\n",
       "    <tr>\n",
       "      <th>2</th>\n",
       "      <td>21856</td>\n",
       "      <td>4378890</td>\n",
       "    </tr>\n",
       "  </tbody>\n",
       "</table>\n",
       "</div>"
      ],
      "text/plain": [
       "    source     sink\n",
       "0  3997545  2494180\n",
       "1   945501  3819185\n",
       "2    21856  4378890"
      ]
     },
     "execution_count": 55,
     "metadata": {},
     "output_type": "execute_result"
    }
   ],
   "source": [
    "false_edges_df = pd.DataFrame(false_edges, columns = ['source', 'sink'])\n",
    "false_edges_df.head(3)"
   ]
  },
  {
   "cell_type": "code",
   "execution_count": 56,
   "id": "3bf0f1a6-c5e6-499f-b3e8-4b2dc3d2f1e5",
   "metadata": {},
   "outputs": [
    {
     "data": {
      "text/html": [
       "<div>\n",
       "<style scoped>\n",
       "    .dataframe tbody tr th:only-of-type {\n",
       "        vertical-align: middle;\n",
       "    }\n",
       "\n",
       "    .dataframe tbody tr th {\n",
       "        vertical-align: top;\n",
       "    }\n",
       "\n",
       "    .dataframe thead th {\n",
       "        text-align: right;\n",
       "    }\n",
       "</style>\n",
       "<table border=\"1\" class=\"dataframe\">\n",
       "  <thead>\n",
       "    <tr style=\"text-align: right;\">\n",
       "      <th></th>\n",
       "      <th>source</th>\n",
       "      <th>sink</th>\n",
       "      <th>label</th>\n",
       "    </tr>\n",
       "  </thead>\n",
       "  <tbody>\n",
       "    <tr>\n",
       "      <th>0</th>\n",
       "      <td>3997545</td>\n",
       "      <td>2494180</td>\n",
       "      <td>0</td>\n",
       "    </tr>\n",
       "    <tr>\n",
       "      <th>1</th>\n",
       "      <td>945501</td>\n",
       "      <td>3819185</td>\n",
       "      <td>0</td>\n",
       "    </tr>\n",
       "    <tr>\n",
       "      <th>2</th>\n",
       "      <td>21856</td>\n",
       "      <td>4378890</td>\n",
       "      <td>0</td>\n",
       "    </tr>\n",
       "  </tbody>\n",
       "</table>\n",
       "</div>"
      ],
      "text/plain": [
       "    source     sink  label\n",
       "0  3997545  2494180      0\n",
       "1   945501  3819185      0\n",
       "2    21856  4378890      0"
      ]
     },
     "execution_count": 56,
     "metadata": {},
     "output_type": "execute_result"
    }
   ],
   "source": [
    "false_edges_df['label'] = 0\n",
    "false_edges_df.head(3)"
   ]
  },
  {
   "cell_type": "markdown",
   "id": "37d8312c-c8bc-409d-b28f-252e2c63c239",
   "metadata": {},
   "source": [
    "### Sampled Edges Dataframe (True and False Edges)"
   ]
  },
  {
   "cell_type": "code",
   "execution_count": 57,
   "id": "46027273-cd0b-4248-b2d4-afe50ba8400b",
   "metadata": {},
   "outputs": [
    {
     "data": {
      "text/html": [
       "<div>\n",
       "<style scoped>\n",
       "    .dataframe tbody tr th:only-of-type {\n",
       "        vertical-align: middle;\n",
       "    }\n",
       "\n",
       "    .dataframe tbody tr th {\n",
       "        vertical-align: top;\n",
       "    }\n",
       "\n",
       "    .dataframe thead th {\n",
       "        text-align: right;\n",
       "    }\n",
       "</style>\n",
       "<table border=\"1\" class=\"dataframe\">\n",
       "  <thead>\n",
       "    <tr style=\"text-align: right;\">\n",
       "      <th></th>\n",
       "      <th>source</th>\n",
       "      <th>sink</th>\n",
       "      <th>label</th>\n",
       "    </tr>\n",
       "  </thead>\n",
       "  <tbody>\n",
       "    <tr>\n",
       "      <th>0</th>\n",
       "      <td>1276050</td>\n",
       "      <td>4115397</td>\n",
       "      <td>1</td>\n",
       "    </tr>\n",
       "    <tr>\n",
       "      <th>1</th>\n",
       "      <td>376726</td>\n",
       "      <td>652404</td>\n",
       "      <td>1</td>\n",
       "    </tr>\n",
       "    <tr>\n",
       "      <th>2</th>\n",
       "      <td>4243429</td>\n",
       "      <td>2819456</td>\n",
       "      <td>1</td>\n",
       "    </tr>\n",
       "    <tr>\n",
       "      <th>3</th>\n",
       "      <td>3905625</td>\n",
       "      <td>275748</td>\n",
       "      <td>1</td>\n",
       "    </tr>\n",
       "    <tr>\n",
       "      <th>4</th>\n",
       "      <td>275748</td>\n",
       "      <td>2373066</td>\n",
       "      <td>1</td>\n",
       "    </tr>\n",
       "  </tbody>\n",
       "</table>\n",
       "</div>"
      ],
      "text/plain": [
       "    source     sink  label\n",
       "0  1276050  4115397      1\n",
       "1   376726   652404      1\n",
       "2  4243429  2819456      1\n",
       "3  3905625   275748      1\n",
       "4   275748  2373066      1"
      ]
     },
     "execution_count": 57,
     "metadata": {},
     "output_type": "execute_result"
    }
   ],
   "source": [
    "edges_df = pd.concat([true_edges_df, false_edges_df])\n",
    "edges_df.head()"
   ]
  },
  {
   "cell_type": "code",
   "execution_count": 58,
   "id": "1257ada2-96cc-429a-b7d5-48456ff8972a",
   "metadata": {},
   "outputs": [
    {
     "data": {
      "text/plain": [
       "(143047, 3)"
      ]
     },
     "execution_count": 58,
     "metadata": {},
     "output_type": "execute_result"
    }
   ],
   "source": [
    "edges_df.shape"
   ]
  },
  {
   "cell_type": "code",
   "execution_count": 59,
   "id": "7dec1284-8343-4362-9ba2-2a1861a69964",
   "metadata": {},
   "outputs": [
    {
     "data": {
      "text/plain": [
       "label\n",
       "1    73047\n",
       "0    70000\n",
       "Name: count, dtype: int64"
      ]
     },
     "execution_count": 59,
     "metadata": {},
     "output_type": "execute_result"
    }
   ],
   "source": [
    "edges_df.label.value_counts()"
   ]
  },
  {
   "cell_type": "markdown",
   "id": "e1352bf8-3617-420a-bf2b-c5a8d01f609c",
   "metadata": {},
   "source": [
    "### Saving Edges Dataframe to a CSV file"
   ]
  },
  {
   "cell_type": "code",
   "execution_count": 60,
   "id": "5809075c-fdd3-49b6-a3ed-f2b1991bad57",
   "metadata": {},
   "outputs": [],
   "source": [
    "today_date = datetime.now().strftime(\"%Y%m%d_%H%M\")\n",
    "edges_df.to_csv(f\"data\\{today_date}_sampled_edges.csv\", index = False)"
   ]
  },
  {
   "cell_type": "markdown",
   "id": "3de6d470-9789-4f70-8285-025990fceff6",
   "metadata": {},
   "source": [
    "### Saving the Graphs"
   ]
  },
  {
   "cell_type": "code",
   "execution_count": 61,
   "id": "4f3d7bb2-32b0-4df8-b2ba-a3233fe658f0",
   "metadata": {},
   "outputs": [],
   "source": [
    "nx.write_graphml(G, f\"data\\{today_date}_sampled_graph.graphml\")\n",
    "nx.write_graphml(DiG, f\"data\\{today_date}_sampled_digraph.graphml\")"
   ]
  },
  {
   "cell_type": "markdown",
   "id": "fa819238-1526-4cc9-9df2-619da7dc4a08",
   "metadata": {},
   "source": []
  }
 ],
 "metadata": {
  "kernelspec": {
   "display_name": "Python 3 (ipykernel)",
   "language": "python",
   "name": "python3"
  },
  "language_info": {
   "codemirror_mode": {
    "name": "ipython",
    "version": 3
   },
   "file_extension": ".py",
   "mimetype": "text/x-python",
   "name": "python",
   "nbconvert_exporter": "python",
   "pygments_lexer": "ipython3",
   "version": "3.11.7"
  }
 },
 "nbformat": 4,
 "nbformat_minor": 5
}
