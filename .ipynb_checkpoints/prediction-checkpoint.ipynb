{
 "cells": [
  {
   "cell_type": "code",
   "execution_count": 1,
   "id": "23571843-f798-4659-baf5-24123dc8413b",
   "metadata": {},
   "outputs": [],
   "source": [
    "import pandas as pd\n",
    "import csv\n",
    "import numpy as np\n",
    "import random\n",
    "import numpy as np\n",
    "import networkx as nx\n",
    "from sklearn.model_selection import KFold\n",
    "from sklearn.metrics import confusion_matrix\n",
    "from sklearn.linear_model import LogisticRegression\n",
    "from sklearn.preprocessing import MinMaxScaler\n",
    "from datetime import datetime\n",
    "import pickle"
   ]
  },
  {
   "cell_type": "markdown",
   "id": "86d8add6-27c8-4b3a-9f18-19027f54bf7e",
   "metadata": {},
   "source": [
    "### Loading Sampled Graph"
   ]
  },
  {
   "cell_type": "code",
   "execution_count": 15,
   "id": "a2efb51e-0d71-43dd-94e4-c1c0d8cc44c2",
   "metadata": {},
   "outputs": [
    {
     "name": "stdout",
     "output_type": "stream",
     "text": [
      "28121\n"
     ]
    }
   ],
   "source": [
    "G = nx.read_graphml(\"data/20240302_1504_sampled_graph.graphml\", node_type = int)\n",
    "print(len(G.edges()))"
   ]
  },
  {
   "cell_type": "markdown",
   "id": "b2710b48-31c3-41ef-a3be-89507dc6acab",
   "metadata": {},
   "source": [
    "### Loading Trained Model"
   ]
  },
  {
   "cell_type": "code",
   "execution_count": 3,
   "id": "879781ed-eedb-4a64-88a5-ed3d256da288",
   "metadata": {},
   "outputs": [],
   "source": [
    "with open(\"data/20240302_1509_model.pkl\", \"rb\") as f:\n",
    "    model = pickle.load(f)"
   ]
  },
  {
   "cell_type": "code",
   "execution_count": 4,
   "id": "7e69a205-a8ab-40f1-97f7-bae135214d78",
   "metadata": {},
   "outputs": [
    {
     "data": {
      "text/plain": [
       "array([[27.1642302 ,  8.44685511,  2.58483057,  1.28505366,  1.2912489 ,\n",
       "         1.73058473,  4.07498997]])"
      ]
     },
     "execution_count": 4,
     "metadata": {},
     "output_type": "execute_result"
    }
   ],
   "source": [
    "model.coef_"
   ]
  },
  {
   "cell_type": "markdown",
   "id": "b942bfd0-fe09-4845-81bf-b9f147f64d8e",
   "metadata": {},
   "source": [
    "### Loading the Scaler"
   ]
  },
  {
   "cell_type": "code",
   "execution_count": 6,
   "id": "48f3ceec-41ba-4e49-b2e6-cdfe406326ea",
   "metadata": {},
   "outputs": [],
   "source": [
    "with open(\"data/20240302_1509_scaler.pkl\", \"rb\") as f:\n",
    "    scaler = pickle.load(f)"
   ]
  },
  {
   "cell_type": "markdown",
   "id": "de328126-c01e-48d0-9f70-0cfd9cb8e3fe",
   "metadata": {},
   "source": [
    "### Load Test Data"
   ]
  },
  {
   "cell_type": "code",
   "execution_count": 7,
   "id": "563171e3-5791-4a78-af0d-b015b6af348a",
   "metadata": {
    "scrolled": true
   },
   "outputs": [
    {
     "data": {
      "text/html": [
       "<div>\n",
       "<style scoped>\n",
       "    .dataframe tbody tr th:only-of-type {\n",
       "        vertical-align: middle;\n",
       "    }\n",
       "\n",
       "    .dataframe tbody tr th {\n",
       "        vertical-align: top;\n",
       "    }\n",
       "\n",
       "    .dataframe thead th {\n",
       "        text-align: right;\n",
       "    }\n",
       "</style>\n",
       "<table border=\"1\" class=\"dataframe\">\n",
       "  <thead>\n",
       "    <tr style=\"text-align: right;\">\n",
       "      <th></th>\n",
       "      <th>Id</th>\n",
       "      <th>From</th>\n",
       "      <th>To</th>\n",
       "    </tr>\n",
       "  </thead>\n",
       "  <tbody>\n",
       "    <tr>\n",
       "      <th>0</th>\n",
       "      <td>1</td>\n",
       "      <td>3360982</td>\n",
       "      <td>4457271</td>\n",
       "    </tr>\n",
       "    <tr>\n",
       "      <th>1</th>\n",
       "      <td>2</td>\n",
       "      <td>4761876</td>\n",
       "      <td>4698439</td>\n",
       "    </tr>\n",
       "    <tr>\n",
       "      <th>2</th>\n",
       "      <td>3</td>\n",
       "      <td>4198430</td>\n",
       "      <td>3615486</td>\n",
       "    </tr>\n",
       "  </tbody>\n",
       "</table>\n",
       "</div>"
      ],
      "text/plain": [
       "   Id     From       To\n",
       "0   1  3360982  4457271\n",
       "1   2  4761876  4698439\n",
       "2   3  4198430  3615486"
      ]
     },
     "execution_count": 7,
     "metadata": {},
     "output_type": "execute_result"
    }
   ],
   "source": [
    "test_df = pd.read_csv('test.csv')\n",
    "test_df.head(3)"
   ]
  },
  {
   "cell_type": "markdown",
   "id": "eb619276-e0e3-4e08-a2b7-325fab6411bf",
   "metadata": {},
   "source": [
    "### Creating Features"
   ]
  },
  {
   "cell_type": "code",
   "execution_count": 18,
   "id": "1d2f207c-2c2f-45c6-9d44-b902f0e21142",
   "metadata": {},
   "outputs": [
    {
     "data": {
      "text/html": [
       "<div>\n",
       "<style scoped>\n",
       "    .dataframe tbody tr th:only-of-type {\n",
       "        vertical-align: middle;\n",
       "    }\n",
       "\n",
       "    .dataframe tbody tr th {\n",
       "        vertical-align: top;\n",
       "    }\n",
       "\n",
       "    .dataframe thead th {\n",
       "        text-align: right;\n",
       "    }\n",
       "</style>\n",
       "<table border=\"1\" class=\"dataframe\">\n",
       "  <thead>\n",
       "    <tr style=\"text-align: right;\">\n",
       "      <th></th>\n",
       "      <th>Id</th>\n",
       "      <th>From</th>\n",
       "      <th>To</th>\n",
       "      <th>source_degree</th>\n",
       "      <th>sink_degree</th>\n",
       "      <th>common_neighbours</th>\n",
       "      <th>ra_index</th>\n",
       "      <th>jaccard_coef</th>\n",
       "      <th>aa_index</th>\n",
       "      <th>pref_attach</th>\n",
       "    </tr>\n",
       "  </thead>\n",
       "  <tbody>\n",
       "    <tr>\n",
       "      <th>0</th>\n",
       "      <td>1</td>\n",
       "      <td>3360982</td>\n",
       "      <td>4457271</td>\n",
       "      <td>1</td>\n",
       "      <td>5</td>\n",
       "      <td>0</td>\n",
       "      <td>0.0</td>\n",
       "      <td>0.0</td>\n",
       "      <td>0.0</td>\n",
       "      <td>5</td>\n",
       "    </tr>\n",
       "    <tr>\n",
       "      <th>1</th>\n",
       "      <td>2</td>\n",
       "      <td>4761876</td>\n",
       "      <td>4698439</td>\n",
       "      <td>3</td>\n",
       "      <td>1</td>\n",
       "      <td>0</td>\n",
       "      <td>0.0</td>\n",
       "      <td>0.0</td>\n",
       "      <td>0.0</td>\n",
       "      <td>3</td>\n",
       "    </tr>\n",
       "    <tr>\n",
       "      <th>2</th>\n",
       "      <td>3</td>\n",
       "      <td>4198430</td>\n",
       "      <td>3615486</td>\n",
       "      <td>5</td>\n",
       "      <td>1</td>\n",
       "      <td>0</td>\n",
       "      <td>0.0</td>\n",
       "      <td>0.0</td>\n",
       "      <td>0.0</td>\n",
       "      <td>5</td>\n",
       "    </tr>\n",
       "  </tbody>\n",
       "</table>\n",
       "</div>"
      ],
      "text/plain": [
       "   Id     From       To  source_degree  sink_degree  common_neighbours  \\\n",
       "0   1  3360982  4457271              1            5                  0   \n",
       "1   2  4761876  4698439              3            1                  0   \n",
       "2   3  4198430  3615486              5            1                  0   \n",
       "\n",
       "   ra_index  jaccard_coef  aa_index  pref_attach  \n",
       "0       0.0           0.0       0.0            5  \n",
       "1       0.0           0.0       0.0            3  \n",
       "2       0.0           0.0       0.0            5  "
      ]
     },
     "execution_count": 18,
     "metadata": {},
     "output_type": "execute_result"
    }
   ],
   "source": [
    "test_edge_list = list(zip(test_df['From'].tolist(), test_df['To'].tolist()))\n",
    "test_nodes_list = list(set(test_df['From'].tolist()).union(set(test_df['To'].tolist())))\n",
    "#G.add_edges_from(test_edge_list)\n",
    "G.add_nodes_from(test_nodes_list)\n",
    "\n",
    "test_df['source_degree'] = test_df['From'].apply(lambda x : G.degree(x))\n",
    "test_df['sink_degree'] = test_df['To'].apply(lambda x : G.degree(x))\n",
    "test_df['common_neighbours'] = [len(set(nx.common_neighbors(G, u, v))) for u, v in test_edge_list]\n",
    "\n",
    "ra_index_generator = nx.resource_allocation_index(G, test_edge_list)\n",
    "ra_index = [x for _,_,x in ra_index_generator]\n",
    "test_df['ra_index'] = ra_index\n",
    "\n",
    "jaccard_coef_generator = nx.jaccard_coefficient(G, test_edge_list)\n",
    "jaccard_coef = [x for _,_,x in jaccard_coef_generator]\n",
    "test_df['jaccard_coef'] = jaccard_coef\n",
    "\n",
    "aa_index_generator = nx.adamic_adar_index(G, test_edge_list)\n",
    "aa_index = [x for _,_,x in aa_index_generator]\n",
    "test_df['aa_index'] = aa_index\n",
    "\n",
    "pa_generator = nx.preferential_attachment(G, test_edge_list)\n",
    "pref_attach = [x for _,_,x in pa_generator]\n",
    "test_df['pref_attach'] = pref_attach\n",
    "\n",
    "# kc_generator = nx.katz_centrality_numpy(G)\n",
    "# katz_cent = {}\n",
    "# for n,kc in sorted(kc_generator.items()):\n",
    "#     katz_cent[n] = kc\n",
    "# test_df['katz_cent'] = test_df['From'].apply(lambda x : katz_cent[x])\n",
    "\n",
    "test_df.head(3)"
   ]
  },
  {
   "cell_type": "code",
   "execution_count": 19,
   "id": "d72e411c-418c-4e73-8367-070024f66f40",
   "metadata": {},
   "outputs": [],
   "source": [
    "X_test = scaler.transform(test_df.drop(['From','To','Id'], axis=1))"
   ]
  },
  {
   "cell_type": "code",
   "execution_count": 20,
   "id": "dc7aecea-6264-4755-9555-ed633d81e0ef",
   "metadata": {},
   "outputs": [],
   "source": [
    "output_df = test_df.copy()\n",
    "output_df.drop(['From' ,'To','source_degree','common_neighbours','sink_degree', 'ra_index', 'jaccard_coef', 'aa_index', 'pref_attach'], axis = 1, inplace = True)"
   ]
  },
  {
   "cell_type": "markdown",
   "id": "bf0fa2bc-6a24-4554-97a1-b7475fdf43f2",
   "metadata": {},
   "source": [
    "### Prediction"
   ]
  },
  {
   "cell_type": "code",
   "execution_count": 21,
   "id": "b8bb7580-dc56-427c-86aa-7f9c2fdc7745",
   "metadata": {},
   "outputs": [],
   "source": [
    "output_df['Predictions'] = np.transpose(model.predict_proba(X_test))[1]"
   ]
  },
  {
   "cell_type": "code",
   "execution_count": 22,
   "id": "c90af30b-773f-44b8-a67a-d35a119a0ca5",
   "metadata": {},
   "outputs": [
    {
     "data": {
      "text/plain": [
       "0    1296\n",
       "1     704\n",
       "Name: count, dtype: int64"
      ]
     },
     "execution_count": 22,
     "metadata": {},
     "output_type": "execute_result"
    }
   ],
   "source": [
    "pd.Series(model.predict(X_test)).value_counts()"
   ]
  },
  {
   "cell_type": "code",
   "execution_count": 23,
   "id": "981f9581-2d8c-4db8-9325-e27baa3aac68",
   "metadata": {},
   "outputs": [
    {
     "data": {
      "text/plain": [
       "array([0, 0, 1, ..., 0, 0, 0], dtype=int64)"
      ]
     },
     "execution_count": 23,
     "metadata": {},
     "output_type": "execute_result"
    }
   ],
   "source": [
    "model.predict(X_test)"
   ]
  },
  {
   "cell_type": "code",
   "execution_count": 24,
   "id": "666903de-3f7f-4365-abda-60156856f1d0",
   "metadata": {},
   "outputs": [
    {
     "data": {
      "text/html": [
       "<div>\n",
       "<style scoped>\n",
       "    .dataframe tbody tr th:only-of-type {\n",
       "        vertical-align: middle;\n",
       "    }\n",
       "\n",
       "    .dataframe tbody tr th {\n",
       "        vertical-align: top;\n",
       "    }\n",
       "\n",
       "    .dataframe thead th {\n",
       "        text-align: right;\n",
       "    }\n",
       "</style>\n",
       "<table border=\"1\" class=\"dataframe\">\n",
       "  <thead>\n",
       "    <tr style=\"text-align: right;\">\n",
       "      <th></th>\n",
       "      <th>Id</th>\n",
       "      <th>Predictions</th>\n",
       "    </tr>\n",
       "  </thead>\n",
       "  <tbody>\n",
       "    <tr>\n",
       "      <th>0</th>\n",
       "      <td>1</td>\n",
       "      <td>0.426774</td>\n",
       "    </tr>\n",
       "    <tr>\n",
       "      <th>1</th>\n",
       "      <td>2</td>\n",
       "      <td>0.491334</td>\n",
       "    </tr>\n",
       "    <tr>\n",
       "      <th>2</th>\n",
       "      <td>3</td>\n",
       "      <td>0.660347</td>\n",
       "    </tr>\n",
       "    <tr>\n",
       "      <th>3</th>\n",
       "      <td>4</td>\n",
       "      <td>0.578126</td>\n",
       "    </tr>\n",
       "    <tr>\n",
       "      <th>4</th>\n",
       "      <td>5</td>\n",
       "      <td>0.578126</td>\n",
       "    </tr>\n",
       "  </tbody>\n",
       "</table>\n",
       "</div>"
      ],
      "text/plain": [
       "   Id  Predictions\n",
       "0   1     0.426774\n",
       "1   2     0.491334\n",
       "2   3     0.660347\n",
       "3   4     0.578126\n",
       "4   5     0.578126"
      ]
     },
     "execution_count": 24,
     "metadata": {},
     "output_type": "execute_result"
    }
   ],
   "source": [
    "output_df.head()"
   ]
  },
  {
   "cell_type": "code",
   "execution_count": 25,
   "id": "56505f03-26e0-45f1-bb50-5f01a725d754",
   "metadata": {},
   "outputs": [],
   "source": [
    "today_date = datetime.now().strftime(\"%Y%m%d_%H%M\")\n",
    "output_df.to_csv(f'submissions\\{today_date}_submission.csv', index = False)"
   ]
  },
  {
   "cell_type": "code",
   "execution_count": null,
   "id": "494d12fa-ce1d-481c-a117-9fdd9c165d97",
   "metadata": {},
   "outputs": [],
   "source": []
  }
 ],
 "metadata": {
  "kernelspec": {
   "display_name": "Python 3 (ipykernel)",
   "language": "python",
   "name": "python3"
  },
  "language_info": {
   "codemirror_mode": {
    "name": "ipython",
    "version": 3
   },
   "file_extension": ".py",
   "mimetype": "text/x-python",
   "name": "python",
   "nbconvert_exporter": "python",
   "pygments_lexer": "ipython3",
   "version": "3.11.7"
  }
 },
 "nbformat": 4,
 "nbformat_minor": 5
}
