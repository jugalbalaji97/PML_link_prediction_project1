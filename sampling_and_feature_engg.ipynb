{
 "cells": [
  {
   "cell_type": "markdown",
   "id": "8f74c7bb-d033-4a7c-833a-aab7b5955d66",
   "metadata": {},
   "source": [
    "## Imports"
   ]
  },
  {
   "cell_type": "code",
   "execution_count": 1,
   "id": "ae9752be-7e98-45f6-8054-0620436395d6",
   "metadata": {},
   "outputs": [],
   "source": [
    "import pandas as pd\n",
    "import csv\n",
    "import numpy as np\n",
    "import random\n",
    "#import networkx as nx"
   ]
  },
  {
   "cell_type": "markdown",
   "id": "4b0ac496-a92f-4f3c-8349-8623ef5ff87e",
   "metadata": {},
   "source": [
    "## File Paths"
   ]
  },
  {
   "cell_type": "code",
   "execution_count": 2,
   "id": "1357f1b1-b7b6-46d4-a1b5-26dff84c83c4",
   "metadata": {},
   "outputs": [],
   "source": [
    "train_file = 'train.csv'"
   ]
  },
  {
   "cell_type": "markdown",
   "id": "dbf8c06b-5eb8-4982-9f38-25178c1656ce",
   "metadata": {},
   "source": [
    "## Functions"
   ]
  },
  {
   "cell_type": "code",
   "execution_count": 6,
   "id": "afb29dc6-b048-4f28-b9ab-e97fd9decdf9",
   "metadata": {},
   "outputs": [],
   "source": [
    "def create_edges(adjacency_list : dict):\n",
    "    edges = []\n",
    "    for node in adjacency_list.keys():\n",
    "        for neighbour in adjacency_list[node]:\n",
    "            edges.append([node, neighbour])\n",
    "\n",
    "    return edges"
   ]
  },
  {
   "cell_type": "markdown",
   "id": "69ab76c9-93a2-4001-8d95-ae7079431e96",
   "metadata": {},
   "source": [
    "## Adjacency List"
   ]
  },
  {
   "cell_type": "code",
   "execution_count": 3,
   "id": "02847840-f566-4bc3-9854-4cc0f9280343",
   "metadata": {},
   "outputs": [],
   "source": [
    "adjacency_list = {}\n",
    "with open(train_file, 'r') as csvfile:\n",
    "    reader = csv.reader(csvfile)\n",
    "    for row in reader:\n",
    "        if len(row) > 1:\n",
    "            adjacency_list[row[0]] = row[1:]\n",
    "        else:\n",
    "            adjacency_list[row[0]] = []"
   ]
  },
  {
   "cell_type": "markdown",
   "id": "506c0ee2-cb23-43f2-917a-c4024f8b5187",
   "metadata": {},
   "source": [
    "## Adjacency List Sampled"
   ]
  },
  {
   "cell_type": "code",
   "execution_count": 4,
   "id": "cfacb5c4-ee1a-4b5d-a6fe-16179beaf6f9",
   "metadata": {},
   "outputs": [],
   "source": [
    "adjacency_list_sampled = {}\n",
    "sampling_ratio = 0.001\n",
    "\n",
    "with open(train_file, 'r') as csvfile:\n",
    "    reader = csv.reader(csvfile)\n",
    "    for row in reader:\n",
    "        num_samples = int(len(row) * sampling_ratio)\n",
    "        if len(row) > 1:\n",
    "            adjacency_list_sampled[row[0]] = random.sample(row[1:], num_samples)\n",
    "        else:\n",
    "            adjacency_list_sampled[row[0]] = []"
   ]
  },
  {
   "cell_type": "markdown",
   "id": "46bbba47-e98e-4b42-95e3-e857b0bd0e60",
   "metadata": {},
   "source": [
    "## Sampled Edges Dataframe"
   ]
  },
  {
   "cell_type": "code",
   "execution_count": 7,
   "id": "b0d20080-6c13-49e8-83d2-9ddb122ec843",
   "metadata": {},
   "outputs": [],
   "source": [
    "sampled_edges = create_edges(adjacency_list_sampled)"
   ]
  },
  {
   "cell_type": "code",
   "execution_count": 20,
   "id": "c6025b56-c7b2-42e7-a398-978901532cae",
   "metadata": {},
   "outputs": [
    {
     "data": {
      "text/html": [
       "<div>\n",
       "<style scoped>\n",
       "    .dataframe tbody tr th:only-of-type {\n",
       "        vertical-align: middle;\n",
       "    }\n",
       "\n",
       "    .dataframe tbody tr th {\n",
       "        vertical-align: top;\n",
       "    }\n",
       "\n",
       "    .dataframe thead th {\n",
       "        text-align: right;\n",
       "    }\n",
       "</style>\n",
       "<table border=\"1\" class=\"dataframe\">\n",
       "  <thead>\n",
       "    <tr style=\"text-align: right;\">\n",
       "      <th></th>\n",
       "      <th>source</th>\n",
       "      <th>sink</th>\n",
       "    </tr>\n",
       "  </thead>\n",
       "  <tbody>\n",
       "    <tr>\n",
       "      <th>0</th>\n",
       "      <td>314520</td>\n",
       "      <td>242345</td>\n",
       "    </tr>\n",
       "    <tr>\n",
       "      <th>1</th>\n",
       "      <td>314520</td>\n",
       "      <td>4046894</td>\n",
       "    </tr>\n",
       "    <tr>\n",
       "      <th>2</th>\n",
       "      <td>314520</td>\n",
       "      <td>1941441</td>\n",
       "    </tr>\n",
       "    <tr>\n",
       "      <th>3</th>\n",
       "      <td>314520</td>\n",
       "      <td>312484</td>\n",
       "    </tr>\n",
       "    <tr>\n",
       "      <th>4</th>\n",
       "      <td>314520</td>\n",
       "      <td>4163509</td>\n",
       "    </tr>\n",
       "  </tbody>\n",
       "</table>\n",
       "</div>"
      ],
      "text/plain": [
       "   source     sink\n",
       "0  314520   242345\n",
       "1  314520  4046894\n",
       "2  314520  1941441\n",
       "3  314520   312484\n",
       "4  314520  4163509"
      ]
     },
     "execution_count": 20,
     "metadata": {},
     "output_type": "execute_result"
    }
   ],
   "source": [
    "sampled_edges_df = pd.DataFrame(sampled_edges, columns = ['source', 'sink'])\n",
    "sampled_edges_df.head()"
   ]
  },
  {
   "cell_type": "code",
   "execution_count": 24,
   "id": "fff31c06-e451-416a-9eb1-44ace54e778a",
   "metadata": {},
   "outputs": [
    {
     "data": {
      "text/html": [
       "<div>\n",
       "<style scoped>\n",
       "    .dataframe tbody tr th:only-of-type {\n",
       "        vertical-align: middle;\n",
       "    }\n",
       "\n",
       "    .dataframe tbody tr th {\n",
       "        vertical-align: top;\n",
       "    }\n",
       "\n",
       "    .dataframe thead th {\n",
       "        text-align: right;\n",
       "    }\n",
       "</style>\n",
       "<table border=\"1\" class=\"dataframe\">\n",
       "  <thead>\n",
       "    <tr style=\"text-align: right;\">\n",
       "      <th></th>\n",
       "      <th>source</th>\n",
       "      <th>sink</th>\n",
       "      <th>source_degree</th>\n",
       "    </tr>\n",
       "  </thead>\n",
       "  <tbody>\n",
       "    <tr>\n",
       "      <th>0</th>\n",
       "      <td>314520</td>\n",
       "      <td>242345</td>\n",
       "      <td>764195</td>\n",
       "    </tr>\n",
       "    <tr>\n",
       "      <th>1</th>\n",
       "      <td>314520</td>\n",
       "      <td>4046894</td>\n",
       "      <td>764195</td>\n",
       "    </tr>\n",
       "    <tr>\n",
       "      <th>2</th>\n",
       "      <td>314520</td>\n",
       "      <td>1941441</td>\n",
       "      <td>764195</td>\n",
       "    </tr>\n",
       "    <tr>\n",
       "      <th>3</th>\n",
       "      <td>314520</td>\n",
       "      <td>312484</td>\n",
       "      <td>764195</td>\n",
       "    </tr>\n",
       "    <tr>\n",
       "      <th>4</th>\n",
       "      <td>314520</td>\n",
       "      <td>4163509</td>\n",
       "      <td>764195</td>\n",
       "    </tr>\n",
       "  </tbody>\n",
       "</table>\n",
       "</div>"
      ],
      "text/plain": [
       "   source     sink  source_degree\n",
       "0  314520   242345         764195\n",
       "1  314520  4046894         764195\n",
       "2  314520  1941441         764195\n",
       "3  314520   312484         764195\n",
       "4  314520  4163509         764195"
      ]
     },
     "execution_count": 24,
     "metadata": {},
     "output_type": "execute_result"
    }
   ],
   "source": [
    "sampled_edges_df['source_degree'] = sampled_edges_df['source'].apply(lambda x : len(adjacency_list[x]))\n",
    "sampled_edges_df.head()"
   ]
  },
  {
   "cell_type": "markdown",
   "id": "81b39896-721a-492c-a459-96a6d3957c42",
   "metadata": {},
   "source": [
    "## Playground"
   ]
  },
  {
   "cell_type": "code",
   "execution_count": 5,
   "id": "3c089f55-e7b2-47ad-b312-a29cc8faa621",
   "metadata": {},
   "outputs": [
    {
     "data": {
      "text/plain": [
       "764"
      ]
     },
     "execution_count": 5,
     "metadata": {},
     "output_type": "execute_result"
    }
   ],
   "source": [
    "len(adjacency_list_sampled['314520'])"
   ]
  },
  {
   "cell_type": "code",
   "execution_count": 7,
   "id": "d8b5e259-537a-43b7-9095-3a46d42a62d7",
   "metadata": {},
   "outputs": [],
   "source": [
    "features_dict = {\n",
    "    'node' : [],\n",
    "    'out_degree' : []\n",
    "}\n",
    "with open(train_file, 'r') as csvfile:\n",
    "    reader = csv.reader(csvfile)\n",
    "    for row in reader:\n",
    "        features_dict['node'].append(row[0])\n",
    "        features_dict['out_degree'].append(len(row)-1)"
   ]
  },
  {
   "cell_type": "code",
   "execution_count": 4,
   "id": "2ddb2df7-c893-46cb-9b43-56f9d517b745",
   "metadata": {},
   "outputs": [
    {
     "data": {
      "text/html": [
       "<div>\n",
       "<style scoped>\n",
       "    .dataframe tbody tr th:only-of-type {\n",
       "        vertical-align: middle;\n",
       "    }\n",
       "\n",
       "    .dataframe tbody tr th {\n",
       "        vertical-align: top;\n",
       "    }\n",
       "\n",
       "    .dataframe thead th {\n",
       "        text-align: right;\n",
       "    }\n",
       "</style>\n",
       "<table border=\"1\" class=\"dataframe\">\n",
       "  <thead>\n",
       "    <tr style=\"text-align: right;\">\n",
       "      <th></th>\n",
       "      <th>node</th>\n",
       "      <th>out_degree</th>\n",
       "    </tr>\n",
       "  </thead>\n",
       "  <tbody>\n",
       "    <tr>\n",
       "      <th>687794</th>\n",
       "      <td>687794</td>\n",
       "      <td>143</td>\n",
       "    </tr>\n",
       "    <tr>\n",
       "      <th>2712371</th>\n",
       "      <td>2712371</td>\n",
       "      <td>21</td>\n",
       "    </tr>\n",
       "    <tr>\n",
       "      <th>314520</th>\n",
       "      <td>314520</td>\n",
       "      <td>764195</td>\n",
       "    </tr>\n",
       "    <tr>\n",
       "      <th>49007</th>\n",
       "      <td>49007</td>\n",
       "      <td>297</td>\n",
       "    </tr>\n",
       "    <tr>\n",
       "      <th>4505542</th>\n",
       "      <td>4505542</td>\n",
       "      <td>3808</td>\n",
       "    </tr>\n",
       "  </tbody>\n",
       "</table>\n",
       "</div>"
      ],
      "text/plain": [
       "            node  out_degree\n",
       "687794    687794         143\n",
       "2712371  2712371          21\n",
       "314520    314520      764195\n",
       "49007      49007         297\n",
       "4505542  4505542        3808"
      ]
     },
     "execution_count": 4,
     "metadata": {},
     "output_type": "execute_result"
    }
   ],
   "source": [
    "features_df = pd.DataFrame(features_dict, index = features_dict['node'])\n",
    "features_df.head()"
   ]
  },
  {
   "cell_type": "code",
   "execution_count": 21,
   "id": "75849a4f-58a1-494d-b743-31c0bfd7e65a",
   "metadata": {},
   "outputs": [
    {
     "data": {
      "text/plain": [
       "20000"
      ]
     },
     "execution_count": 21,
     "metadata": {},
     "output_type": "execute_result"
    }
   ],
   "source": [
    "len(adjacency_list.keys())"
   ]
  },
  {
   "cell_type": "code",
   "execution_count": 14,
   "id": "63f60be6-20a4-49e0-9742-a21c98396d52",
   "metadata": {},
   "outputs": [
    {
     "data": {
      "text/plain": [
       "764195"
      ]
     },
     "execution_count": 14,
     "metadata": {},
     "output_type": "execute_result"
    }
   ],
   "source": [
    "len(adjacency_list['314520'])"
   ]
  },
  {
   "cell_type": "code",
   "execution_count": 38,
   "id": "f979e934-95d5-4951-8f85-ec12b220dd7a",
   "metadata": {},
   "outputs": [
    {
     "data": {
      "text/plain": [
       "2099"
      ]
     },
     "execution_count": 38,
     "metadata": {},
     "output_type": "execute_result"
    }
   ],
   "source": [
    "np.sum(features_df['out_degree'] > 1500)"
   ]
  },
  {
   "cell_type": "code",
   "execution_count": 6,
   "id": "2476e126-a6a8-495f-8004-d803010c1bd9",
   "metadata": {},
   "outputs": [],
   "source": [
    "import networkx as nx"
   ]
  },
  {
   "cell_type": "code",
   "execution_count": null,
   "id": "b3a8abd9-2be3-4f62-bc7c-b5573324800b",
   "metadata": {},
   "outputs": [],
   "source": [
    "G = nx.read_adjlist(\"train.csv\", delimiter=\",\")"
   ]
  },
  {
   "cell_type": "code",
   "execution_count": 9,
   "id": "8bc05a68-d7b0-4ae8-9f7f-a251a1869221",
   "metadata": {},
   "outputs": [
    {
     "data": {
      "text/plain": [
       "<networkx.classes.graph.Graph at 0x2049b2bf6d0>"
      ]
     },
     "execution_count": 9,
     "metadata": {},
     "output_type": "execute_result"
    }
   ],
   "source": [
    "G"
   ]
  },
  {
   "cell_type": "code",
   "execution_count": 10,
   "id": "a55f35a5-843f-463a-960b-157b9bfafe2f",
   "metadata": {},
   "outputs": [
    {
     "data": {
      "text/plain": [
       "20000"
      ]
     },
     "execution_count": 10,
     "metadata": {},
     "output_type": "execute_result"
    }
   ],
   "source": [
    "G.number_of_nodes()"
   ]
  },
  {
   "cell_type": "code",
   "execution_count": 11,
   "id": "bcff8685-6ac9-4f00-b52f-41fd03eba5c5",
   "metadata": {},
   "outputs": [
    {
     "data": {
      "text/plain": [
       "0"
      ]
     },
     "execution_count": 11,
     "metadata": {},
     "output_type": "execute_result"
    }
   ],
   "source": [
    "G.number_of_edges()"
   ]
  },
  {
   "cell_type": "code",
   "execution_count": 8,
   "id": "f2675d6f-7272-4353-813a-5860107c1028",
   "metadata": {},
   "outputs": [
    {
     "name": "stdout",
     "output_type": "stream",
     "text": [
      "Size of the list: 5600056 bytes\n"
     ]
    }
   ],
   "source": [
    "large_list = list(range(700000))\n",
    "\n",
    "# Check the size of the list in bytes\n",
    "import sys\n",
    "print(\"Size of the list: {} bytes\".format(sys.getsizeof(large_list)))"
   ]
  },
  {
   "cell_type": "code",
   "execution_count": null,
   "id": "a8834c1a-b254-43be-9799-7d1e5941d29c",
   "metadata": {},
   "outputs": [],
   "source": []
  }
 ],
 "metadata": {
  "kernelspec": {
   "display_name": "Python 3 (ipykernel)",
   "language": "python",
   "name": "python3"
  },
  "language_info": {
   "codemirror_mode": {
    "name": "ipython",
    "version": 3
   },
   "file_extension": ".py",
   "mimetype": "text/x-python",
   "name": "python",
   "nbconvert_exporter": "python",
   "pygments_lexer": "ipython3",
   "version": "3.11.7"
  }
 },
 "nbformat": 4,
 "nbformat_minor": 5
}
