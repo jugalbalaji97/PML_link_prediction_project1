{
 "cells": [
  {
   "cell_type": "code",
   "execution_count": 1,
   "id": "bb474d58-111e-415a-abaa-15ca9938ed1c",
   "metadata": {},
   "outputs": [],
   "source": [
    "import pandas as pd\n",
    "import csv\n",
    "import numpy as np\n",
    "import random\n",
    "import numpy as np\n",
    "from datetime import datetime\n",
    "import networkx as nx"
   ]
  },
  {
   "cell_type": "markdown",
   "id": "95533385-bbfc-462f-b828-f8fc7fd246c5",
   "metadata": {},
   "source": [
    "### Loading Edges Dataframe"
   ]
  },
  {
   "cell_type": "code",
   "execution_count": 37,
   "id": "14fa805e-cd0d-450b-a3b4-2f28b3e4d1aa",
   "metadata": {},
   "outputs": [
    {
     "data": {
      "text/html": [
       "<div>\n",
       "<style scoped>\n",
       "    .dataframe tbody tr th:only-of-type {\n",
       "        vertical-align: middle;\n",
       "    }\n",
       "\n",
       "    .dataframe tbody tr th {\n",
       "        vertical-align: top;\n",
       "    }\n",
       "\n",
       "    .dataframe thead th {\n",
       "        text-align: right;\n",
       "    }\n",
       "</style>\n",
       "<table border=\"1\" class=\"dataframe\">\n",
       "  <thead>\n",
       "    <tr style=\"text-align: right;\">\n",
       "      <th></th>\n",
       "      <th>source</th>\n",
       "      <th>sink</th>\n",
       "      <th>label</th>\n",
       "    </tr>\n",
       "  </thead>\n",
       "  <tbody>\n",
       "    <tr>\n",
       "      <th>0</th>\n",
       "      <td>1276050</td>\n",
       "      <td>4115397</td>\n",
       "      <td>1</td>\n",
       "    </tr>\n",
       "    <tr>\n",
       "      <th>1</th>\n",
       "      <td>376726</td>\n",
       "      <td>652404</td>\n",
       "      <td>1</td>\n",
       "    </tr>\n",
       "    <tr>\n",
       "      <th>2</th>\n",
       "      <td>4243429</td>\n",
       "      <td>2819456</td>\n",
       "      <td>1</td>\n",
       "    </tr>\n",
       "  </tbody>\n",
       "</table>\n",
       "</div>"
      ],
      "text/plain": [
       "    source     sink  label\n",
       "0  1276050  4115397      1\n",
       "1   376726   652404      1\n",
       "2  4243429  2819456      1"
      ]
     },
     "execution_count": 37,
     "metadata": {},
     "output_type": "execute_result"
    }
   ],
   "source": [
    "edges_df = pd.read_csv(\"data/20240301_2119_sampled_edges.csv\")\n",
    "edges_df.head(3)"
   ]
  },
  {
   "cell_type": "code",
   "execution_count": 38,
   "id": "8fb318d7-0321-4204-b538-b22f96534cab",
   "metadata": {},
   "outputs": [
    {
     "data": {
      "text/plain": [
       "(143047, 3)"
      ]
     },
     "execution_count": 38,
     "metadata": {},
     "output_type": "execute_result"
    }
   ],
   "source": [
    "edges_df.shape"
   ]
  },
  {
   "cell_type": "code",
   "execution_count": 39,
   "id": "2e1e10b8-e4f4-435d-85a4-fb24032255b5",
   "metadata": {},
   "outputs": [
    {
     "data": {
      "text/plain": [
       "label\n",
       "1    73047\n",
       "0    70000\n",
       "Name: count, dtype: int64"
      ]
     },
     "execution_count": 39,
     "metadata": {},
     "output_type": "execute_result"
    }
   ],
   "source": [
    "edges_df.label.value_counts()"
   ]
  },
  {
   "cell_type": "markdown",
   "id": "81efea88-f4c9-447b-a0cf-505111602d40",
   "metadata": {},
   "source": [
    "### Loading Sampled Graph"
   ]
  },
  {
   "cell_type": "code",
   "execution_count": 40,
   "id": "8ca58ea8-a77d-437e-a9e6-a7767a088e94",
   "metadata": {},
   "outputs": [
    {
     "name": "stdout",
     "output_type": "stream",
     "text": [
      "138794\n"
     ]
    }
   ],
   "source": [
    "G = nx.read_graphml(\"data/20240301_2119_sampled_graph.graphml\", node_type = int)\n",
    "print(len(G.edges()))"
   ]
  },
  {
   "cell_type": "markdown",
   "id": "5d97fb2c-8c73-46a0-bfe5-8a4756183c30",
   "metadata": {},
   "source": [
    "### Features"
   ]
  },
  {
   "cell_type": "code",
   "execution_count": 41,
   "id": "5ecd0d7d-b5fb-44d0-a96d-7f97092e31ee",
   "metadata": {},
   "outputs": [],
   "source": [
    "train_df = edges_df.copy()"
   ]
  },
  {
   "cell_type": "code",
   "execution_count": 42,
   "id": "2d9c9e0f-28bb-49f0-a842-f727697ba1fc",
   "metadata": {},
   "outputs": [],
   "source": [
    "edges_list = list(zip(train_df['source'].tolist(), train_df['sink'].tolist()))"
   ]
  },
  {
   "cell_type": "markdown",
   "id": "be0b56ac-56b2-45a8-901e-f04983c562c2",
   "metadata": {},
   "source": [
    "#### Feature 1: Source Degree"
   ]
  },
  {
   "cell_type": "code",
   "execution_count": 43,
   "id": "315bc14e-41a9-4c40-87b6-722fda461862",
   "metadata": {},
   "outputs": [
    {
     "data": {
      "text/html": [
       "<div>\n",
       "<style scoped>\n",
       "    .dataframe tbody tr th:only-of-type {\n",
       "        vertical-align: middle;\n",
       "    }\n",
       "\n",
       "    .dataframe tbody tr th {\n",
       "        vertical-align: top;\n",
       "    }\n",
       "\n",
       "    .dataframe thead th {\n",
       "        text-align: right;\n",
       "    }\n",
       "</style>\n",
       "<table border=\"1\" class=\"dataframe\">\n",
       "  <thead>\n",
       "    <tr style=\"text-align: right;\">\n",
       "      <th></th>\n",
       "      <th>source</th>\n",
       "      <th>sink</th>\n",
       "      <th>label</th>\n",
       "      <th>source_degree</th>\n",
       "    </tr>\n",
       "  </thead>\n",
       "  <tbody>\n",
       "    <tr>\n",
       "      <th>0</th>\n",
       "      <td>1276050</td>\n",
       "      <td>4115397</td>\n",
       "      <td>1</td>\n",
       "      <td>6</td>\n",
       "    </tr>\n",
       "    <tr>\n",
       "      <th>1</th>\n",
       "      <td>376726</td>\n",
       "      <td>652404</td>\n",
       "      <td>1</td>\n",
       "      <td>3</td>\n",
       "    </tr>\n",
       "    <tr>\n",
       "      <th>2</th>\n",
       "      <td>4243429</td>\n",
       "      <td>2819456</td>\n",
       "      <td>1</td>\n",
       "      <td>8</td>\n",
       "    </tr>\n",
       "  </tbody>\n",
       "</table>\n",
       "</div>"
      ],
      "text/plain": [
       "    source     sink  label  source_degree\n",
       "0  1276050  4115397      1              6\n",
       "1   376726   652404      1              3\n",
       "2  4243429  2819456      1              8"
      ]
     },
     "execution_count": 43,
     "metadata": {},
     "output_type": "execute_result"
    }
   ],
   "source": [
    "train_df['source_degree'] = train_df['source'].apply(lambda x : G.degree(x))\n",
    "train_df.head(3)"
   ]
  },
  {
   "cell_type": "markdown",
   "id": "53412990-a0e8-41f3-8426-b68cd525b9f8",
   "metadata": {},
   "source": [
    "#### Feature 2: Sink Degree"
   ]
  },
  {
   "cell_type": "code",
   "execution_count": 44,
   "id": "c9b1313f-fdc0-4ffc-9efe-ccd852f3c7cc",
   "metadata": {},
   "outputs": [
    {
     "data": {
      "text/html": [
       "<div>\n",
       "<style scoped>\n",
       "    .dataframe tbody tr th:only-of-type {\n",
       "        vertical-align: middle;\n",
       "    }\n",
       "\n",
       "    .dataframe tbody tr th {\n",
       "        vertical-align: top;\n",
       "    }\n",
       "\n",
       "    .dataframe thead th {\n",
       "        text-align: right;\n",
       "    }\n",
       "</style>\n",
       "<table border=\"1\" class=\"dataframe\">\n",
       "  <thead>\n",
       "    <tr style=\"text-align: right;\">\n",
       "      <th></th>\n",
       "      <th>source</th>\n",
       "      <th>sink</th>\n",
       "      <th>label</th>\n",
       "      <th>source_degree</th>\n",
       "      <th>sink_degree</th>\n",
       "    </tr>\n",
       "  </thead>\n",
       "  <tbody>\n",
       "    <tr>\n",
       "      <th>0</th>\n",
       "      <td>1276050</td>\n",
       "      <td>4115397</td>\n",
       "      <td>1</td>\n",
       "      <td>6</td>\n",
       "      <td>4</td>\n",
       "    </tr>\n",
       "    <tr>\n",
       "      <th>1</th>\n",
       "      <td>376726</td>\n",
       "      <td>652404</td>\n",
       "      <td>1</td>\n",
       "      <td>3</td>\n",
       "      <td>4</td>\n",
       "    </tr>\n",
       "    <tr>\n",
       "      <th>2</th>\n",
       "      <td>4243429</td>\n",
       "      <td>2819456</td>\n",
       "      <td>1</td>\n",
       "      <td>8</td>\n",
       "      <td>7</td>\n",
       "    </tr>\n",
       "  </tbody>\n",
       "</table>\n",
       "</div>"
      ],
      "text/plain": [
       "    source     sink  label  source_degree  sink_degree\n",
       "0  1276050  4115397      1              6            4\n",
       "1   376726   652404      1              3            4\n",
       "2  4243429  2819456      1              8            7"
      ]
     },
     "execution_count": 44,
     "metadata": {},
     "output_type": "execute_result"
    }
   ],
   "source": [
    "train_df['sink_degree'] = train_df['sink'].apply(lambda x : G.degree(x))\n",
    "train_df.head(3)"
   ]
  },
  {
   "cell_type": "markdown",
   "id": "c59f0ea5-ad7e-4121-9621-2fb7f5c6dc2f",
   "metadata": {},
   "source": [
    "#### Feature 3: Common Neighbours"
   ]
  },
  {
   "cell_type": "code",
   "execution_count": 45,
   "id": "9afbc811-287c-40ff-9825-179afbc8351a",
   "metadata": {},
   "outputs": [
    {
     "data": {
      "text/html": [
       "<div>\n",
       "<style scoped>\n",
       "    .dataframe tbody tr th:only-of-type {\n",
       "        vertical-align: middle;\n",
       "    }\n",
       "\n",
       "    .dataframe tbody tr th {\n",
       "        vertical-align: top;\n",
       "    }\n",
       "\n",
       "    .dataframe thead th {\n",
       "        text-align: right;\n",
       "    }\n",
       "</style>\n",
       "<table border=\"1\" class=\"dataframe\">\n",
       "  <thead>\n",
       "    <tr style=\"text-align: right;\">\n",
       "      <th></th>\n",
       "      <th>source</th>\n",
       "      <th>sink</th>\n",
       "      <th>label</th>\n",
       "      <th>source_degree</th>\n",
       "      <th>sink_degree</th>\n",
       "      <th>common_neighbours</th>\n",
       "    </tr>\n",
       "  </thead>\n",
       "  <tbody>\n",
       "    <tr>\n",
       "      <th>0</th>\n",
       "      <td>1276050</td>\n",
       "      <td>4115397</td>\n",
       "      <td>1</td>\n",
       "      <td>6</td>\n",
       "      <td>4</td>\n",
       "      <td>0</td>\n",
       "    </tr>\n",
       "    <tr>\n",
       "      <th>1</th>\n",
       "      <td>376726</td>\n",
       "      <td>652404</td>\n",
       "      <td>1</td>\n",
       "      <td>3</td>\n",
       "      <td>4</td>\n",
       "      <td>0</td>\n",
       "    </tr>\n",
       "    <tr>\n",
       "      <th>2</th>\n",
       "      <td>4243429</td>\n",
       "      <td>2819456</td>\n",
       "      <td>1</td>\n",
       "      <td>8</td>\n",
       "      <td>7</td>\n",
       "      <td>0</td>\n",
       "    </tr>\n",
       "  </tbody>\n",
       "</table>\n",
       "</div>"
      ],
      "text/plain": [
       "    source     sink  label  source_degree  sink_degree  common_neighbours\n",
       "0  1276050  4115397      1              6            4                  0\n",
       "1   376726   652404      1              3            4                  0\n",
       "2  4243429  2819456      1              8            7                  0"
      ]
     },
     "execution_count": 45,
     "metadata": {},
     "output_type": "execute_result"
    }
   ],
   "source": [
    "train_df['common_neighbours'] = [len(set(nx.common_neighbors(G, u, v))) for u, v in edges_list]\n",
    "train_df.head(3)"
   ]
  },
  {
   "cell_type": "markdown",
   "id": "cf7533c8-4df9-47d4-98f5-b04bf37fdc43",
   "metadata": {},
   "source": [
    "#### Feature 4: Resource Allocation Index"
   ]
  },
  {
   "cell_type": "code",
   "execution_count": 46,
   "id": "744700d0-b43d-4a41-a551-7007cc779f70",
   "metadata": {},
   "outputs": [],
   "source": [
    "ra_index_generator = nx.resource_allocation_index(G, edges_list)\n",
    "ra_index = [x for _,_,x in ra_index_generator]"
   ]
  },
  {
   "cell_type": "code",
   "execution_count": 47,
   "id": "297b8b6e-d6ac-40ab-8980-ce15d9ad9278",
   "metadata": {},
   "outputs": [
    {
     "data": {
      "text/html": [
       "<div>\n",
       "<style scoped>\n",
       "    .dataframe tbody tr th:only-of-type {\n",
       "        vertical-align: middle;\n",
       "    }\n",
       "\n",
       "    .dataframe tbody tr th {\n",
       "        vertical-align: top;\n",
       "    }\n",
       "\n",
       "    .dataframe thead th {\n",
       "        text-align: right;\n",
       "    }\n",
       "</style>\n",
       "<table border=\"1\" class=\"dataframe\">\n",
       "  <thead>\n",
       "    <tr style=\"text-align: right;\">\n",
       "      <th></th>\n",
       "      <th>source</th>\n",
       "      <th>sink</th>\n",
       "      <th>label</th>\n",
       "      <th>source_degree</th>\n",
       "      <th>sink_degree</th>\n",
       "      <th>common_neighbours</th>\n",
       "      <th>ra_index</th>\n",
       "    </tr>\n",
       "  </thead>\n",
       "  <tbody>\n",
       "    <tr>\n",
       "      <th>0</th>\n",
       "      <td>1276050</td>\n",
       "      <td>4115397</td>\n",
       "      <td>1</td>\n",
       "      <td>6</td>\n",
       "      <td>4</td>\n",
       "      <td>0</td>\n",
       "      <td>0.0</td>\n",
       "    </tr>\n",
       "    <tr>\n",
       "      <th>1</th>\n",
       "      <td>376726</td>\n",
       "      <td>652404</td>\n",
       "      <td>1</td>\n",
       "      <td>3</td>\n",
       "      <td>4</td>\n",
       "      <td>0</td>\n",
       "      <td>0.0</td>\n",
       "    </tr>\n",
       "    <tr>\n",
       "      <th>2</th>\n",
       "      <td>4243429</td>\n",
       "      <td>2819456</td>\n",
       "      <td>1</td>\n",
       "      <td>8</td>\n",
       "      <td>7</td>\n",
       "      <td>0</td>\n",
       "      <td>0.0</td>\n",
       "    </tr>\n",
       "  </tbody>\n",
       "</table>\n",
       "</div>"
      ],
      "text/plain": [
       "    source     sink  label  source_degree  sink_degree  common_neighbours  \\\n",
       "0  1276050  4115397      1              6            4                  0   \n",
       "1   376726   652404      1              3            4                  0   \n",
       "2  4243429  2819456      1              8            7                  0   \n",
       "\n",
       "   ra_index  \n",
       "0       0.0  \n",
       "1       0.0  \n",
       "2       0.0  "
      ]
     },
     "execution_count": 47,
     "metadata": {},
     "output_type": "execute_result"
    }
   ],
   "source": [
    "train_df['ra_index'] = ra_index\n",
    "train_df.head(3)"
   ]
  },
  {
   "cell_type": "markdown",
   "id": "fa92cec9-3fda-495e-ab3e-8febb24565d9",
   "metadata": {},
   "source": [
    "#### Feature 5: Jaccard Coefficient"
   ]
  },
  {
   "cell_type": "code",
   "execution_count": 48,
   "id": "38a537ad-c387-4655-990e-085817a5493b",
   "metadata": {},
   "outputs": [],
   "source": [
    "jaccard_coef_generator = nx.jaccard_coefficient(G, edges_list)\n",
    "jaccard_coef = [x for _,_,x in jaccard_coef_generator]"
   ]
  },
  {
   "cell_type": "code",
   "execution_count": 49,
   "id": "64e6f4d2-c997-4eb1-9113-5507ca7fba95",
   "metadata": {},
   "outputs": [
    {
     "data": {
      "text/html": [
       "<div>\n",
       "<style scoped>\n",
       "    .dataframe tbody tr th:only-of-type {\n",
       "        vertical-align: middle;\n",
       "    }\n",
       "\n",
       "    .dataframe tbody tr th {\n",
       "        vertical-align: top;\n",
       "    }\n",
       "\n",
       "    .dataframe thead th {\n",
       "        text-align: right;\n",
       "    }\n",
       "</style>\n",
       "<table border=\"1\" class=\"dataframe\">\n",
       "  <thead>\n",
       "    <tr style=\"text-align: right;\">\n",
       "      <th></th>\n",
       "      <th>source</th>\n",
       "      <th>sink</th>\n",
       "      <th>label</th>\n",
       "      <th>source_degree</th>\n",
       "      <th>sink_degree</th>\n",
       "      <th>common_neighbours</th>\n",
       "      <th>ra_index</th>\n",
       "      <th>jaccard_coef</th>\n",
       "    </tr>\n",
       "  </thead>\n",
       "  <tbody>\n",
       "    <tr>\n",
       "      <th>0</th>\n",
       "      <td>1276050</td>\n",
       "      <td>4115397</td>\n",
       "      <td>1</td>\n",
       "      <td>6</td>\n",
       "      <td>4</td>\n",
       "      <td>0</td>\n",
       "      <td>0.0</td>\n",
       "      <td>0.0</td>\n",
       "    </tr>\n",
       "    <tr>\n",
       "      <th>1</th>\n",
       "      <td>376726</td>\n",
       "      <td>652404</td>\n",
       "      <td>1</td>\n",
       "      <td>3</td>\n",
       "      <td>4</td>\n",
       "      <td>0</td>\n",
       "      <td>0.0</td>\n",
       "      <td>0.0</td>\n",
       "    </tr>\n",
       "    <tr>\n",
       "      <th>2</th>\n",
       "      <td>4243429</td>\n",
       "      <td>2819456</td>\n",
       "      <td>1</td>\n",
       "      <td>8</td>\n",
       "      <td>7</td>\n",
       "      <td>0</td>\n",
       "      <td>0.0</td>\n",
       "      <td>0.0</td>\n",
       "    </tr>\n",
       "  </tbody>\n",
       "</table>\n",
       "</div>"
      ],
      "text/plain": [
       "    source     sink  label  source_degree  sink_degree  common_neighbours  \\\n",
       "0  1276050  4115397      1              6            4                  0   \n",
       "1   376726   652404      1              3            4                  0   \n",
       "2  4243429  2819456      1              8            7                  0   \n",
       "\n",
       "   ra_index  jaccard_coef  \n",
       "0       0.0           0.0  \n",
       "1       0.0           0.0  \n",
       "2       0.0           0.0  "
      ]
     },
     "execution_count": 49,
     "metadata": {},
     "output_type": "execute_result"
    }
   ],
   "source": [
    "train_df['jaccard_coef'] = jaccard_coef\n",
    "train_df.head(3)"
   ]
  },
  {
   "cell_type": "markdown",
   "id": "c3d4d8b1-9848-4dc9-863e-f44e86e299a3",
   "metadata": {},
   "source": [
    "#### Feature 6: Adamic Agar Index"
   ]
  },
  {
   "cell_type": "code",
   "execution_count": 50,
   "id": "af07e920-f200-4ae3-95f0-4a6177b1b40e",
   "metadata": {},
   "outputs": [],
   "source": [
    "aa_index_generator = nx.adamic_adar_index(G, edges_list)\n",
    "aa_index = [x for _,_,x in aa_index_generator]"
   ]
  },
  {
   "cell_type": "code",
   "execution_count": 51,
   "id": "148cd947-b609-4986-a374-488d616028a3",
   "metadata": {},
   "outputs": [
    {
     "data": {
      "text/html": [
       "<div>\n",
       "<style scoped>\n",
       "    .dataframe tbody tr th:only-of-type {\n",
       "        vertical-align: middle;\n",
       "    }\n",
       "\n",
       "    .dataframe tbody tr th {\n",
       "        vertical-align: top;\n",
       "    }\n",
       "\n",
       "    .dataframe thead th {\n",
       "        text-align: right;\n",
       "    }\n",
       "</style>\n",
       "<table border=\"1\" class=\"dataframe\">\n",
       "  <thead>\n",
       "    <tr style=\"text-align: right;\">\n",
       "      <th></th>\n",
       "      <th>source</th>\n",
       "      <th>sink</th>\n",
       "      <th>label</th>\n",
       "      <th>source_degree</th>\n",
       "      <th>sink_degree</th>\n",
       "      <th>common_neighbours</th>\n",
       "      <th>ra_index</th>\n",
       "      <th>jaccard_coef</th>\n",
       "      <th>aa_index</th>\n",
       "    </tr>\n",
       "  </thead>\n",
       "  <tbody>\n",
       "    <tr>\n",
       "      <th>0</th>\n",
       "      <td>1276050</td>\n",
       "      <td>4115397</td>\n",
       "      <td>1</td>\n",
       "      <td>6</td>\n",
       "      <td>4</td>\n",
       "      <td>0</td>\n",
       "      <td>0.0</td>\n",
       "      <td>0.0</td>\n",
       "      <td>0.0</td>\n",
       "    </tr>\n",
       "    <tr>\n",
       "      <th>1</th>\n",
       "      <td>376726</td>\n",
       "      <td>652404</td>\n",
       "      <td>1</td>\n",
       "      <td>3</td>\n",
       "      <td>4</td>\n",
       "      <td>0</td>\n",
       "      <td>0.0</td>\n",
       "      <td>0.0</td>\n",
       "      <td>0.0</td>\n",
       "    </tr>\n",
       "    <tr>\n",
       "      <th>2</th>\n",
       "      <td>4243429</td>\n",
       "      <td>2819456</td>\n",
       "      <td>1</td>\n",
       "      <td>8</td>\n",
       "      <td>7</td>\n",
       "      <td>0</td>\n",
       "      <td>0.0</td>\n",
       "      <td>0.0</td>\n",
       "      <td>0.0</td>\n",
       "    </tr>\n",
       "  </tbody>\n",
       "</table>\n",
       "</div>"
      ],
      "text/plain": [
       "    source     sink  label  source_degree  sink_degree  common_neighbours  \\\n",
       "0  1276050  4115397      1              6            4                  0   \n",
       "1   376726   652404      1              3            4                  0   \n",
       "2  4243429  2819456      1              8            7                  0   \n",
       "\n",
       "   ra_index  jaccard_coef  aa_index  \n",
       "0       0.0           0.0       0.0  \n",
       "1       0.0           0.0       0.0  \n",
       "2       0.0           0.0       0.0  "
      ]
     },
     "execution_count": 51,
     "metadata": {},
     "output_type": "execute_result"
    }
   ],
   "source": [
    "train_df['aa_index'] = aa_index\n",
    "train_df.head(3)"
   ]
  },
  {
   "cell_type": "markdown",
   "id": "7e5584bc-073a-47b1-b50e-d2d8a3a80824",
   "metadata": {},
   "source": [
    "### Feature 7: Preferential Attachment"
   ]
  },
  {
   "cell_type": "code",
   "execution_count": 52,
   "id": "e05edd47-7c99-4b61-915d-79e8de9f30f1",
   "metadata": {},
   "outputs": [],
   "source": [
    "pa_generator = nx.preferential_attachment(G, edges_list)\n",
    "pref_attach = [x for _,_,x in pa_generator]"
   ]
  },
  {
   "cell_type": "code",
   "execution_count": 53,
   "id": "8d93dab6-dd58-4c92-851e-7a84802b565b",
   "metadata": {},
   "outputs": [
    {
     "data": {
      "text/html": [
       "<div>\n",
       "<style scoped>\n",
       "    .dataframe tbody tr th:only-of-type {\n",
       "        vertical-align: middle;\n",
       "    }\n",
       "\n",
       "    .dataframe tbody tr th {\n",
       "        vertical-align: top;\n",
       "    }\n",
       "\n",
       "    .dataframe thead th {\n",
       "        text-align: right;\n",
       "    }\n",
       "</style>\n",
       "<table border=\"1\" class=\"dataframe\">\n",
       "  <thead>\n",
       "    <tr style=\"text-align: right;\">\n",
       "      <th></th>\n",
       "      <th>source</th>\n",
       "      <th>sink</th>\n",
       "      <th>label</th>\n",
       "      <th>source_degree</th>\n",
       "      <th>sink_degree</th>\n",
       "      <th>common_neighbours</th>\n",
       "      <th>ra_index</th>\n",
       "      <th>jaccard_coef</th>\n",
       "      <th>aa_index</th>\n",
       "      <th>pref_attach</th>\n",
       "    </tr>\n",
       "  </thead>\n",
       "  <tbody>\n",
       "    <tr>\n",
       "      <th>0</th>\n",
       "      <td>1276050</td>\n",
       "      <td>4115397</td>\n",
       "      <td>1</td>\n",
       "      <td>6</td>\n",
       "      <td>4</td>\n",
       "      <td>0</td>\n",
       "      <td>0.0</td>\n",
       "      <td>0.0</td>\n",
       "      <td>0.0</td>\n",
       "      <td>24</td>\n",
       "    </tr>\n",
       "    <tr>\n",
       "      <th>1</th>\n",
       "      <td>376726</td>\n",
       "      <td>652404</td>\n",
       "      <td>1</td>\n",
       "      <td>3</td>\n",
       "      <td>4</td>\n",
       "      <td>0</td>\n",
       "      <td>0.0</td>\n",
       "      <td>0.0</td>\n",
       "      <td>0.0</td>\n",
       "      <td>12</td>\n",
       "    </tr>\n",
       "    <tr>\n",
       "      <th>2</th>\n",
       "      <td>4243429</td>\n",
       "      <td>2819456</td>\n",
       "      <td>1</td>\n",
       "      <td>8</td>\n",
       "      <td>7</td>\n",
       "      <td>0</td>\n",
       "      <td>0.0</td>\n",
       "      <td>0.0</td>\n",
       "      <td>0.0</td>\n",
       "      <td>56</td>\n",
       "    </tr>\n",
       "  </tbody>\n",
       "</table>\n",
       "</div>"
      ],
      "text/plain": [
       "    source     sink  label  source_degree  sink_degree  common_neighbours  \\\n",
       "0  1276050  4115397      1              6            4                  0   \n",
       "1   376726   652404      1              3            4                  0   \n",
       "2  4243429  2819456      1              8            7                  0   \n",
       "\n",
       "   ra_index  jaccard_coef  aa_index  pref_attach  \n",
       "0       0.0           0.0       0.0           24  \n",
       "1       0.0           0.0       0.0           12  \n",
       "2       0.0           0.0       0.0           56  "
      ]
     },
     "execution_count": 53,
     "metadata": {},
     "output_type": "execute_result"
    }
   ],
   "source": [
    "train_df['pref_attach'] = pref_attach\n",
    "train_df.head(3)"
   ]
  },
  {
   "cell_type": "markdown",
   "id": "d021cbb8-f9df-4766-bdde-99a8b5831152",
   "metadata": {},
   "source": [
    "###  Feature 8: Katz Centrality"
   ]
  },
  {
   "cell_type": "code",
   "execution_count": 27,
   "id": "4e6b7cee-ce28-4d02-bbfa-0f8ff57adc2d",
   "metadata": {},
   "outputs": [],
   "source": [
    "kc_generator = nx.katz_centrality_numpy(G)\n",
    "katz_cent = {}\n",
    "for n,kc in sorted(kc_generator.items()):\n",
    "    katz_cent[n] = kc"
   ]
  },
  {
   "cell_type": "code",
   "execution_count": 35,
   "id": "ae9d106f-b515-4132-9cf5-a90365474f6f",
   "metadata": {},
   "outputs": [
    {
     "data": {
      "text/html": [
       "<div>\n",
       "<style scoped>\n",
       "    .dataframe tbody tr th:only-of-type {\n",
       "        vertical-align: middle;\n",
       "    }\n",
       "\n",
       "    .dataframe tbody tr th {\n",
       "        vertical-align: top;\n",
       "    }\n",
       "\n",
       "    .dataframe thead th {\n",
       "        text-align: right;\n",
       "    }\n",
       "</style>\n",
       "<table border=\"1\" class=\"dataframe\">\n",
       "  <thead>\n",
       "    <tr style=\"text-align: right;\">\n",
       "      <th></th>\n",
       "      <th>source</th>\n",
       "      <th>sink</th>\n",
       "      <th>label</th>\n",
       "      <th>source_degree</th>\n",
       "      <th>sink_degree</th>\n",
       "      <th>common_neighbours</th>\n",
       "      <th>ra_index</th>\n",
       "      <th>jaccard_coef</th>\n",
       "      <th>aa_index</th>\n",
       "      <th>pref_attach</th>\n",
       "      <th>katz_cent</th>\n",
       "    </tr>\n",
       "  </thead>\n",
       "  <tbody>\n",
       "    <tr>\n",
       "      <th>0</th>\n",
       "      <td>1276050</td>\n",
       "      <td>4115397</td>\n",
       "      <td>1</td>\n",
       "      <td>5</td>\n",
       "      <td>4</td>\n",
       "      <td>0</td>\n",
       "      <td>0.0</td>\n",
       "      <td>0.0</td>\n",
       "      <td>0.0</td>\n",
       "      <td>20</td>\n",
       "      <td>0.003418</td>\n",
       "    </tr>\n",
       "    <tr>\n",
       "      <th>1</th>\n",
       "      <td>376726</td>\n",
       "      <td>652404</td>\n",
       "      <td>1</td>\n",
       "      <td>2</td>\n",
       "      <td>4</td>\n",
       "      <td>0</td>\n",
       "      <td>0.0</td>\n",
       "      <td>0.0</td>\n",
       "      <td>0.0</td>\n",
       "      <td>8</td>\n",
       "      <td>0.002385</td>\n",
       "    </tr>\n",
       "    <tr>\n",
       "      <th>2</th>\n",
       "      <td>4243429</td>\n",
       "      <td>2819456</td>\n",
       "      <td>1</td>\n",
       "      <td>8</td>\n",
       "      <td>2</td>\n",
       "      <td>0</td>\n",
       "      <td>0.0</td>\n",
       "      <td>0.0</td>\n",
       "      <td>0.0</td>\n",
       "      <td>16</td>\n",
       "      <td>0.004720</td>\n",
       "    </tr>\n",
       "  </tbody>\n",
       "</table>\n",
       "</div>"
      ],
      "text/plain": [
       "    source     sink  label  source_degree  sink_degree  common_neighbours  \\\n",
       "0  1276050  4115397      1              5            4                  0   \n",
       "1   376726   652404      1              2            4                  0   \n",
       "2  4243429  2819456      1              8            2                  0   \n",
       "\n",
       "   ra_index  jaccard_coef  aa_index  pref_attach  katz_cent  \n",
       "0       0.0           0.0       0.0           20   0.003418  \n",
       "1       0.0           0.0       0.0            8   0.002385  \n",
       "2       0.0           0.0       0.0           16   0.004720  "
      ]
     },
     "execution_count": 35,
     "metadata": {},
     "output_type": "execute_result"
    }
   ],
   "source": [
    "train_df['katz_cent'] = train_df['source'].apply(lambda x : katz_cent[x])\n",
    "train_df.head(3)"
   ]
  },
  {
   "cell_type": "markdown",
   "id": "b8704e52-915e-42ee-8033-6d0b9b0eaa04",
   "metadata": {},
   "source": [
    "### Saving Train Dataframe with Undirected Features to CSV file"
   ]
  },
  {
   "cell_type": "code",
   "execution_count": 54,
   "id": "2e8c0ac0-475a-411d-8da3-c4094df30602",
   "metadata": {},
   "outputs": [],
   "source": [
    "today_date = datetime.now().strftime(\"%Y%m%d_%H%M\")\n",
    "train_df.to_csv(f\"data\\{today_date}_train_undirected.csv\", index = False)"
   ]
  },
  {
   "cell_type": "code",
   "execution_count": null,
   "id": "d77cb383-4cdc-428a-8ae1-720a18220d69",
   "metadata": {},
   "outputs": [],
   "source": []
  }
 ],
 "metadata": {
  "kernelspec": {
   "display_name": "Python 3 (ipykernel)",
   "language": "python",
   "name": "python3"
  },
  "language_info": {
   "codemirror_mode": {
    "name": "ipython",
    "version": 3
   },
   "file_extension": ".py",
   "mimetype": "text/x-python",
   "name": "python",
   "nbconvert_exporter": "python",
   "pygments_lexer": "ipython3",
   "version": "3.11.7"
  }
 },
 "nbformat": 4,
 "nbformat_minor": 5
}
