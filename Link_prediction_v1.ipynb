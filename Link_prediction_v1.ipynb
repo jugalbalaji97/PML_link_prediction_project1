{
 "cells": [
  {
   "cell_type": "code",
   "execution_count": 1,
   "id": "b50bf36d-847a-4c4c-a8d0-ef01698a624b",
   "metadata": {},
   "outputs": [],
   "source": [
    "import pandas as pd\n",
    "import csv\n",
    "import numpy as np\n",
    "import random\n",
    "import numpy as np\n",
    "from datetime import datetime\n",
    "import networkx as nx\n",
    "import time\n",
    "import math\n",
    "\n",
    "from sklearn.model_selection import StratifiedKFold, cross_val_score\n",
    "from sklearn.metrics import confusion_matrix\n",
    "from sklearn.linear_model import LogisticRegression\n",
    "from sklearn.preprocessing import MinMaxScaler\n",
    "from sklearn.ensemble import GradientBoostingClassifier\n",
    "\n",
    "import pickle"
   ]
  },
  {
   "cell_type": "code",
   "execution_count": 2,
   "id": "98f35025",
   "metadata": {},
   "outputs": [],
   "source": [
    "random.seed(16)"
   ]
  },
  {
   "cell_type": "markdown",
   "id": "385a0b92-c280-4c9b-a623-c11ab675428b",
   "metadata": {},
   "source": [
    "## File Paths"
   ]
  },
  {
   "cell_type": "code",
   "execution_count": 3,
   "id": "bcc0dd11-565c-4890-8460-e491349873c3",
   "metadata": {},
   "outputs": [],
   "source": [
    "train_file = 'train.csv'\n",
    "test_file = 'test.csv'"
   ]
  },
  {
   "cell_type": "markdown",
   "id": "5b221921-2d56-4865-969f-83dbd2b30e43",
   "metadata": {},
   "source": [
    "## Getting nodes from test data"
   ]
  },
  {
   "cell_type": "code",
   "execution_count": 5,
   "id": "c2cea6e5-58c7-4e90-8a20-3b5956f3dd63",
   "metadata": {},
   "outputs": [
    {
     "name": "stdout",
     "output_type": "stream",
     "text": [
      "3773 test nodes loaded...\n"
     ]
    }
   ],
   "source": [
    "test_nodes = []\n",
    "\n",
    "with open(test_file, 'r') as file:\n",
    "    reader = csv.reader(file)\n",
    "    \n",
    "    # Build the graph from the CSV file\n",
    "    for row in reader:\n",
    "        test_nodes.extend(row[1:])\n",
    "\n",
    "test_nodes = set(test_nodes[2:])\n",
    "print(f'{len(test_nodes)} test nodes loaded...')"
   ]
  },
  {
   "cell_type": "markdown",
   "id": "59f6d1ca-b916-4b84-955a-81b5c461892d",
   "metadata": {},
   "source": [
    "## Loading raw data"
   ]
  },
  {
   "cell_type": "code",
   "execution_count": 13,
   "id": "5f8bc156-e666-4df4-86e9-d376625a5b88",
   "metadata": {},
   "outputs": [
    {
     "name": "stdout",
     "output_type": "stream",
     "text": [
      "19639 nodes and their out-neighbours loaded...\n"
     ]
    }
   ],
   "source": [
    "adjacency_list = {}\n",
    "high_degree_nodes = {}\n",
    "\n",
    "with open(train_file, 'r') as file:\n",
    "    reader = csv.reader(file)\n",
    "    # Build the graph from the CSV file\n",
    "    for row in reader:\n",
    "        node = row[0]\n",
    "        neighbors = row[1:]\n",
    "        if len(neighbors) <= 10000:\n",
    "            adjacency_list[node] = neighbors\n",
    "        else:\n",
    "            high_degree_nodes[node] = len(neighbors)\n",
    "            \n",
    "\n",
    "print(f'{len(adjacency_list)} nodes and their out-neighbours loaded...')"
   ]
  },
  {
   "cell_type": "markdown",
   "id": "849a4321",
   "metadata": {},
   "source": [
    "## Directed Graph"
   ]
  },
  {
   "cell_type": "code",
   "execution_count": 7,
   "id": "10f8934c",
   "metadata": {},
   "outputs": [],
   "source": [
    "DiG = nx.DiGraph(adjacency_list)"
   ]
  },
  {
   "cell_type": "markdown",
   "id": "0ec53dde-823c-4b0c-8b89-3bc46e263023",
   "metadata": {},
   "source": [
    "#### Undirected Graph"
   ]
  },
  {
   "cell_type": "code",
   "execution_count": 8,
   "id": "e28c5b54-c9fe-432f-aac8-698602624d6a",
   "metadata": {},
   "outputs": [],
   "source": [
    "G = nx.Graph(adjacency_list)"
   ]
  },
  {
   "cell_type": "code",
   "execution_count": 9,
   "id": "672abe8e",
   "metadata": {
    "scrolled": true
   },
   "outputs": [],
   "source": [
    "today_date = datetime.now().strftime(\"%Y%m%d_%H%M\")\n",
    "nx.write_graphml(DiG, f\"data\\{today_date}_train_digraph.graphml\")"
   ]
  },
  {
   "cell_type": "code",
   "execution_count": 10,
   "id": "26fc7658",
   "metadata": {},
   "outputs": [
    {
     "name": "stdout",
     "output_type": "stream",
     "text": [
      "DiGraph with 1975037 nodes and 10085375 edges created\n"
     ]
    }
   ],
   "source": [
    "all_nodes = list(DiG.nodes())\n",
    "#total_num_edges = list(DIG.edges())\n",
    "#print(total_num_nodes, total_num_edges)\n",
    "print(f'DiGraph with {len(all_nodes)} nodes and {len(DiG.edges())} edges created')"
   ]
  },
  {
   "cell_type": "markdown",
   "id": "c45eb2cb",
   "metadata": {},
   "source": [
    "## Sampling True & False Edges"
   ]
  },
  {
   "cell_type": "markdown",
   "id": "83aba5fb",
   "metadata": {},
   "source": [
    "### True Edge Sampling"
   ]
  },
  {
   "cell_type": "code",
   "execution_count": 11,
   "id": "c3ca53fa-73a0-4eab-b21c-2840896b051f",
   "metadata": {},
   "outputs": [],
   "source": [
    "def random_walk(graph, start_node, walk_length):\n",
    "    walk = [start_node]\n",
    "    \n",
    "    for _ in range(walk_length):\n",
    "        neighbors = list(graph.successors(walk[-1]))  # Get neighbors of the last visited node\n",
    "        if neighbors:\n",
    "            next_node = random.choice(neighbors)\n",
    "            walk.append(next_node)\n",
    "        else:\n",
    "            break  # If no neighbors, terminate the walk\n",
    "    \n",
    "    return walk\n",
    "\n",
    "def reverse_random_walk(graph, start_node, walk_length):\n",
    "    walk = [start_node]\n",
    "    \n",
    "    for _ in range(walk_length):\n",
    "        neighbors = list(graph.predecessors(walk[-1]))  # Get neighbors of the last visited node\n",
    "        if neighbors:\n",
    "            next_node = random.choice(neighbors)\n",
    "            walk.append(next_node)\n",
    "        else:\n",
    "            break  # If no neighbors, terminate the walk\n",
    "    \n",
    "    return walk"
   ]
  },
  {
   "cell_type": "code",
   "execution_count": 33,
   "id": "32ce6973-6942-4fbc-98a1-681abbdeb5fa",
   "metadata": {},
   "outputs": [],
   "source": [
    "walk_length = 10\n",
    "\n",
    "# Initialize a list to store sampled edges\n",
    "sampled_edges = set()\n",
    "num_of_edges_to_sample = 25000\n",
    "\n",
    "# Perform random walks and sample edges\n",
    "while len(sampled_edges) < (num_of_edges_to_sample/2):\n",
    "    for start_node in test_nodes:\n",
    "        if start_node in DiG.nodes():\n",
    "            #start_node = random.choice(list(adjacency_list.keys()))\n",
    "            walk = random_walk(DiG, start_node, walk_length)        \n",
    "            # Extract edges from the random walk\n",
    "            edges = [(walk[i], walk[i+1]) for i in range(len(walk)-1)]\n",
    "            sampled_edges.update(edges)\n",
    "        if len(sampled_edges) >= (num_of_edges_to_sample/2):\n",
    "            break\n",
    "\n",
    "while len(sampled_edges) < (num_of_edges_to_sample):\n",
    "    for start_node in test_nodes:\n",
    "        if start_node in DiG.nodes():\n",
    "            #start_node = random.choice(list(adjacency_list.keys()))\n",
    "            walk = reverse_random_walk(DiG, start_node, walk_length)        \n",
    "            # Extract edges from the random walk\n",
    "            edges = [(walk[i+1], walk[i]) for i in range(len(walk)-1)]\n",
    "            sampled_edges.update(edges)\n",
    "        if len(sampled_edges) >= (num_of_edges_to_sample):\n",
    "            break"
   ]
  },
  {
   "cell_type": "code",
   "execution_count": 34,
   "id": "e5cc8401-c3e7-4829-85a8-f2a1703cfabd",
   "metadata": {},
   "outputs": [],
   "source": [
    "true_edges = list(sampled_edges)"
   ]
  },
  {
   "cell_type": "code",
   "execution_count": 35,
   "id": "d431ca2c",
   "metadata": {},
   "outputs": [],
   "source": [
    "# # Sample 25k true edges\n",
    "# true_edges = random.sample(DIG.edges(), 25000)"
   ]
  },
  {
   "cell_type": "code",
   "execution_count": 36,
   "id": "db3e18fe",
   "metadata": {},
   "outputs": [
    {
     "name": "stdout",
     "output_type": "stream",
     "text": [
      "25003 true edges sampled, Some sampled edges are: [('1712203', '3826797'), ('4473317', '3636653'), ('4441968', '1707083')]\n"
     ]
    }
   ],
   "source": [
    "print(f'{len(true_edges)} true edges sampled, Some sampled edges are: {true_edges[:3]}')"
   ]
  },
  {
   "cell_type": "markdown",
   "id": "87d208fb",
   "metadata": {},
   "source": [
    "### False Edge Sampling"
   ]
  },
  {
   "cell_type": "code",
   "execution_count": null,
   "id": "cc7cccb2",
   "metadata": {},
   "outputs": [],
   "source": [
    "# false_edges = []\n",
    "# total_false_edges_count = 25000\n",
    "# hard_false_edges_count=15000\n",
    "\n",
    "# start_time = time.time()  # Get the current time\n",
    "# duration = 120 * 60  # 120 minutes in seconds\n",
    "\n",
    "# # Hard Non Edges = Two hops apart from each other\n",
    "# while len(false_edges) < hard_false_edges_count:\n",
    "#     source = random.choice(all_nodes)\n",
    "#     sink = random.choice(all_nodes)\n",
    "#     if source != sink and (source, sink) not in false_edges:\n",
    "#         if (source, sink) not in false_edges:\n",
    "#             try:\n",
    "#                 shortest_path_length = nx.shortest_path_length(DIG, source=source, target=sink)\n",
    "#                 if shortest_path_length == 2:\n",
    "#                     false_edges.append((source, sink))\n",
    "#             except nx.NetworkXNoPath:\n",
    "#                 pass\n",
    "#     if time.time() - start_time > duration:\n",
    "#         print(\"120 minutes have elapsed. Breaking the loop.\")\n",
    "#         break\n",
    "\n",
    "# print('Got hard_false_edges_count: ', len(false_edges))\n",
    "\n",
    "# hard_false_edges_len = len(false_edges)\n",
    "\n",
    "# while len(false_edges) <= total_false_edges_count:\n",
    "#     source = random.choice(all_nodes)\n",
    "#     sink = random.choice(all_nodes)\n",
    "#     if source != sink and (source, sink) not in false_edges:\n",
    "#         if not DIG.has_edge(source, sink):\n",
    "#             false_edges.append((source, sink))\n",
    "\n",
    "# len(false_edges)"
   ]
  },
  {
   "cell_type": "code",
   "execution_count": 37,
   "id": "08f403f6-5e01-438d-b5b4-cdda8702cede",
   "metadata": {},
   "outputs": [],
   "source": [
    "non_edges = nx.non_edges(DiG)"
   ]
  },
  {
   "cell_type": "code",
   "execution_count": 38,
   "id": "ae522f35-923b-4147-ac14-5d55c5f56767",
   "metadata": {},
   "outputs": [],
   "source": [
    "nodes_in_true_edges = [item for sublist in true_edges for item in sublist]"
   ]
  },
  {
   "cell_type": "code",
   "execution_count": 39,
   "id": "6a6e4dbc-d2b7-4288-92eb-b3e3a9b3d69f",
   "metadata": {},
   "outputs": [],
   "source": [
    "false_edges = []\n",
    "for ne in non_edges:\n",
    "    if len(false_edges) < 25000:\n",
    "        if (ne[0] in nodes_in_true_edges or ne[1] in nodes_in_true_edges):\n",
    "            false_edges.append(ne)        \n",
    "    else:\n",
    "        break"
   ]
  },
  {
   "cell_type": "code",
   "execution_count": 40,
   "id": "7f39acbc-59ef-42ec-bf4f-eecd9aa41665",
   "metadata": {},
   "outputs": [
    {
     "name": "stdout",
     "output_type": "stream",
     "text": [
      "25000 false edges sampled, Some sampled edges are: [('687794', '2712371'), ('687794', '4232790'), ('687794', '352193')]\n"
     ]
    }
   ],
   "source": [
    "print(f'{len(false_edges)} false edges sampled, Some sampled edges are: {false_edges[:3]}')"
   ]
  },
  {
   "cell_type": "markdown",
   "id": "9bf3b4a6-e763-4057-9e29-62929d69ffc8",
   "metadata": {},
   "source": [
    "## Sampled Edges Dataframe"
   ]
  },
  {
   "cell_type": "markdown",
   "id": "db1070ef-c385-4613-87b4-b373ac8f2b6b",
   "metadata": {},
   "source": [
    "### True Edges Dataframe"
   ]
  },
  {
   "cell_type": "code",
   "execution_count": 41,
   "id": "a2a74404-6b32-43df-b455-4897442abfd5",
   "metadata": {},
   "outputs": [
    {
     "data": {
      "text/html": [
       "<div>\n",
       "<style scoped>\n",
       "    .dataframe tbody tr th:only-of-type {\n",
       "        vertical-align: middle;\n",
       "    }\n",
       "\n",
       "    .dataframe tbody tr th {\n",
       "        vertical-align: top;\n",
       "    }\n",
       "\n",
       "    .dataframe thead th {\n",
       "        text-align: right;\n",
       "    }\n",
       "</style>\n",
       "<table border=\"1\" class=\"dataframe\">\n",
       "  <thead>\n",
       "    <tr style=\"text-align: right;\">\n",
       "      <th></th>\n",
       "      <th>source</th>\n",
       "      <th>sink</th>\n",
       "    </tr>\n",
       "  </thead>\n",
       "  <tbody>\n",
       "    <tr>\n",
       "      <th>0</th>\n",
       "      <td>1712203</td>\n",
       "      <td>3826797</td>\n",
       "    </tr>\n",
       "    <tr>\n",
       "      <th>1</th>\n",
       "      <td>4473317</td>\n",
       "      <td>3636653</td>\n",
       "    </tr>\n",
       "    <tr>\n",
       "      <th>2</th>\n",
       "      <td>4441968</td>\n",
       "      <td>1707083</td>\n",
       "    </tr>\n",
       "  </tbody>\n",
       "</table>\n",
       "</div>"
      ],
      "text/plain": [
       "    source     sink\n",
       "0  1712203  3826797\n",
       "1  4473317  3636653\n",
       "2  4441968  1707083"
      ]
     },
     "execution_count": 41,
     "metadata": {},
     "output_type": "execute_result"
    }
   ],
   "source": [
    "true_edges_df = pd.DataFrame(true_edges, columns = ['source', 'sink'])\n",
    "true_edges_df.head(3)"
   ]
  },
  {
   "cell_type": "markdown",
   "id": "7b7b03b1-5bb6-475e-8708-f4e2f89266f3",
   "metadata": {},
   "source": [
    "### Adding Labels column"
   ]
  },
  {
   "cell_type": "code",
   "execution_count": 42,
   "id": "b66587a9-d8e7-4a90-84b5-db82cb18371c",
   "metadata": {},
   "outputs": [
    {
     "data": {
      "text/html": [
       "<div>\n",
       "<style scoped>\n",
       "    .dataframe tbody tr th:only-of-type {\n",
       "        vertical-align: middle;\n",
       "    }\n",
       "\n",
       "    .dataframe tbody tr th {\n",
       "        vertical-align: top;\n",
       "    }\n",
       "\n",
       "    .dataframe thead th {\n",
       "        text-align: right;\n",
       "    }\n",
       "</style>\n",
       "<table border=\"1\" class=\"dataframe\">\n",
       "  <thead>\n",
       "    <tr style=\"text-align: right;\">\n",
       "      <th></th>\n",
       "      <th>source</th>\n",
       "      <th>sink</th>\n",
       "      <th>label</th>\n",
       "    </tr>\n",
       "  </thead>\n",
       "  <tbody>\n",
       "    <tr>\n",
       "      <th>0</th>\n",
       "      <td>1712203</td>\n",
       "      <td>3826797</td>\n",
       "      <td>1</td>\n",
       "    </tr>\n",
       "    <tr>\n",
       "      <th>1</th>\n",
       "      <td>4473317</td>\n",
       "      <td>3636653</td>\n",
       "      <td>1</td>\n",
       "    </tr>\n",
       "    <tr>\n",
       "      <th>2</th>\n",
       "      <td>4441968</td>\n",
       "      <td>1707083</td>\n",
       "      <td>1</td>\n",
       "    </tr>\n",
       "  </tbody>\n",
       "</table>\n",
       "</div>"
      ],
      "text/plain": [
       "    source     sink  label\n",
       "0  1712203  3826797      1\n",
       "1  4473317  3636653      1\n",
       "2  4441968  1707083      1"
      ]
     },
     "execution_count": 42,
     "metadata": {},
     "output_type": "execute_result"
    }
   ],
   "source": [
    "true_edges_df['label'] = 1\n",
    "true_edges_df.head(3)"
   ]
  },
  {
   "cell_type": "markdown",
   "id": "41162df6-76a8-4c3c-a7f8-0df0cdedc02a",
   "metadata": {},
   "source": [
    "### False Edges Dataframe"
   ]
  },
  {
   "cell_type": "code",
   "execution_count": 43,
   "id": "6e3346f1-adaf-4f5d-9120-37fa9b24e70b",
   "metadata": {},
   "outputs": [
    {
     "data": {
      "text/html": [
       "<div>\n",
       "<style scoped>\n",
       "    .dataframe tbody tr th:only-of-type {\n",
       "        vertical-align: middle;\n",
       "    }\n",
       "\n",
       "    .dataframe tbody tr th {\n",
       "        vertical-align: top;\n",
       "    }\n",
       "\n",
       "    .dataframe thead th {\n",
       "        text-align: right;\n",
       "    }\n",
       "</style>\n",
       "<table border=\"1\" class=\"dataframe\">\n",
       "  <thead>\n",
       "    <tr style=\"text-align: right;\">\n",
       "      <th></th>\n",
       "      <th>source</th>\n",
       "      <th>sink</th>\n",
       "    </tr>\n",
       "  </thead>\n",
       "  <tbody>\n",
       "    <tr>\n",
       "      <th>0</th>\n",
       "      <td>687794</td>\n",
       "      <td>2712371</td>\n",
       "    </tr>\n",
       "    <tr>\n",
       "      <th>1</th>\n",
       "      <td>687794</td>\n",
       "      <td>4232790</td>\n",
       "    </tr>\n",
       "    <tr>\n",
       "      <th>2</th>\n",
       "      <td>687794</td>\n",
       "      <td>352193</td>\n",
       "    </tr>\n",
       "  </tbody>\n",
       "</table>\n",
       "</div>"
      ],
      "text/plain": [
       "   source     sink\n",
       "0  687794  2712371\n",
       "1  687794  4232790\n",
       "2  687794   352193"
      ]
     },
     "execution_count": 43,
     "metadata": {},
     "output_type": "execute_result"
    }
   ],
   "source": [
    "false_edges_df = pd.DataFrame(false_edges, columns = ['source', 'sink'])\n",
    "false_edges_df.head(3)"
   ]
  },
  {
   "cell_type": "code",
   "execution_count": 44,
   "id": "3bf0f1a6-c5e6-499f-b3e8-4b2dc3d2f1e5",
   "metadata": {},
   "outputs": [
    {
     "data": {
      "text/html": [
       "<div>\n",
       "<style scoped>\n",
       "    .dataframe tbody tr th:only-of-type {\n",
       "        vertical-align: middle;\n",
       "    }\n",
       "\n",
       "    .dataframe tbody tr th {\n",
       "        vertical-align: top;\n",
       "    }\n",
       "\n",
       "    .dataframe thead th {\n",
       "        text-align: right;\n",
       "    }\n",
       "</style>\n",
       "<table border=\"1\" class=\"dataframe\">\n",
       "  <thead>\n",
       "    <tr style=\"text-align: right;\">\n",
       "      <th></th>\n",
       "      <th>source</th>\n",
       "      <th>sink</th>\n",
       "      <th>label</th>\n",
       "    </tr>\n",
       "  </thead>\n",
       "  <tbody>\n",
       "    <tr>\n",
       "      <th>0</th>\n",
       "      <td>687794</td>\n",
       "      <td>2712371</td>\n",
       "      <td>0</td>\n",
       "    </tr>\n",
       "    <tr>\n",
       "      <th>1</th>\n",
       "      <td>687794</td>\n",
       "      <td>4232790</td>\n",
       "      <td>0</td>\n",
       "    </tr>\n",
       "    <tr>\n",
       "      <th>2</th>\n",
       "      <td>687794</td>\n",
       "      <td>352193</td>\n",
       "      <td>0</td>\n",
       "    </tr>\n",
       "  </tbody>\n",
       "</table>\n",
       "</div>"
      ],
      "text/plain": [
       "   source     sink  label\n",
       "0  687794  2712371      0\n",
       "1  687794  4232790      0\n",
       "2  687794   352193      0"
      ]
     },
     "execution_count": 44,
     "metadata": {},
     "output_type": "execute_result"
    }
   ],
   "source": [
    "false_edges_df['label'] = 0\n",
    "false_edges_df.head(3)"
   ]
  },
  {
   "cell_type": "markdown",
   "id": "37d8312c-c8bc-409d-b28f-252e2c63c239",
   "metadata": {},
   "source": [
    "### Sampled Edges Dataframe (True and False Edges)"
   ]
  },
  {
   "cell_type": "code",
   "execution_count": 45,
   "id": "46027273-cd0b-4248-b2d4-afe50ba8400b",
   "metadata": {},
   "outputs": [
    {
     "data": {
      "text/html": [
       "<div>\n",
       "<style scoped>\n",
       "    .dataframe tbody tr th:only-of-type {\n",
       "        vertical-align: middle;\n",
       "    }\n",
       "\n",
       "    .dataframe tbody tr th {\n",
       "        vertical-align: top;\n",
       "    }\n",
       "\n",
       "    .dataframe thead th {\n",
       "        text-align: right;\n",
       "    }\n",
       "</style>\n",
       "<table border=\"1\" class=\"dataframe\">\n",
       "  <thead>\n",
       "    <tr style=\"text-align: right;\">\n",
       "      <th></th>\n",
       "      <th>source</th>\n",
       "      <th>sink</th>\n",
       "      <th>label</th>\n",
       "    </tr>\n",
       "  </thead>\n",
       "  <tbody>\n",
       "    <tr>\n",
       "      <th>0</th>\n",
       "      <td>1712203</td>\n",
       "      <td>3826797</td>\n",
       "      <td>1</td>\n",
       "    </tr>\n",
       "    <tr>\n",
       "      <th>1</th>\n",
       "      <td>4473317</td>\n",
       "      <td>3636653</td>\n",
       "      <td>1</td>\n",
       "    </tr>\n",
       "    <tr>\n",
       "      <th>2</th>\n",
       "      <td>4441968</td>\n",
       "      <td>1707083</td>\n",
       "      <td>1</td>\n",
       "    </tr>\n",
       "    <tr>\n",
       "      <th>3</th>\n",
       "      <td>382439</td>\n",
       "      <td>2353336</td>\n",
       "      <td>1</td>\n",
       "    </tr>\n",
       "    <tr>\n",
       "      <th>4</th>\n",
       "      <td>2234341</td>\n",
       "      <td>2649209</td>\n",
       "      <td>1</td>\n",
       "    </tr>\n",
       "  </tbody>\n",
       "</table>\n",
       "</div>"
      ],
      "text/plain": [
       "    source     sink  label\n",
       "0  1712203  3826797      1\n",
       "1  4473317  3636653      1\n",
       "2  4441968  1707083      1\n",
       "3   382439  2353336      1\n",
       "4  2234341  2649209      1"
      ]
     },
     "execution_count": 45,
     "metadata": {},
     "output_type": "execute_result"
    }
   ],
   "source": [
    "edges_df = pd.concat([true_edges_df, false_edges_df])\n",
    "edges_df.head()"
   ]
  },
  {
   "cell_type": "code",
   "execution_count": 46,
   "id": "9f70a099-d693-41dc-a72a-49d2c94fa2cc",
   "metadata": {},
   "outputs": [],
   "source": [
    "edges_df['source'] = edges_df['source'].astype(str)\n",
    "edges_df['sink'] = edges_df['sink'].astype(str)"
   ]
  },
  {
   "cell_type": "code",
   "execution_count": 47,
   "id": "1257ada2-96cc-429a-b7d5-48456ff8972a",
   "metadata": {},
   "outputs": [
    {
     "data": {
      "text/plain": [
       "(50003, 3)"
      ]
     },
     "execution_count": 47,
     "metadata": {},
     "output_type": "execute_result"
    }
   ],
   "source": [
    "edges_df.shape"
   ]
  },
  {
   "cell_type": "code",
   "execution_count": 48,
   "id": "7dec1284-8343-4362-9ba2-2a1861a69964",
   "metadata": {},
   "outputs": [
    {
     "data": {
      "text/plain": [
       "label\n",
       "1    25003\n",
       "0    25000\n",
       "Name: count, dtype: int64"
      ]
     },
     "execution_count": 48,
     "metadata": {},
     "output_type": "execute_result"
    }
   ],
   "source": [
    "edges_df.label.value_counts()"
   ]
  },
  {
   "cell_type": "code",
   "execution_count": 49,
   "id": "5809075c-fdd3-49b6-a3ed-f2b1991bad57",
   "metadata": {},
   "outputs": [],
   "source": [
    "today_date = datetime.now().strftime(\"%Y%m%d_%H%M\")\n",
    "edges_df.to_csv(f\"data\\{today_date}_sampled_edges.csv\", index = False)"
   ]
  },
  {
   "cell_type": "markdown",
   "id": "73e5759b",
   "metadata": {},
   "source": [
    "## Features Creation"
   ]
  },
  {
   "cell_type": "code",
   "execution_count": 50,
   "id": "6bf844e7",
   "metadata": {},
   "outputs": [],
   "source": [
    "#edges_df = pd.read_csv(\"data/20240303_2235_sampled_edges.csv\")\n",
    "#edges_df.head(3)"
   ]
  },
  {
   "cell_type": "code",
   "execution_count": 51,
   "id": "f166306e",
   "metadata": {},
   "outputs": [],
   "source": [
    "# edges_df.label.value_counts()"
   ]
  },
  {
   "cell_type": "code",
   "execution_count": 52,
   "id": "1aed2041",
   "metadata": {},
   "outputs": [],
   "source": [
    "train_df = edges_df.copy()"
   ]
  },
  {
   "cell_type": "code",
   "execution_count": 53,
   "id": "83539ac8-d21b-4497-9081-7361f3729162",
   "metadata": {},
   "outputs": [],
   "source": [
    "def adamic_adar_index(common_neighbours):\n",
    "    return sum([1/math.log(G.degree(x)) if (G.degree(x) != 0 and G.degree(x) != 1) else 0 for x in common_neighbours])\n",
    "\n",
    "def ra_index(common_neighbours):\n",
    "    return sum([1/G.degree(x) if G.degree(x) != 0 else 1 for x in common_neighbours])\n",
    "\n",
    "def pref_attach(G, edge):\n",
    "    return G.degree(edge[0])*G.degree(edge[1])\n",
    "\n",
    "def create_undirected_features(df, G, source_col_name, sink_col_name):\n",
    "    edges_list = list(zip(df[source_col_name].tolist(), df[sink_col_name].tolist()))\n",
    "    df['common_neighbours'] = [list(nx.common_neighbors(G, edge[0], edge[1])) for edge in edges_list]\n",
    "    print('Common neighbours retrieved...')\n",
    "    df['total_neighbours'] = [len(set(G.neighbors(edge[0])).union(set(G.neighbors(edge[1])))) for edge in edges_list]\n",
    "    print('Total neighbours is calculated...')\n",
    "    df['pref_attach'] = [pref_attach(G, x) for x in edges_list]\n",
    "    print('Preferential attachment is calculated...')\n",
    "    df['ra_index'] = df['common_neighbours'].apply(ra_index)\n",
    "    print('Resource allocation index is calculated...')\n",
    "    df['jaccard_coef'] = df['common_neighbours'].apply(len)/df['total_neighbours']\n",
    "    print('Jaccard coefficient is calculated...')\n",
    "    df['aa_index'] = df['common_neighbours'].apply(adamic_adar_index)\n",
    "    print('Adamic adar index is calculated...')\n",
    "\n",
    "    df.drop(['common_neighbours', 'total_neighbours'], axis=1, inplace=True)\n",
    "\n",
    "    return df"
   ]
  },
  {
   "cell_type": "code",
   "execution_count": 54,
   "id": "b939dfff-2ee6-468c-8576-dfefb7dc2569",
   "metadata": {},
   "outputs": [],
   "source": [
    "def create_directed_degree_features(df, DiG, source_col_name, sink_col_name):\n",
    "    edges_list = list(zip(df[source_col_name].tolist(), df[sink_col_name].tolist()))\n",
    "    # Feature 1: Source In-Degree Density\n",
    "    df['source_in_degree_dens'] = df[source_col_name].apply(lambda x : DiG.in_degree(x)/DiG.degree(x))\n",
    "    # Feature 2: Sink In-Degree Density\n",
    "    df['sink_in_degree_dens'] = df[sink_col_name].apply(lambda x : DiG.in_degree(x)/DiG.degree(x))\n",
    "    # Feature 3: Source Out-Degree Density\n",
    "    df['source_out_degree_dens'] = df[source_col_name].apply(lambda x : DiG.out_degree(x)/DiG.degree(x))\n",
    "    # Feature 4: Sink Out-Degree Density\n",
    "    df['sink_out_degree_dens'] = df[sink_col_name].apply(lambda x : DiG.out_degree(x)/DiG.degree(x))\n",
    "    # Feature 5: Source Bi-Degree Density\n",
    "    df['source_bi_degree_dens'] = df[source_col_name].apply(lambda x : len(set(DiG.predecessors(x)).intersection(set(DiG.successors(x))))/DiG.degree(x))\n",
    "    # Feature 6: Sink Bi-Degree Density\n",
    "    df['sink_bi_degree_dens'] = df[sink_col_name].apply(lambda x : len(set(DiG.predecessors(x)).intersection(set(DiG.successors(x))))/DiG.degree(x))\n",
    "    # Feature 7: Common In-neighbours\n",
    "    df['common_in_neighbours'] = [len(set(DiG.predecessors(source)).intersection(set(DiG.predecessors(sink)))) for source, sink in edges_list]\n",
    "    # Feature 8: Common out-neighbours\n",
    "    df['common_out_neighbours'] = [len(set(DiG.successors(source)).intersection(set(DiG.successors(sink)))) for source, sink in edges_list]\n",
    "    # Feature 9: Total In-neighbours\n",
    "    df['total_in_neighbours'] = [len(set(DiG.predecessors(source)).union(set(DiG.predecessors(sink)))) for source, sink in edges_list]\n",
    "    # Feature 10: Total out-neighbours\n",
    "    df['total_out_neighbours'] = [len(set(DiG.successors(source)).union(set(DiG.successors(sink)))) for source, sink in edges_list]\n",
    "    \n",
    "    return df"
   ]
  },
  {
   "cell_type": "code",
   "execution_count": 55,
   "id": "eec466b8-51e5-409a-b4b1-aa8711eb299b",
   "metadata": {},
   "outputs": [
    {
     "name": "stdout",
     "output_type": "stream",
     "text": [
      "Common neighbours retrieved...\n",
      "Total neighbours is calculated...\n",
      "Preferential attachment is calculated...\n",
      "Resource allocation index is calculated...\n",
      "Jaccard coefficient is calculated...\n",
      "Adamic adar index is calculated...\n"
     ]
    },
    {
     "data": {
      "text/html": [
       "<div>\n",
       "<style scoped>\n",
       "    .dataframe tbody tr th:only-of-type {\n",
       "        vertical-align: middle;\n",
       "    }\n",
       "\n",
       "    .dataframe tbody tr th {\n",
       "        vertical-align: top;\n",
       "    }\n",
       "\n",
       "    .dataframe thead th {\n",
       "        text-align: right;\n",
       "    }\n",
       "</style>\n",
       "<table border=\"1\" class=\"dataframe\">\n",
       "  <thead>\n",
       "    <tr style=\"text-align: right;\">\n",
       "      <th></th>\n",
       "      <th>source</th>\n",
       "      <th>sink</th>\n",
       "      <th>label</th>\n",
       "      <th>pref_attach</th>\n",
       "      <th>ra_index</th>\n",
       "      <th>jaccard_coef</th>\n",
       "      <th>aa_index</th>\n",
       "    </tr>\n",
       "  </thead>\n",
       "  <tbody>\n",
       "    <tr>\n",
       "      <th>0</th>\n",
       "      <td>1712203</td>\n",
       "      <td>3826797</td>\n",
       "      <td>1</td>\n",
       "      <td>181500</td>\n",
       "      <td>0.001983</td>\n",
       "      <td>0.002020</td>\n",
       "      <td>0.279720</td>\n",
       "    </tr>\n",
       "    <tr>\n",
       "      <th>1</th>\n",
       "      <td>4473317</td>\n",
       "      <td>3636653</td>\n",
       "      <td>1</td>\n",
       "      <td>2752</td>\n",
       "      <td>0.000000</td>\n",
       "      <td>0.000000</td>\n",
       "      <td>0.000000</td>\n",
       "    </tr>\n",
       "    <tr>\n",
       "      <th>2</th>\n",
       "      <td>4441968</td>\n",
       "      <td>1707083</td>\n",
       "      <td>1</td>\n",
       "      <td>134366</td>\n",
       "      <td>0.874667</td>\n",
       "      <td>0.034346</td>\n",
       "      <td>6.811151</td>\n",
       "    </tr>\n",
       "    <tr>\n",
       "      <th>3</th>\n",
       "      <td>382439</td>\n",
       "      <td>2353336</td>\n",
       "      <td>1</td>\n",
       "      <td>7354527</td>\n",
       "      <td>1.509140</td>\n",
       "      <td>0.059947</td>\n",
       "      <td>53.384630</td>\n",
       "    </tr>\n",
       "    <tr>\n",
       "      <th>4</th>\n",
       "      <td>2234341</td>\n",
       "      <td>2649209</td>\n",
       "      <td>1</td>\n",
       "      <td>678</td>\n",
       "      <td>0.000000</td>\n",
       "      <td>0.000000</td>\n",
       "      <td>0.000000</td>\n",
       "    </tr>\n",
       "  </tbody>\n",
       "</table>\n",
       "</div>"
      ],
      "text/plain": [
       "    source     sink  label  pref_attach  ra_index  jaccard_coef   aa_index\n",
       "0  1712203  3826797      1       181500  0.001983      0.002020   0.279720\n",
       "1  4473317  3636653      1         2752  0.000000      0.000000   0.000000\n",
       "2  4441968  1707083      1       134366  0.874667      0.034346   6.811151\n",
       "3   382439  2353336      1      7354527  1.509140      0.059947  53.384630\n",
       "4  2234341  2649209      1          678  0.000000      0.000000   0.000000"
      ]
     },
     "execution_count": 55,
     "metadata": {},
     "output_type": "execute_result"
    }
   ],
   "source": [
    "train_df = create_undirected_features(train_df, G, 'source', 'sink')\n",
    "train_df.head()"
   ]
  },
  {
   "cell_type": "code",
   "execution_count": null,
   "id": "00644717-27a1-4841-a14d-d0b32de5aee8",
   "metadata": {},
   "outputs": [],
   "source": [
    "train_df = create_directed_degree_features(train_df, DiG, 'source', 'sink')\n",
    "train_df.head()"
   ]
  },
  {
   "cell_type": "code",
   "execution_count": 56,
   "id": "d1caa8e8-8df2-4a2b-b6a3-cb591e4f4da0",
   "metadata": {},
   "outputs": [],
   "source": [
    "today_date = datetime.now().strftime(\"%Y%m%d_%H%M\")\n",
    "train_df.to_csv(f\"data\\{today_date}_train.csv\", index = False)"
   ]
  },
  {
   "cell_type": "markdown",
   "id": "f78e71ae-e29d-43f0-81d3-27ad596d232c",
   "metadata": {},
   "source": [
    "## Model"
   ]
  },
  {
   "cell_type": "code",
   "execution_count": null,
   "id": "26f936db",
   "metadata": {},
   "outputs": [],
   "source": [
    "# train_df = pd.read_csv(\"data/20240303_2357_train_directed.csv\")\n",
    "# train_df.head(3)"
   ]
  },
  {
   "cell_type": "code",
   "execution_count": null,
   "id": "a1ed4b53-360c-4b66-a511-f78f4771019a",
   "metadata": {},
   "outputs": [],
   "source": [
    "# train_df.label.value_counts()"
   ]
  },
  {
   "cell_type": "markdown",
   "id": "6f6ea49f-cff9-4fa1-93f3-692e9d30cf2c",
   "metadata": {},
   "source": [
    "### Defining X and y"
   ]
  },
  {
   "cell_type": "code",
   "execution_count": 57,
   "id": "3d7c2986-4ccb-44ef-9777-e1f01b9154c3",
   "metadata": {},
   "outputs": [],
   "source": [
    "X = train_df.drop(['source','sink','label'], axis=1)\n",
    "y = train_df['label']"
   ]
  },
  {
   "cell_type": "markdown",
   "id": "5e7e93a6-45a8-4251-acda-029fd4e3a81e",
   "metadata": {},
   "source": [
    "### Scaling the features"
   ]
  },
  {
   "cell_type": "code",
   "execution_count": 58,
   "id": "3b7886e1-fa7c-43b4-a19f-f82c3592ecb3",
   "metadata": {},
   "outputs": [],
   "source": [
    "scaler = MinMaxScaler()\n",
    "X = scaler.fit_transform(X)"
   ]
  },
  {
   "cell_type": "code",
   "execution_count": 59,
   "id": "a1ea32a6-9234-4daa-8f29-dde616f56554",
   "metadata": {},
   "outputs": [
    {
     "name": "stdout",
     "output_type": "stream",
     "text": [
      "Feature 1 importance: 0.26367897366368004\n",
      "Feature 2 importance: 0.3009162263879774\n",
      "Feature 3 importance: 0.17604573187681247\n",
      "Feature 4 importance: 0.25935906807153025\n"
     ]
    }
   ],
   "source": [
    "from sklearn.ensemble import RandomForestClassifier\n",
    "\n",
    "rf = RandomForestClassifier(random_state = 16)\n",
    "rf.fit(X, y)\n",
    "\n",
    "# Step 4: Get feature importances\n",
    "feature_importances = rf.feature_importances_\n",
    "\n",
    "# Step 5: Analyze results\n",
    "for i, importance in enumerate(feature_importances):\n",
    "    print(f\"Feature {i+1} importance: {importance}\")"
   ]
  },
  {
   "cell_type": "markdown",
   "id": "db3c29b1-7211-43b4-98fc-2f92580ae758",
   "metadata": {},
   "source": [
    "### Initialize Classifier"
   ]
  },
  {
   "cell_type": "code",
   "execution_count": 64,
   "id": "870145bf-08f9-47e9-9912-d5fc1f5c22b8",
   "metadata": {},
   "outputs": [],
   "source": [
    "#model = LogisticRegression(C=1, class_weight = None)\n",
    "model = GradientBoostingClassifier(n_estimators=100, learning_rate=0.01, random_state=16)"
   ]
  },
  {
   "cell_type": "markdown",
   "id": "32e5a921-d5b2-4c47-a8fa-3f039e3a091e",
   "metadata": {},
   "source": [
    "### K-Fold Validation"
   ]
  },
  {
   "cell_type": "code",
   "execution_count": 65,
   "id": "0bd92d79-dedf-46b3-9e66-d6dd6960d135",
   "metadata": {},
   "outputs": [
    {
     "name": "stdout",
     "output_type": "stream",
     "text": [
      "Cross-Validation Results: [0.90962242 0.90385635 0.90901186 0.9099935  0.91071136]\n",
      "Mean AUC: 0.908639096375125\n"
     ]
    }
   ],
   "source": [
    "# Specify the number of folds (k)\n",
    "num_folds = 5\n",
    "\n",
    "# Create a KFold object\n",
    "kf = StratifiedKFold(n_splits=num_folds, shuffle=True, random_state=1)\n",
    "\n",
    "# Use cross_val_score for cross-validation\n",
    "cv_results = cross_val_score(model, X, y, cv=kf, scoring='roc_auc')\n",
    "\n",
    "# Print the cross-validation results\n",
    "print(\"Cross-Validation Results:\", cv_results)\n",
    "print(\"Mean AUC:\", cv_results.mean())"
   ]
  },
  {
   "cell_type": "markdown",
   "id": "909809ec-1ba1-49ef-b8c7-02d0af0d8fc0",
   "metadata": {},
   "source": [
    "### Fitting the model"
   ]
  },
  {
   "cell_type": "code",
   "execution_count": 66,
   "id": "7f4e7c2f-93e0-4fc0-a1ec-9cfcf4df3acb",
   "metadata": {},
   "outputs": [
    {
     "data": {
      "text/html": [
       "<style>#sk-container-id-2 {\n",
       "  /* Definition of color scheme common for light and dark mode */\n",
       "  --sklearn-color-text: black;\n",
       "  --sklearn-color-line: gray;\n",
       "  /* Definition of color scheme for unfitted estimators */\n",
       "  --sklearn-color-unfitted-level-0: #fff5e6;\n",
       "  --sklearn-color-unfitted-level-1: #f6e4d2;\n",
       "  --sklearn-color-unfitted-level-2: #ffe0b3;\n",
       "  --sklearn-color-unfitted-level-3: chocolate;\n",
       "  /* Definition of color scheme for fitted estimators */\n",
       "  --sklearn-color-fitted-level-0: #f0f8ff;\n",
       "  --sklearn-color-fitted-level-1: #d4ebff;\n",
       "  --sklearn-color-fitted-level-2: #b3dbfd;\n",
       "  --sklearn-color-fitted-level-3: cornflowerblue;\n",
       "\n",
       "  /* Specific color for light theme */\n",
       "  --sklearn-color-text-on-default-background: var(--sg-text-color, var(--theme-code-foreground, var(--jp-content-font-color1, black)));\n",
       "  --sklearn-color-background: var(--sg-background-color, var(--theme-background, var(--jp-layout-color0, white)));\n",
       "  --sklearn-color-border-box: var(--sg-text-color, var(--theme-code-foreground, var(--jp-content-font-color1, black)));\n",
       "  --sklearn-color-icon: #696969;\n",
       "\n",
       "  @media (prefers-color-scheme: dark) {\n",
       "    /* Redefinition of color scheme for dark theme */\n",
       "    --sklearn-color-text-on-default-background: var(--sg-text-color, var(--theme-code-foreground, var(--jp-content-font-color1, white)));\n",
       "    --sklearn-color-background: var(--sg-background-color, var(--theme-background, var(--jp-layout-color0, #111)));\n",
       "    --sklearn-color-border-box: var(--sg-text-color, var(--theme-code-foreground, var(--jp-content-font-color1, white)));\n",
       "    --sklearn-color-icon: #878787;\n",
       "  }\n",
       "}\n",
       "\n",
       "#sk-container-id-2 {\n",
       "  color: var(--sklearn-color-text);\n",
       "}\n",
       "\n",
       "#sk-container-id-2 pre {\n",
       "  padding: 0;\n",
       "}\n",
       "\n",
       "#sk-container-id-2 input.sk-hidden--visually {\n",
       "  border: 0;\n",
       "  clip: rect(1px 1px 1px 1px);\n",
       "  clip: rect(1px, 1px, 1px, 1px);\n",
       "  height: 1px;\n",
       "  margin: -1px;\n",
       "  overflow: hidden;\n",
       "  padding: 0;\n",
       "  position: absolute;\n",
       "  width: 1px;\n",
       "}\n",
       "\n",
       "#sk-container-id-2 div.sk-dashed-wrapped {\n",
       "  border: 1px dashed var(--sklearn-color-line);\n",
       "  margin: 0 0.4em 0.5em 0.4em;\n",
       "  box-sizing: border-box;\n",
       "  padding-bottom: 0.4em;\n",
       "  background-color: var(--sklearn-color-background);\n",
       "}\n",
       "\n",
       "#sk-container-id-2 div.sk-container {\n",
       "  /* jupyter's `normalize.less` sets `[hidden] { display: none; }`\n",
       "     but bootstrap.min.css set `[hidden] { display: none !important; }`\n",
       "     so we also need the `!important` here to be able to override the\n",
       "     default hidden behavior on the sphinx rendered scikit-learn.org.\n",
       "     See: https://github.com/scikit-learn/scikit-learn/issues/21755 */\n",
       "  display: inline-block !important;\n",
       "  position: relative;\n",
       "}\n",
       "\n",
       "#sk-container-id-2 div.sk-text-repr-fallback {\n",
       "  display: none;\n",
       "}\n",
       "\n",
       "div.sk-parallel-item,\n",
       "div.sk-serial,\n",
       "div.sk-item {\n",
       "  /* draw centered vertical line to link estimators */\n",
       "  background-image: linear-gradient(var(--sklearn-color-text-on-default-background), var(--sklearn-color-text-on-default-background));\n",
       "  background-size: 2px 100%;\n",
       "  background-repeat: no-repeat;\n",
       "  background-position: center center;\n",
       "}\n",
       "\n",
       "/* Parallel-specific style estimator block */\n",
       "\n",
       "#sk-container-id-2 div.sk-parallel-item::after {\n",
       "  content: \"\";\n",
       "  width: 100%;\n",
       "  border-bottom: 2px solid var(--sklearn-color-text-on-default-background);\n",
       "  flex-grow: 1;\n",
       "}\n",
       "\n",
       "#sk-container-id-2 div.sk-parallel {\n",
       "  display: flex;\n",
       "  align-items: stretch;\n",
       "  justify-content: center;\n",
       "  background-color: var(--sklearn-color-background);\n",
       "  position: relative;\n",
       "}\n",
       "\n",
       "#sk-container-id-2 div.sk-parallel-item {\n",
       "  display: flex;\n",
       "  flex-direction: column;\n",
       "}\n",
       "\n",
       "#sk-container-id-2 div.sk-parallel-item:first-child::after {\n",
       "  align-self: flex-end;\n",
       "  width: 50%;\n",
       "}\n",
       "\n",
       "#sk-container-id-2 div.sk-parallel-item:last-child::after {\n",
       "  align-self: flex-start;\n",
       "  width: 50%;\n",
       "}\n",
       "\n",
       "#sk-container-id-2 div.sk-parallel-item:only-child::after {\n",
       "  width: 0;\n",
       "}\n",
       "\n",
       "/* Serial-specific style estimator block */\n",
       "\n",
       "#sk-container-id-2 div.sk-serial {\n",
       "  display: flex;\n",
       "  flex-direction: column;\n",
       "  align-items: center;\n",
       "  background-color: var(--sklearn-color-background);\n",
       "  padding-right: 1em;\n",
       "  padding-left: 1em;\n",
       "}\n",
       "\n",
       "\n",
       "/* Toggleable style: style used for estimator/Pipeline/ColumnTransformer box that is\n",
       "clickable and can be expanded/collapsed.\n",
       "- Pipeline and ColumnTransformer use this feature and define the default style\n",
       "- Estimators will overwrite some part of the style using the `sk-estimator` class\n",
       "*/\n",
       "\n",
       "/* Pipeline and ColumnTransformer style (default) */\n",
       "\n",
       "#sk-container-id-2 div.sk-toggleable {\n",
       "  /* Default theme specific background. It is overwritten whether we have a\n",
       "  specific estimator or a Pipeline/ColumnTransformer */\n",
       "  background-color: var(--sklearn-color-background);\n",
       "}\n",
       "\n",
       "/* Toggleable label */\n",
       "#sk-container-id-2 label.sk-toggleable__label {\n",
       "  cursor: pointer;\n",
       "  display: block;\n",
       "  width: 100%;\n",
       "  margin-bottom: 0;\n",
       "  padding: 0.5em;\n",
       "  box-sizing: border-box;\n",
       "  text-align: center;\n",
       "}\n",
       "\n",
       "#sk-container-id-2 label.sk-toggleable__label-arrow:before {\n",
       "  /* Arrow on the left of the label */\n",
       "  content: \"▸\";\n",
       "  float: left;\n",
       "  margin-right: 0.25em;\n",
       "  color: var(--sklearn-color-icon);\n",
       "}\n",
       "\n",
       "#sk-container-id-2 label.sk-toggleable__label-arrow:hover:before {\n",
       "  color: var(--sklearn-color-text);\n",
       "}\n",
       "\n",
       "/* Toggleable content - dropdown */\n",
       "\n",
       "#sk-container-id-2 div.sk-toggleable__content {\n",
       "  max-height: 0;\n",
       "  max-width: 0;\n",
       "  overflow: hidden;\n",
       "  text-align: left;\n",
       "  /* unfitted */\n",
       "  background-color: var(--sklearn-color-unfitted-level-0);\n",
       "}\n",
       "\n",
       "#sk-container-id-2 div.sk-toggleable__content.fitted {\n",
       "  /* fitted */\n",
       "  background-color: var(--sklearn-color-fitted-level-0);\n",
       "}\n",
       "\n",
       "#sk-container-id-2 div.sk-toggleable__content pre {\n",
       "  margin: 0.2em;\n",
       "  border-radius: 0.25em;\n",
       "  color: var(--sklearn-color-text);\n",
       "  /* unfitted */\n",
       "  background-color: var(--sklearn-color-unfitted-level-0);\n",
       "}\n",
       "\n",
       "#sk-container-id-2 div.sk-toggleable__content.fitted pre {\n",
       "  /* unfitted */\n",
       "  background-color: var(--sklearn-color-fitted-level-0);\n",
       "}\n",
       "\n",
       "#sk-container-id-2 input.sk-toggleable__control:checked~div.sk-toggleable__content {\n",
       "  /* Expand drop-down */\n",
       "  max-height: 200px;\n",
       "  max-width: 100%;\n",
       "  overflow: auto;\n",
       "}\n",
       "\n",
       "#sk-container-id-2 input.sk-toggleable__control:checked~label.sk-toggleable__label-arrow:before {\n",
       "  content: \"▾\";\n",
       "}\n",
       "\n",
       "/* Pipeline/ColumnTransformer-specific style */\n",
       "\n",
       "#sk-container-id-2 div.sk-label input.sk-toggleable__control:checked~label.sk-toggleable__label {\n",
       "  color: var(--sklearn-color-text);\n",
       "  background-color: var(--sklearn-color-unfitted-level-2);\n",
       "}\n",
       "\n",
       "#sk-container-id-2 div.sk-label.fitted input.sk-toggleable__control:checked~label.sk-toggleable__label {\n",
       "  background-color: var(--sklearn-color-fitted-level-2);\n",
       "}\n",
       "\n",
       "/* Estimator-specific style */\n",
       "\n",
       "/* Colorize estimator box */\n",
       "#sk-container-id-2 div.sk-estimator input.sk-toggleable__control:checked~label.sk-toggleable__label {\n",
       "  /* unfitted */\n",
       "  background-color: var(--sklearn-color-unfitted-level-2);\n",
       "}\n",
       "\n",
       "#sk-container-id-2 div.sk-estimator.fitted input.sk-toggleable__control:checked~label.sk-toggleable__label {\n",
       "  /* fitted */\n",
       "  background-color: var(--sklearn-color-fitted-level-2);\n",
       "}\n",
       "\n",
       "#sk-container-id-2 div.sk-label label.sk-toggleable__label,\n",
       "#sk-container-id-2 div.sk-label label {\n",
       "  /* The background is the default theme color */\n",
       "  color: var(--sklearn-color-text-on-default-background);\n",
       "}\n",
       "\n",
       "/* On hover, darken the color of the background */\n",
       "#sk-container-id-2 div.sk-label:hover label.sk-toggleable__label {\n",
       "  color: var(--sklearn-color-text);\n",
       "  background-color: var(--sklearn-color-unfitted-level-2);\n",
       "}\n",
       "\n",
       "/* Label box, darken color on hover, fitted */\n",
       "#sk-container-id-2 div.sk-label.fitted:hover label.sk-toggleable__label.fitted {\n",
       "  color: var(--sklearn-color-text);\n",
       "  background-color: var(--sklearn-color-fitted-level-2);\n",
       "}\n",
       "\n",
       "/* Estimator label */\n",
       "\n",
       "#sk-container-id-2 div.sk-label label {\n",
       "  font-family: monospace;\n",
       "  font-weight: bold;\n",
       "  display: inline-block;\n",
       "  line-height: 1.2em;\n",
       "}\n",
       "\n",
       "#sk-container-id-2 div.sk-label-container {\n",
       "  text-align: center;\n",
       "}\n",
       "\n",
       "/* Estimator-specific */\n",
       "#sk-container-id-2 div.sk-estimator {\n",
       "  font-family: monospace;\n",
       "  border: 1px dotted var(--sklearn-color-border-box);\n",
       "  border-radius: 0.25em;\n",
       "  box-sizing: border-box;\n",
       "  margin-bottom: 0.5em;\n",
       "  /* unfitted */\n",
       "  background-color: var(--sklearn-color-unfitted-level-0);\n",
       "}\n",
       "\n",
       "#sk-container-id-2 div.sk-estimator.fitted {\n",
       "  /* fitted */\n",
       "  background-color: var(--sklearn-color-fitted-level-0);\n",
       "}\n",
       "\n",
       "/* on hover */\n",
       "#sk-container-id-2 div.sk-estimator:hover {\n",
       "  /* unfitted */\n",
       "  background-color: var(--sklearn-color-unfitted-level-2);\n",
       "}\n",
       "\n",
       "#sk-container-id-2 div.sk-estimator.fitted:hover {\n",
       "  /* fitted */\n",
       "  background-color: var(--sklearn-color-fitted-level-2);\n",
       "}\n",
       "\n",
       "/* Specification for estimator info (e.g. \"i\" and \"?\") */\n",
       "\n",
       "/* Common style for \"i\" and \"?\" */\n",
       "\n",
       ".sk-estimator-doc-link,\n",
       "a:link.sk-estimator-doc-link,\n",
       "a:visited.sk-estimator-doc-link {\n",
       "  float: right;\n",
       "  font-size: smaller;\n",
       "  line-height: 1em;\n",
       "  font-family: monospace;\n",
       "  background-color: var(--sklearn-color-background);\n",
       "  border-radius: 1em;\n",
       "  height: 1em;\n",
       "  width: 1em;\n",
       "  text-decoration: none !important;\n",
       "  margin-left: 1ex;\n",
       "  /* unfitted */\n",
       "  border: var(--sklearn-color-unfitted-level-1) 1pt solid;\n",
       "  color: var(--sklearn-color-unfitted-level-1);\n",
       "}\n",
       "\n",
       ".sk-estimator-doc-link.fitted,\n",
       "a:link.sk-estimator-doc-link.fitted,\n",
       "a:visited.sk-estimator-doc-link.fitted {\n",
       "  /* fitted */\n",
       "  border: var(--sklearn-color-fitted-level-1) 1pt solid;\n",
       "  color: var(--sklearn-color-fitted-level-1);\n",
       "}\n",
       "\n",
       "/* On hover */\n",
       "div.sk-estimator:hover .sk-estimator-doc-link:hover,\n",
       ".sk-estimator-doc-link:hover,\n",
       "div.sk-label-container:hover .sk-estimator-doc-link:hover,\n",
       ".sk-estimator-doc-link:hover {\n",
       "  /* unfitted */\n",
       "  background-color: var(--sklearn-color-unfitted-level-3);\n",
       "  color: var(--sklearn-color-background);\n",
       "  text-decoration: none;\n",
       "}\n",
       "\n",
       "div.sk-estimator.fitted:hover .sk-estimator-doc-link.fitted:hover,\n",
       ".sk-estimator-doc-link.fitted:hover,\n",
       "div.sk-label-container:hover .sk-estimator-doc-link.fitted:hover,\n",
       ".sk-estimator-doc-link.fitted:hover {\n",
       "  /* fitted */\n",
       "  background-color: var(--sklearn-color-fitted-level-3);\n",
       "  color: var(--sklearn-color-background);\n",
       "  text-decoration: none;\n",
       "}\n",
       "\n",
       "/* Span, style for the box shown on hovering the info icon */\n",
       ".sk-estimator-doc-link span {\n",
       "  display: none;\n",
       "  z-index: 9999;\n",
       "  position: relative;\n",
       "  font-weight: normal;\n",
       "  right: .2ex;\n",
       "  padding: .5ex;\n",
       "  margin: .5ex;\n",
       "  width: min-content;\n",
       "  min-width: 20ex;\n",
       "  max-width: 50ex;\n",
       "  color: var(--sklearn-color-text);\n",
       "  box-shadow: 2pt 2pt 4pt #999;\n",
       "  /* unfitted */\n",
       "  background: var(--sklearn-color-unfitted-level-0);\n",
       "  border: .5pt solid var(--sklearn-color-unfitted-level-3);\n",
       "}\n",
       "\n",
       ".sk-estimator-doc-link.fitted span {\n",
       "  /* fitted */\n",
       "  background: var(--sklearn-color-fitted-level-0);\n",
       "  border: var(--sklearn-color-fitted-level-3);\n",
       "}\n",
       "\n",
       ".sk-estimator-doc-link:hover span {\n",
       "  display: block;\n",
       "}\n",
       "\n",
       "/* \"?\"-specific style due to the `<a>` HTML tag */\n",
       "\n",
       "#sk-container-id-2 a.estimator_doc_link {\n",
       "  float: right;\n",
       "  font-size: 1rem;\n",
       "  line-height: 1em;\n",
       "  font-family: monospace;\n",
       "  background-color: var(--sklearn-color-background);\n",
       "  border-radius: 1rem;\n",
       "  height: 1rem;\n",
       "  width: 1rem;\n",
       "  text-decoration: none;\n",
       "  /* unfitted */\n",
       "  color: var(--sklearn-color-unfitted-level-1);\n",
       "  border: var(--sklearn-color-unfitted-level-1) 1pt solid;\n",
       "}\n",
       "\n",
       "#sk-container-id-2 a.estimator_doc_link.fitted {\n",
       "  /* fitted */\n",
       "  border: var(--sklearn-color-fitted-level-1) 1pt solid;\n",
       "  color: var(--sklearn-color-fitted-level-1);\n",
       "}\n",
       "\n",
       "/* On hover */\n",
       "#sk-container-id-2 a.estimator_doc_link:hover {\n",
       "  /* unfitted */\n",
       "  background-color: var(--sklearn-color-unfitted-level-3);\n",
       "  color: var(--sklearn-color-background);\n",
       "  text-decoration: none;\n",
       "}\n",
       "\n",
       "#sk-container-id-2 a.estimator_doc_link.fitted:hover {\n",
       "  /* fitted */\n",
       "  background-color: var(--sklearn-color-fitted-level-3);\n",
       "}\n",
       "</style><div id=\"sk-container-id-2\" class=\"sk-top-container\"><div class=\"sk-text-repr-fallback\"><pre>GradientBoostingClassifier(learning_rate=0.01, random_state=16)</pre><b>In a Jupyter environment, please rerun this cell to show the HTML representation or trust the notebook. <br />On GitHub, the HTML representation is unable to render, please try loading this page with nbviewer.org.</b></div><div class=\"sk-container\" hidden><div class=\"sk-item\"><div class=\"sk-estimator fitted sk-toggleable\"><input class=\"sk-toggleable__control sk-hidden--visually\" id=\"sk-estimator-id-2\" type=\"checkbox\" checked><label for=\"sk-estimator-id-2\" class=\"sk-toggleable__label fitted sk-toggleable__label-arrow fitted\">&nbsp;&nbsp;GradientBoostingClassifier<a class=\"sk-estimator-doc-link fitted\" rel=\"noreferrer\" target=\"_blank\" href=\"https://scikit-learn.org/1.4/modules/generated/sklearn.ensemble.GradientBoostingClassifier.html\">?<span>Documentation for GradientBoostingClassifier</span></a><span class=\"sk-estimator-doc-link fitted\">i<span>Fitted</span></span></label><div class=\"sk-toggleable__content fitted\"><pre>GradientBoostingClassifier(learning_rate=0.01, random_state=16)</pre></div> </div></div></div></div>"
      ],
      "text/plain": [
       "GradientBoostingClassifier(learning_rate=0.01, random_state=16)"
      ]
     },
     "execution_count": 66,
     "metadata": {},
     "output_type": "execute_result"
    }
   ],
   "source": [
    "model.fit(X,y)"
   ]
  },
  {
   "cell_type": "markdown",
   "id": "04e59fef-d33d-41e1-8c01-cf963dceb713",
   "metadata": {},
   "source": [
    "### Model interpretation"
   ]
  },
  {
   "cell_type": "code",
   "execution_count": 68,
   "id": "5470f034-9fdb-4937-9f00-867856cbb568",
   "metadata": {},
   "outputs": [],
   "source": [
    "#model.coef_"
   ]
  },
  {
   "cell_type": "code",
   "execution_count": 69,
   "id": "c2db2e7e-69e7-426f-a17b-ad21abc917af",
   "metadata": {},
   "outputs": [],
   "source": [
    "today_date = datetime.now().strftime(\"%Y%m%d_%H%M\")\n",
    "with open(f\"data\\{today_date}_scaler.pkl\", \"wb\") as f:\n",
    "    loaded_model = pickle.dump(scaler, f)"
   ]
  },
  {
   "cell_type": "code",
   "execution_count": 70,
   "id": "846c6681-54d8-4ba6-ba94-c2e6875aac9e",
   "metadata": {},
   "outputs": [],
   "source": [
    "with open(f\"data\\{today_date}_model.pkl\", \"wb\") as f:\n",
    "    loaded_model = pickle.dump(model, f)"
   ]
  },
  {
   "cell_type": "markdown",
   "id": "a738cb58-8a9d-4aae-9201-aa1f319ca8f6",
   "metadata": {},
   "source": [
    "## Prediction"
   ]
  },
  {
   "cell_type": "code",
   "execution_count": null,
   "id": "dfa2f398",
   "metadata": {},
   "outputs": [],
   "source": [
    "# DiG = nx.read_graphml(\"data/20240303_2343_sampled_digraph.graphml\", node_type = int)\n",
    "# print(len(G.edges()))"
   ]
  },
  {
   "cell_type": "code",
   "execution_count": null,
   "id": "5772ceeb-28e6-44a7-993c-a5fa2e597118",
   "metadata": {},
   "outputs": [],
   "source": [
    "# with open(\"data/20240303_2358_model.pkl\", \"rb\") as f:\n",
    "#     model = pickle.load(f)"
   ]
  },
  {
   "cell_type": "code",
   "execution_count": null,
   "id": "ffc77127-9d08-4f03-bd37-9cb9cc5d2841",
   "metadata": {},
   "outputs": [],
   "source": [
    "# model.coef_"
   ]
  },
  {
   "cell_type": "code",
   "execution_count": null,
   "id": "d1c319e3-957d-482b-98f5-c38a4e1ab633",
   "metadata": {},
   "outputs": [],
   "source": [
    "# with open(\"data/20240303_2358_scaler.pkl\", \"rb\") as f:\n",
    "#     scaler = pickle.load(f)"
   ]
  },
  {
   "cell_type": "markdown",
   "id": "99766f49-7652-474e-8197-cae3c299a255",
   "metadata": {},
   "source": [
    "### Load Test Data"
   ]
  },
  {
   "cell_type": "code",
   "execution_count": 96,
   "id": "53e10b64-09ee-4fa7-9af2-1a13b6dfba0d",
   "metadata": {},
   "outputs": [
    {
     "data": {
      "text/html": [
       "<div>\n",
       "<style scoped>\n",
       "    .dataframe tbody tr th:only-of-type {\n",
       "        vertical-align: middle;\n",
       "    }\n",
       "\n",
       "    .dataframe tbody tr th {\n",
       "        vertical-align: top;\n",
       "    }\n",
       "\n",
       "    .dataframe thead th {\n",
       "        text-align: right;\n",
       "    }\n",
       "</style>\n",
       "<table border=\"1\" class=\"dataframe\">\n",
       "  <thead>\n",
       "    <tr style=\"text-align: right;\">\n",
       "      <th></th>\n",
       "      <th>Id</th>\n",
       "      <th>From</th>\n",
       "      <th>To</th>\n",
       "    </tr>\n",
       "  </thead>\n",
       "  <tbody>\n",
       "    <tr>\n",
       "      <th>0</th>\n",
       "      <td>1</td>\n",
       "      <td>3360982</td>\n",
       "      <td>4457271</td>\n",
       "    </tr>\n",
       "    <tr>\n",
       "      <th>1</th>\n",
       "      <td>2</td>\n",
       "      <td>4761876</td>\n",
       "      <td>4698439</td>\n",
       "    </tr>\n",
       "    <tr>\n",
       "      <th>2</th>\n",
       "      <td>3</td>\n",
       "      <td>4198430</td>\n",
       "      <td>3615486</td>\n",
       "    </tr>\n",
       "  </tbody>\n",
       "</table>\n",
       "</div>"
      ],
      "text/plain": [
       "   Id     From       To\n",
       "0   1  3360982  4457271\n",
       "1   2  4761876  4698439\n",
       "2   3  4198430  3615486"
      ]
     },
     "execution_count": 96,
     "metadata": {},
     "output_type": "execute_result"
    }
   ],
   "source": [
    "test_df = pd.read_csv('test.csv')\n",
    "test_df.head(3)"
   ]
  },
  {
   "cell_type": "code",
   "execution_count": 97,
   "id": "06a7669d-2e70-467c-8d3e-ec29750b3626",
   "metadata": {},
   "outputs": [],
   "source": [
    "test_df['From'] = test_df['From'].astype(str)\n",
    "test_df['To'] = test_df['To'].astype(str)"
   ]
  },
  {
   "cell_type": "code",
   "execution_count": 98,
   "id": "d5a53393-3ff5-4e63-a595-ca1f6d2be3ed",
   "metadata": {},
   "outputs": [],
   "source": [
    "high_degree_test_edges_index = test_df[test_df['From'].apply(lambda x : True if x not in G.nodes() else False) | test_df['To'].apply(lambda x : True if x not in G.nodes() else False)].index\n",
    "test_df = test_df[test_df['From'].apply(lambda x : True if x in G.nodes() else False) & test_df['To'].apply(lambda x : True if x in G.nodes() else False)]"
   ]
  },
  {
   "cell_type": "code",
   "execution_count": 99,
   "id": "125f043d-94d4-4bdb-963d-001c9708177c",
   "metadata": {},
   "outputs": [
    {
     "name": "stdout",
     "output_type": "stream",
     "text": [
      "Common neighbours retrieved...\n",
      "Total neighbours is calculated...\n",
      "Preferential attachment is calculated...\n",
      "Resource allocation index is calculated...\n",
      "Jaccard coefficient is calculated...\n",
      "Adamic adar index is calculated...\n"
     ]
    },
    {
     "data": {
      "text/html": [
       "<div>\n",
       "<style scoped>\n",
       "    .dataframe tbody tr th:only-of-type {\n",
       "        vertical-align: middle;\n",
       "    }\n",
       "\n",
       "    .dataframe tbody tr th {\n",
       "        vertical-align: top;\n",
       "    }\n",
       "\n",
       "    .dataframe thead th {\n",
       "        text-align: right;\n",
       "    }\n",
       "</style>\n",
       "<table border=\"1\" class=\"dataframe\">\n",
       "  <thead>\n",
       "    <tr style=\"text-align: right;\">\n",
       "      <th></th>\n",
       "      <th>Id</th>\n",
       "      <th>From</th>\n",
       "      <th>To</th>\n",
       "      <th>pref_attach</th>\n",
       "      <th>ra_index</th>\n",
       "      <th>jaccard_coef</th>\n",
       "      <th>aa_index</th>\n",
       "    </tr>\n",
       "  </thead>\n",
       "  <tbody>\n",
       "    <tr>\n",
       "      <th>0</th>\n",
       "      <td>1</td>\n",
       "      <td>3360982</td>\n",
       "      <td>4457271</td>\n",
       "      <td>536490</td>\n",
       "      <td>4.526118</td>\n",
       "      <td>0.035796</td>\n",
       "      <td>23.561230</td>\n",
       "    </tr>\n",
       "    <tr>\n",
       "      <th>1</th>\n",
       "      <td>2</td>\n",
       "      <td>4761876</td>\n",
       "      <td>4698439</td>\n",
       "      <td>1360</td>\n",
       "      <td>0.000000</td>\n",
       "      <td>0.000000</td>\n",
       "      <td>0.000000</td>\n",
       "    </tr>\n",
       "    <tr>\n",
       "      <th>2</th>\n",
       "      <td>3</td>\n",
       "      <td>4198430</td>\n",
       "      <td>3615486</td>\n",
       "      <td>126792</td>\n",
       "      <td>0.000000</td>\n",
       "      <td>0.000000</td>\n",
       "      <td>0.000000</td>\n",
       "    </tr>\n",
       "    <tr>\n",
       "      <th>3</th>\n",
       "      <td>4</td>\n",
       "      <td>2945770</td>\n",
       "      <td>747948</td>\n",
       "      <td>20384</td>\n",
       "      <td>0.001357</td>\n",
       "      <td>0.004320</td>\n",
       "      <td>0.260033</td>\n",
       "    </tr>\n",
       "    <tr>\n",
       "      <th>4</th>\n",
       "      <td>5</td>\n",
       "      <td>3950088</td>\n",
       "      <td>3360335</td>\n",
       "      <td>185087</td>\n",
       "      <td>0.027880</td>\n",
       "      <td>0.021978</td>\n",
       "      <td>4.381721</td>\n",
       "    </tr>\n",
       "  </tbody>\n",
       "</table>\n",
       "</div>"
      ],
      "text/plain": [
       "   Id     From       To  pref_attach  ra_index  jaccard_coef   aa_index\n",
       "0   1  3360982  4457271       536490  4.526118      0.035796  23.561230\n",
       "1   2  4761876  4698439         1360  0.000000      0.000000   0.000000\n",
       "2   3  4198430  3615486       126792  0.000000      0.000000   0.000000\n",
       "3   4  2945770   747948        20384  0.001357      0.004320   0.260033\n",
       "4   5  3950088  3360335       185087  0.027880      0.021978   4.381721"
      ]
     },
     "execution_count": 99,
     "metadata": {},
     "output_type": "execute_result"
    }
   ],
   "source": [
    "#test_df = create_directed_degree_features(test_df, DiG, 'From', 'To')\n",
    "test_df = create_undirected_features(test_df, G, 'From', 'To')\n",
    "test_df.head()"
   ]
  },
  {
   "cell_type": "code",
   "execution_count": 101,
   "id": "1cb85833-ba21-4bde-984c-f63065240f34",
   "metadata": {},
   "outputs": [
    {
     "data": {
      "text/plain": [
       "(1965, 7)"
      ]
     },
     "execution_count": 101,
     "metadata": {},
     "output_type": "execute_result"
    }
   ],
   "source": [
    "test_df.shape"
   ]
  },
  {
   "cell_type": "code",
   "execution_count": 102,
   "id": "637ff24a-48ee-447a-bd4f-3d8f0072bcab",
   "metadata": {},
   "outputs": [],
   "source": [
    "X_test = scaler.transform(test_df.drop(['From','To','Id'], axis=1))"
   ]
  },
  {
   "cell_type": "code",
   "execution_count": 127,
   "id": "0e9c42dc-30e8-425b-b8f6-07fa9d90f0ce",
   "metadata": {},
   "outputs": [],
   "source": [
    "output_df = test_df.copy()\n",
    "output_df = output_df[['Id']]"
   ]
  },
  {
   "cell_type": "code",
   "execution_count": 128,
   "id": "e7f37818-7a25-4736-9457-ace7532e5671",
   "metadata": {},
   "outputs": [],
   "source": [
    "output_df['Predictions'] = np.transpose(model.predict_proba(X_test))[1]"
   ]
  },
  {
   "cell_type": "code",
   "execution_count": 129,
   "id": "183f1175-f011-4830-add5-a89997205b9f",
   "metadata": {},
   "outputs": [
    {
     "data": {
      "text/plain": [
       "0    1055\n",
       "1     910\n",
       "Name: count, dtype: int64"
      ]
     },
     "execution_count": 129,
     "metadata": {},
     "output_type": "execute_result"
    }
   ],
   "source": [
    "pd.Series(model.predict(X_test)).value_counts()"
   ]
  },
  {
   "cell_type": "code",
   "execution_count": 130,
   "id": "5cea36ed-8764-4047-8844-d12e275a1233",
   "metadata": {},
   "outputs": [
    {
     "data": {
      "text/plain": [
       "array([1, 1, 0, ..., 0, 1, 0], dtype=int64)"
      ]
     },
     "execution_count": 130,
     "metadata": {},
     "output_type": "execute_result"
    }
   ],
   "source": [
    "model.predict(X_test)"
   ]
  },
  {
   "cell_type": "code",
   "execution_count": 131,
   "id": "646b821a-3637-45fa-be39-823375e8eaee",
   "metadata": {},
   "outputs": [
    {
     "data": {
      "text/html": [
       "<div>\n",
       "<style scoped>\n",
       "    .dataframe tbody tr th:only-of-type {\n",
       "        vertical-align: middle;\n",
       "    }\n",
       "\n",
       "    .dataframe tbody tr th {\n",
       "        vertical-align: top;\n",
       "    }\n",
       "\n",
       "    .dataframe thead th {\n",
       "        text-align: right;\n",
       "    }\n",
       "</style>\n",
       "<table border=\"1\" class=\"dataframe\">\n",
       "  <thead>\n",
       "    <tr style=\"text-align: right;\">\n",
       "      <th></th>\n",
       "      <th>Id</th>\n",
       "      <th>Predictions</th>\n",
       "    </tr>\n",
       "  </thead>\n",
       "  <tbody>\n",
       "    <tr>\n",
       "      <th>0</th>\n",
       "      <td>1</td>\n",
       "      <td>0.812575</td>\n",
       "    </tr>\n",
       "    <tr>\n",
       "      <th>1</th>\n",
       "      <td>2</td>\n",
       "      <td>0.566393</td>\n",
       "    </tr>\n",
       "    <tr>\n",
       "      <th>2</th>\n",
       "      <td>3</td>\n",
       "      <td>0.253039</td>\n",
       "    </tr>\n",
       "    <tr>\n",
       "      <th>3</th>\n",
       "      <td>4</td>\n",
       "      <td>0.405228</td>\n",
       "    </tr>\n",
       "    <tr>\n",
       "      <th>4</th>\n",
       "      <td>5</td>\n",
       "      <td>0.480960</td>\n",
       "    </tr>\n",
       "  </tbody>\n",
       "</table>\n",
       "</div>"
      ],
      "text/plain": [
       "   Id  Predictions\n",
       "0   1     0.812575\n",
       "1   2     0.566393\n",
       "2   3     0.253039\n",
       "3   4     0.405228\n",
       "4   5     0.480960"
      ]
     },
     "execution_count": 131,
     "metadata": {},
     "output_type": "execute_result"
    }
   ],
   "source": [
    "output_df.head()"
   ]
  },
  {
   "cell_type": "code",
   "execution_count": 132,
   "id": "9fdfe05d-062e-4171-9478-efb332797ad0",
   "metadata": {},
   "outputs": [],
   "source": [
    "for i in high_degree_test_edges_index:\n",
    "    output_df.loc[i] = [i+1, 0.8]"
   ]
  },
  {
   "cell_type": "code",
   "execution_count": 133,
   "id": "79d2331c-67b5-44d5-bcaa-5e0627d18cd7",
   "metadata": {},
   "outputs": [],
   "source": [
    "output_df = output_df.sort_index()"
   ]
  },
  {
   "cell_type": "code",
   "execution_count": 134,
   "id": "05d5fe45-8f97-4960-9e63-bbb767a7d5db",
   "metadata": {},
   "outputs": [],
   "source": [
    "today_date = datetime.now().strftime(\"%Y%m%d_%H%M\")\n",
    "output_df.to_csv(f'submissions\\{today_date}_submission.csv', index = False)"
   ]
  },
  {
   "cell_type": "code",
   "execution_count": null,
   "id": "0c12fc20-3b94-42df-8c35-9bf51e684c21",
   "metadata": {},
   "outputs": [],
   "source": []
  },
  {
   "cell_type": "markdown",
   "id": "c4a0fa25-6ef3-4411-9569-44217d0db0c5",
   "metadata": {},
   "source": [
    "## Playground"
   ]
  },
  {
   "cell_type": "code",
   "execution_count": null,
   "id": "b355d4ba-999d-44d4-9779-a537153d75bf",
   "metadata": {},
   "outputs": [],
   "source": [
    "# def extract_features(graph, node1, node2):\n",
    "#     # Common Friends\n",
    "#     common_friends = len(set(graph.successors(node1)).intersection(set(graph.successors(node2))))\n",
    "    \n",
    "#     # Total Friends\n",
    "#     total_friends = len(set(graph.successors(node1)).union(set(graph.successors(node2))))\n",
    "    \n",
    "#     # Resource Allocation Index\n",
    "#     ra_index = sum(1 / graph.out_degree(neighbor) for neighbor in set(graph.successors(node1)).intersection(set(graph.successors(node2))))\n",
    "    \n",
    "#     # Jaccard Coefficient\n",
    "#     jaccard_coef = nx.jaccard_coefficient(graph, [(node1, node2)])[0][2]\n",
    "    \n",
    "#     # Adamic-Adar Index\n",
    "#     aa_index = sum(1 / log(graph.out_degree(neighbor)) for neighbor in set(graph.successors(node1)).intersection(set(graph.successors(node2))))\n",
    "    \n",
    "#     # Preferential Attachment\n",
    "#     pref_attach = graph.out_degree(node1) * graph.out_degree(node2)\n",
    "    \n",
    "#     # Katz Centrality\n",
    "#     try:\n",
    "#         katz_cent = nx.katz_centrality(graph, alpha=0.1, beta=0.1)[node1] * nx.katz_centrality(graph, alpha=0.1, beta=0.1)[node2]\n",
    "#     except nx.NetworkXError:\n",
    "#         katz_cent = 0  # Handle the case when one of the nodes is not in the largest connected component\n",
    "        \n",
    "#     return common_friends, total_friends, ra_index, jaccard_coef, aa_index, pref_attach, katz_cent\n",
    "\n",
    "# # Example usage:\n",
    "# # Assuming you have a NetworkX DiGraph named 'graph'\n",
    "# node1 = 1\n",
    "# node2 = 2\n",
    "# features = extract_features(graph, node1, node2)\n",
    "# print(\"Common Friends:\", features[0])\n",
    "# print(\"Total Friends:\", features[1])\n",
    "# print(\"Resource Allocation Index:\", features[2])\n",
    "# print(\"Jaccard Coefficient:\", features[3])\n",
    "# print(\"Adamic-Adar Index:\", features[4])\n",
    "# print(\"Preferential Attachment:\", features[5])\n",
    "# print(\"Katz Centrality:\", features[6])"
   ]
  },
  {
   "cell_type": "code",
   "execution_count": null,
   "id": "06251041-5c7f-4493-9b7a-278d84602222",
   "metadata": {},
   "outputs": [],
   "source": [
    "# # Resource Allocation Index (RA Index)\n",
    "# ra_index = list(nx.resource_allocation_index(DIG, [(node1, node2)]))\n",
    "\n",
    "# # Jaccard Coefficient\n",
    "# jaccard_coef = list(nx.jaccard_coefficient(DIG, [(node1, node2)]))\n",
    "\n",
    "# # Adamic-Adar Index\n",
    "# aa_index = list(nx.adamic_adar_index(DIG, [(node1, node2)]))\n",
    "\n",
    "# # Preferential Attachment\n",
    "# pref_attach = list(nx.preferential_attachment(DIG, [(node1, node2)]))\n",
    "\n",
    "# # Katz Centrality\n",
    "# katz_cent = nx.katz_centrality(DIG)\n",
    "\n",
    "# # Extract Katz Centrality for the given pair of vertices\n",
    "# katz_cent_node1 = katz_cent[node1]\n",
    "# katz_cent_node2 = katz_cent[node2]"
   ]
  },
  {
   "cell_type": "code",
   "execution_count": null,
   "id": "b954b653-bd86-4ea4-b291-442919203063",
   "metadata": {},
   "outputs": [],
   "source": [
    "pr = nx.pagerank(DiG)"
   ]
  },
  {
   "cell_type": "code",
   "execution_count": null,
   "id": "c368d3a8-cba3-4aaf-a45d-da3dd777901d",
   "metadata": {},
   "outputs": [],
   "source": [
    "train_df['source'].apply(lambda x : pr[x])"
   ]
  },
  {
   "cell_type": "code",
   "execution_count": null,
   "id": "e36bf87b-7940-450e-91a1-c815f841ec54",
   "metadata": {},
   "outputs": [],
   "source": [
    "sorted_dict = dict(sorted(pr.items(), key=lambda x: x[1], reverse = True))"
   ]
  },
  {
   "cell_type": "code",
   "execution_count": null,
   "id": "2405fa90-e5f4-45ac-ac13-3e95117a79c9",
   "metadata": {},
   "outputs": [],
   "source": [
    "sorted_dict"
   ]
  },
  {
   "cell_type": "code",
   "execution_count": null,
   "id": "b53afec2-f97e-4e69-b5fe-04ffb549482d",
   "metadata": {},
   "outputs": [],
   "source": [
    "test_df['From'].apply(lambda x : DiG.out_degree(x)).sort_values(ascending=False)"
   ]
  },
  {
   "cell_type": "code",
   "execution_count": null,
   "id": "47568954-ccf6-4ea8-ab72-a246f1151eac",
   "metadata": {},
   "outputs": [],
   "source": [
    "test_edges_list = list(zip(test_df['From'].tolist(), test_df['To'].tolist()))"
   ]
  },
  {
   "cell_type": "code",
   "execution_count": null,
   "id": "9005724d-f7f7-4c09-b902-1296345a68db",
   "metadata": {},
   "outputs": [],
   "source": [
    "test_edges_list"
   ]
  },
  {
   "cell_type": "code",
   "execution_count": null,
   "id": "17342ec4-e8cd-4260-9489-a3ef6e25ed25",
   "metadata": {},
   "outputs": [],
   "source": [
    "sampled_santhosh = pd.read_csv('20240303_2235_sampled_edges.csv')\n",
    "sampled_santhosh['source'] = sampled_santhosh['source'].astype(str)\n",
    "sampled_santhosh['sink'] = sampled_santhosh['sink'].astype(str)\n",
    "sampled_santhosh.head()"
   ]
  },
  {
   "cell_type": "code",
   "execution_count": null,
   "id": "1d72db98-79f3-41f3-80bd-f1952cd31389",
   "metadata": {},
   "outputs": [],
   "source": [
    "sample_edges_list = list(zip(sampled_santhosh['source'].tolist(),sampled_santhosh['sink'].tolist()))"
   ]
  },
  {
   "cell_type": "code",
   "execution_count": null,
   "id": "5841d0ed-c4f8-4545-aa80-b5726f02dba3",
   "metadata": {},
   "outputs": [],
   "source": [
    "sample_edges_list"
   ]
  },
  {
   "cell_type": "code",
   "execution_count": null,
   "id": "8faea629-e251-4744-b74d-0fa06c83b2d5",
   "metadata": {},
   "outputs": [],
   "source": [
    "set(test_edges_list).intersection(set(sample_edges_list))"
   ]
  },
  {
   "cell_type": "code",
   "execution_count": null,
   "id": "4c18f5ae-daf5-4bd4-ae12-515f9d7bdd32",
   "metadata": {},
   "outputs": [],
   "source": [
    "set(test_edges_list).intersection(set(DiG.edges()))"
   ]
  },
  {
   "cell_type": "code",
   "execution_count": null,
   "id": "401d9c47-1fe5-4059-92bc-6abb46b9c9a0",
   "metadata": {},
   "outputs": [],
   "source": [
    "list(DiG.edges())[:5]"
   ]
  },
  {
   "cell_type": "code",
   "execution_count": null,
   "id": "d4cacc17-18e3-4740-a44e-e4c9061894ed",
   "metadata": {},
   "outputs": [],
   "source": []
  },
  {
   "cell_type": "code",
   "execution_count": null,
   "id": "048baa41-f692-44d1-ae15-b4ba60e292ad",
   "metadata": {},
   "outputs": [],
   "source": [
    "test_edges_list"
   ]
  },
  {
   "cell_type": "code",
   "execution_count": null,
   "id": "e156f928-c8ad-4bae-8cb1-d11f0399b6f7",
   "metadata": {},
   "outputs": [],
   "source": [
    "len(set(test_nodes))"
   ]
  },
  {
   "cell_type": "code",
   "execution_count": null,
   "id": "5a96de51-9d65-4ae9-a64a-80c8b471c98a",
   "metadata": {},
   "outputs": [],
   "source": [
    "sample_nodes = sampled_santhosh['source'].tolist() + sampled_santhosh['sink'].tolist()"
   ]
  },
  {
   "cell_type": "code",
   "execution_count": null,
   "id": "c2181e3c-7411-4fa5-94f0-9849a9eb4b94",
   "metadata": {},
   "outputs": [],
   "source": [
    "set(test_nodes)"
   ]
  },
  {
   "cell_type": "code",
   "execution_count": null,
   "id": "3760700d-32c7-44f1-9d03-0150713f7419",
   "metadata": {},
   "outputs": [],
   "source": [
    "len(set(sample_nodes).intersection(set(test_nodes)))"
   ]
  },
  {
   "cell_type": "code",
   "execution_count": null,
   "id": "5e91c20c-5a0f-41f9-9323-f7b3e45b95d7",
   "metadata": {},
   "outputs": [],
   "source": [
    "train_nodes = train_df['source'].tolist() + train_df['sink'].tolist()"
   ]
  },
  {
   "cell_type": "code",
   "execution_count": null,
   "id": "815d8eff-e57e-4852-8423-fff85326c2d0",
   "metadata": {},
   "outputs": [],
   "source": [
    "len(set(train_nodes).intersection(set(test_nodes)))"
   ]
  },
  {
   "cell_type": "code",
   "execution_count": null,
   "id": "556cddf8-43dd-4d83-8dff-9823575ab2e3",
   "metadata": {},
   "outputs": [],
   "source": [
    "test_node_degree = [G.degree(x) for x in test_nodes]\n",
    "train_node_degree = [G.degree(x) for x in train_nodes]"
   ]
  },
  {
   "cell_type": "code",
   "execution_count": null,
   "id": "7740b578-4a3a-4f49-99bb-cc9d5b88c012",
   "metadata": {},
   "outputs": [],
   "source": [
    "import matplotlib.pyplot as plt\n",
    "\n",
    "plt.hist(sorted(test_node_degree, reverse = True), bins=50, edgecolor='black', color='skyblue')\n",
    "plt.show()"
   ]
  },
  {
   "cell_type": "code",
   "execution_count": null,
   "id": "4f036789-9e36-4a66-ade8-b7d882578bc3",
   "metadata": {},
   "outputs": [],
   "source": [
    "count = 0\n",
    "for x in test_node_degree:\n",
    "    if x > 10000:\n",
    "        count += 1\n",
    "print(count)"
   ]
  },
  {
   "cell_type": "code",
   "execution_count": null,
   "id": "d1fc3757-9085-442c-b8f6-283983ca9267",
   "metadata": {},
   "outputs": [],
   "source": [
    "len(test_node_degree)"
   ]
  },
  {
   "cell_type": "code",
   "execution_count": null,
   "id": "1cb59c25-a484-4d4b-8bd3-71c59db92daf",
   "metadata": {},
   "outputs": [],
   "source": [
    "import matplotlib.pyplot as plt\n",
    "\n",
    "plt.hist(sorted(test_df['pref_attach'], reverse = True), bins=50, edgecolor='black', color='skyblue')\n",
    "plt.show()"
   ]
  },
  {
   "cell_type": "code",
   "execution_count": null,
   "id": "6ef377f4-b974-4873-a362-3094deaa20a6",
   "metadata": {},
   "outputs": [],
   "source": [
    "sorted(train_df['pref_attach'], reverse = False)"
   ]
  },
  {
   "cell_type": "code",
   "execution_count": null,
   "id": "4f01d7b1-1d71-448d-b911-21e740895522",
   "metadata": {},
   "outputs": [],
   "source": [
    "sum([1,1])"
   ]
  },
  {
   "cell_type": "code",
   "execution_count": null,
   "id": "35ed67f4-d668-45ab-aa03-fe58549089b1",
   "metadata": {},
   "outputs": [],
   "source": []
  }
 ],
 "metadata": {
  "kernelspec": {
   "display_name": "Python 3 (ipykernel)",
   "language": "python",
   "name": "python3"
  },
  "language_info": {
   "codemirror_mode": {
    "name": "ipython",
    "version": 3
   },
   "file_extension": ".py",
   "mimetype": "text/x-python",
   "name": "python",
   "nbconvert_exporter": "python",
   "pygments_lexer": "ipython3",
   "version": "3.11.7"
  }
 },
 "nbformat": 4,
 "nbformat_minor": 5
}
