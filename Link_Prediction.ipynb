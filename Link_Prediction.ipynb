{
 "cells": [
  {
   "cell_type": "markdown",
   "id": "8f74c7bb-d033-4a7c-833a-aab7b5955d66",
   "metadata": {},
   "source": [
    "## Imports"
   ]
  },
  {
   "cell_type": "code",
   "execution_count": 1,
   "id": "ae9752be-7e98-45f6-8054-0620436395d6",
   "metadata": {},
   "outputs": [],
   "source": [
    "import pandas as pd\n",
    "import csv\n",
    "import numpy as np\n",
    "import random\n",
    "import numpy as np\n",
    "import matplotlib.pyplot as plt\n",
    "import seaborn as sns\n",
    "from sklearn.model_selection import KFold\n",
    "from sklearn.metrics import confusion_matrix\n",
    "from sklearn.linear_model import LogisticRegression\n",
    "from sklearn.preprocessing import MinMaxScaler\n",
    "from datetime import datetime\n",
    "import networkx as nx"
   ]
  },
  {
   "cell_type": "markdown",
   "id": "4b0ac496-a92f-4f3c-8349-8623ef5ff87e",
   "metadata": {},
   "source": [
    "## File Paths"
   ]
  },
  {
   "cell_type": "code",
   "execution_count": 2,
   "id": "1357f1b1-b7b6-46d4-a1b5-26dff84c83c4",
   "metadata": {},
   "outputs": [],
   "source": [
    "train_file = 'train.csv'"
   ]
  },
  {
   "cell_type": "markdown",
   "id": "dbf8c06b-5eb8-4982-9f38-25178c1656ce",
   "metadata": {},
   "source": [
    "## Functions"
   ]
  },
  {
   "cell_type": "code",
   "execution_count": 3,
   "id": "afb29dc6-b048-4f28-b9ab-e97fd9decdf9",
   "metadata": {},
   "outputs": [],
   "source": [
    "def create_edges(adjacency_list : dict):\n",
    "    edges = []\n",
    "    for node in adjacency_list.keys():\n",
    "        for neighbour in adjacency_list[node]:\n",
    "            edges.append([node, neighbour])\n",
    "\n",
    "    return edges"
   ]
  },
  {
   "cell_type": "markdown",
   "id": "69ab76c9-93a2-4001-8d95-ae7079431e96",
   "metadata": {},
   "source": [
    "## Adjacency List"
   ]
  },
  {
   "cell_type": "code",
   "execution_count": 4,
   "id": "02847840-f566-4bc3-9854-4cc0f9280343",
   "metadata": {},
   "outputs": [],
   "source": [
    "# adjacency_list = {}\n",
    "# with open(train_file, 'r') as csvfile:\n",
    "#     reader = csv.reader(csvfile)\n",
    "#     for row in reader:\n",
    "#         if len(row) > 1:\n",
    "#             adjacency_list[row[0]] = row[1:]\n",
    "#         else:\n",
    "#             adjacency_list[row[0]] = []"
   ]
  },
  {
   "cell_type": "markdown",
   "id": "506c0ee2-cb23-43f2-917a-c4024f8b5187",
   "metadata": {},
   "source": [
    "## Adjacency List Sampled"
   ]
  },
  {
   "cell_type": "code",
   "execution_count": 5,
   "id": "cfacb5c4-ee1a-4b5d-a6fe-16179beaf6f9",
   "metadata": {},
   "outputs": [],
   "source": [
    "seed_value = 16\n",
    "random.seed(seed_value)\n",
    "\n",
    "adjacency_list_sampled = {}\n",
    "sampling_ratio = 0.001\n",
    "\n",
    "with open(train_file, 'r') as csvfile:\n",
    "    reader = csv.reader(csvfile)\n",
    "    for row_string in reader:\n",
    "        row = [int(x) for x in row_string]\n",
    "        num_samples = max(int(len(row) * sampling_ratio), min(20,len(row)-1)) #sample atleast 20 edges from each node\n",
    "        if len(row) > 1:\n",
    "            adjacency_list_sampled[row[0]] = set(random.sample(row[1:], num_samples))\n",
    "        else:\n",
    "            #To handle nodes with no neighbors\n",
    "            adjacency_list_sampled[row[0]] = set([])"
   ]
  },
  {
   "cell_type": "markdown",
   "id": "46bbba47-e98e-4b42-95e3-e857b0bd0e60",
   "metadata": {},
   "source": [
    "## Sampled Edges Dataframe"
   ]
  },
  {
   "cell_type": "markdown",
   "id": "fb55b555-87d3-48b7-83d6-2b9be155de25",
   "metadata": {},
   "source": [
    "### Creating from sampled adjacency list"
   ]
  },
  {
   "cell_type": "code",
   "execution_count": 6,
   "id": "b0d20080-6c13-49e8-83d2-9ddb122ec843",
   "metadata": {},
   "outputs": [],
   "source": [
    "sampled_edges = create_edges(adjacency_list_sampled)"
   ]
  },
  {
   "cell_type": "code",
   "execution_count": 7,
   "id": "c6025b56-c7b2-42e7-a398-978901532cae",
   "metadata": {},
   "outputs": [
    {
     "data": {
      "text/html": [
       "<div>\n",
       "<style scoped>\n",
       "    .dataframe tbody tr th:only-of-type {\n",
       "        vertical-align: middle;\n",
       "    }\n",
       "\n",
       "    .dataframe tbody tr th {\n",
       "        vertical-align: top;\n",
       "    }\n",
       "\n",
       "    .dataframe thead th {\n",
       "        text-align: right;\n",
       "    }\n",
       "</style>\n",
       "<table border=\"1\" class=\"dataframe\">\n",
       "  <thead>\n",
       "    <tr style=\"text-align: right;\">\n",
       "      <th></th>\n",
       "      <th>source</th>\n",
       "      <th>sink</th>\n",
       "    </tr>\n",
       "  </thead>\n",
       "  <tbody>\n",
       "    <tr>\n",
       "      <th>0</th>\n",
       "      <td>687794</td>\n",
       "      <td>4763554</td>\n",
       "    </tr>\n",
       "    <tr>\n",
       "      <th>1</th>\n",
       "      <td>687794</td>\n",
       "      <td>1224868</td>\n",
       "    </tr>\n",
       "    <tr>\n",
       "      <th>2</th>\n",
       "      <td>687794</td>\n",
       "      <td>32423</td>\n",
       "    </tr>\n",
       "  </tbody>\n",
       "</table>\n",
       "</div>"
      ],
      "text/plain": [
       "   source     sink\n",
       "0  687794  4763554\n",
       "1  687794  1224868\n",
       "2  687794    32423"
      ]
     },
     "execution_count": 7,
     "metadata": {},
     "output_type": "execute_result"
    }
   ],
   "source": [
    "sampled_edges_df = pd.DataFrame(sampled_edges, columns = ['source', 'sink'])\n",
    "sampled_edges_df.head(3)"
   ]
  },
  {
   "cell_type": "code",
   "execution_count": 8,
   "id": "723b88f7-ddb1-497b-a3a0-2131c2c74c8f",
   "metadata": {},
   "outputs": [
    {
     "data": {
      "text/plain": [
       "(377684, 2)"
      ]
     },
     "execution_count": 8,
     "metadata": {},
     "output_type": "execute_result"
    }
   ],
   "source": [
    "sampled_edges_df.shape"
   ]
  },
  {
   "cell_type": "code",
   "execution_count": 9,
   "id": "ba09eb6b-e654-4d0a-b7ef-c67e5fc3b008",
   "metadata": {},
   "outputs": [
    {
     "data": {
      "text/plain": [
       "19570"
      ]
     },
     "execution_count": 9,
     "metadata": {},
     "output_type": "execute_result"
    }
   ],
   "source": [
    "sampled_edges_df.source.nunique() #430 nodes have no edges"
   ]
  },
  {
   "cell_type": "markdown",
   "id": "31edf17a-9b0d-478c-907f-cd6c216e909b",
   "metadata": {},
   "source": [
    "### Adding Labels column"
   ]
  },
  {
   "cell_type": "code",
   "execution_count": 10,
   "id": "47ba2f09-93f0-4afc-88fe-c019ac9d68ec",
   "metadata": {},
   "outputs": [
    {
     "data": {
      "text/html": [
       "<div>\n",
       "<style scoped>\n",
       "    .dataframe tbody tr th:only-of-type {\n",
       "        vertical-align: middle;\n",
       "    }\n",
       "\n",
       "    .dataframe tbody tr th {\n",
       "        vertical-align: top;\n",
       "    }\n",
       "\n",
       "    .dataframe thead th {\n",
       "        text-align: right;\n",
       "    }\n",
       "</style>\n",
       "<table border=\"1\" class=\"dataframe\">\n",
       "  <thead>\n",
       "    <tr style=\"text-align: right;\">\n",
       "      <th></th>\n",
       "      <th>source</th>\n",
       "      <th>sink</th>\n",
       "      <th>label</th>\n",
       "    </tr>\n",
       "  </thead>\n",
       "  <tbody>\n",
       "    <tr>\n",
       "      <th>0</th>\n",
       "      <td>687794</td>\n",
       "      <td>4763554</td>\n",
       "      <td>1</td>\n",
       "    </tr>\n",
       "    <tr>\n",
       "      <th>1</th>\n",
       "      <td>687794</td>\n",
       "      <td>1224868</td>\n",
       "      <td>1</td>\n",
       "    </tr>\n",
       "    <tr>\n",
       "      <th>2</th>\n",
       "      <td>687794</td>\n",
       "      <td>32423</td>\n",
       "      <td>1</td>\n",
       "    </tr>\n",
       "  </tbody>\n",
       "</table>\n",
       "</div>"
      ],
      "text/plain": [
       "   source     sink  label\n",
       "0  687794  4763554      1\n",
       "1  687794  1224868      1\n",
       "2  687794    32423      1"
      ]
     },
     "execution_count": 10,
     "metadata": {},
     "output_type": "execute_result"
    }
   ],
   "source": [
    "sampled_edges_df['label'] = 1\n",
    "sampled_edges_df.head(3)"
   ]
  },
  {
   "cell_type": "markdown",
   "id": "43b0e8a4-27c9-4551-9da7-a2189c7d585e",
   "metadata": {},
   "source": [
    "### Add False Edges (using nodes with degree = 0)"
   ]
  },
  {
   "cell_type": "code",
   "execution_count": 11,
   "id": "feb83fef-12e3-4237-bd67-2561b95dbb5e",
   "metadata": {},
   "outputs": [],
   "source": [
    "false_edges_adjacency_list = {}\n",
    "\n",
    "sinks = list(set(sampled_edges_df['sink'].values).union(set(sampled_edges_df['source'].values)))\n",
    "\n",
    "for node in adjacency_list_sampled.keys():\n",
    "    if len(adjacency_list_sampled[node]) == 0:\n",
    "        degree = random.randint(5, 50)\n",
    "        sink_nodes = set(random.sample(sinks, degree))\n",
    "        false_edges_adjacency_list[node] = sink_nodes\n",
    "    else:\n",
    "        degree = random.randint(5, 50)\n",
    "        sink_nodes = set(random.sample(sinks, degree))\n",
    "        sink_nodes = [x for x in sink_nodes if x not in adjacency_list_sampled[node]]\n",
    "        false_edges_adjacency_list[node] = sink_nodes        "
   ]
  },
  {
   "cell_type": "code",
   "execution_count": 12,
   "id": "848ddac0-8fe5-4de5-9653-fe1eb41cc8f1",
   "metadata": {},
   "outputs": [],
   "source": [
    "false_edges = create_edges(false_edges_adjacency_list)"
   ]
  },
  {
   "cell_type": "code",
   "execution_count": 13,
   "id": "06e99069-7f3e-4f86-831f-23a5017c4653",
   "metadata": {},
   "outputs": [
    {
     "data": {
      "text/html": [
       "<div>\n",
       "<style scoped>\n",
       "    .dataframe tbody tr th:only-of-type {\n",
       "        vertical-align: middle;\n",
       "    }\n",
       "\n",
       "    .dataframe tbody tr th {\n",
       "        vertical-align: top;\n",
       "    }\n",
       "\n",
       "    .dataframe thead th {\n",
       "        text-align: right;\n",
       "    }\n",
       "</style>\n",
       "<table border=\"1\" class=\"dataframe\">\n",
       "  <thead>\n",
       "    <tr style=\"text-align: right;\">\n",
       "      <th></th>\n",
       "      <th>source</th>\n",
       "      <th>sink</th>\n",
       "    </tr>\n",
       "  </thead>\n",
       "  <tbody>\n",
       "    <tr>\n",
       "      <th>0</th>\n",
       "      <td>687794</td>\n",
       "      <td>1565376</td>\n",
       "    </tr>\n",
       "    <tr>\n",
       "      <th>1</th>\n",
       "      <td>687794</td>\n",
       "      <td>1868864</td>\n",
       "    </tr>\n",
       "    <tr>\n",
       "      <th>2</th>\n",
       "      <td>687794</td>\n",
       "      <td>4506663</td>\n",
       "    </tr>\n",
       "  </tbody>\n",
       "</table>\n",
       "</div>"
      ],
      "text/plain": [
       "   source     sink\n",
       "0  687794  1565376\n",
       "1  687794  1868864\n",
       "2  687794  4506663"
      ]
     },
     "execution_count": 13,
     "metadata": {},
     "output_type": "execute_result"
    }
   ],
   "source": [
    "false_edges_df = pd.DataFrame(false_edges, columns = ['source', 'sink'])\n",
    "false_edges_df.head(3)"
   ]
  },
  {
   "cell_type": "code",
   "execution_count": 14,
   "id": "e5fb147f-07f4-4db1-a550-f6db40f33133",
   "metadata": {},
   "outputs": [
    {
     "data": {
      "text/html": [
       "<div>\n",
       "<style scoped>\n",
       "    .dataframe tbody tr th:only-of-type {\n",
       "        vertical-align: middle;\n",
       "    }\n",
       "\n",
       "    .dataframe tbody tr th {\n",
       "        vertical-align: top;\n",
       "    }\n",
       "\n",
       "    .dataframe thead th {\n",
       "        text-align: right;\n",
       "    }\n",
       "</style>\n",
       "<table border=\"1\" class=\"dataframe\">\n",
       "  <thead>\n",
       "    <tr style=\"text-align: right;\">\n",
       "      <th></th>\n",
       "      <th>source</th>\n",
       "      <th>sink</th>\n",
       "      <th>label</th>\n",
       "    </tr>\n",
       "  </thead>\n",
       "  <tbody>\n",
       "    <tr>\n",
       "      <th>0</th>\n",
       "      <td>687794</td>\n",
       "      <td>1565376</td>\n",
       "      <td>0</td>\n",
       "    </tr>\n",
       "    <tr>\n",
       "      <th>1</th>\n",
       "      <td>687794</td>\n",
       "      <td>1868864</td>\n",
       "      <td>0</td>\n",
       "    </tr>\n",
       "    <tr>\n",
       "      <th>2</th>\n",
       "      <td>687794</td>\n",
       "      <td>4506663</td>\n",
       "      <td>0</td>\n",
       "    </tr>\n",
       "  </tbody>\n",
       "</table>\n",
       "</div>"
      ],
      "text/plain": [
       "   source     sink  label\n",
       "0  687794  1565376      0\n",
       "1  687794  1868864      0\n",
       "2  687794  4506663      0"
      ]
     },
     "execution_count": 14,
     "metadata": {},
     "output_type": "execute_result"
    }
   ],
   "source": [
    "false_edges_df['label'] = 0\n",
    "false_edges_df.head(3)"
   ]
  },
  {
   "cell_type": "code",
   "execution_count": 15,
   "id": "0424e409-ea06-49ac-a52b-0070a242a2cb",
   "metadata": {},
   "outputs": [
    {
     "data": {
      "text/html": [
       "<div>\n",
       "<style scoped>\n",
       "    .dataframe tbody tr th:only-of-type {\n",
       "        vertical-align: middle;\n",
       "    }\n",
       "\n",
       "    .dataframe tbody tr th {\n",
       "        vertical-align: top;\n",
       "    }\n",
       "\n",
       "    .dataframe thead th {\n",
       "        text-align: right;\n",
       "    }\n",
       "</style>\n",
       "<table border=\"1\" class=\"dataframe\">\n",
       "  <thead>\n",
       "    <tr style=\"text-align: right;\">\n",
       "      <th></th>\n",
       "      <th>source</th>\n",
       "      <th>sink</th>\n",
       "      <th>label</th>\n",
       "    </tr>\n",
       "  </thead>\n",
       "  <tbody>\n",
       "    <tr>\n",
       "      <th>0</th>\n",
       "      <td>687794</td>\n",
       "      <td>4763554</td>\n",
       "      <td>1</td>\n",
       "    </tr>\n",
       "    <tr>\n",
       "      <th>1</th>\n",
       "      <td>687794</td>\n",
       "      <td>1224868</td>\n",
       "      <td>1</td>\n",
       "    </tr>\n",
       "    <tr>\n",
       "      <th>2</th>\n",
       "      <td>687794</td>\n",
       "      <td>32423</td>\n",
       "      <td>1</td>\n",
       "    </tr>\n",
       "    <tr>\n",
       "      <th>3</th>\n",
       "      <td>687794</td>\n",
       "      <td>1198888</td>\n",
       "      <td>1</td>\n",
       "    </tr>\n",
       "    <tr>\n",
       "      <th>4</th>\n",
       "      <td>687794</td>\n",
       "      <td>1822375</td>\n",
       "      <td>1</td>\n",
       "    </tr>\n",
       "  </tbody>\n",
       "</table>\n",
       "</div>"
      ],
      "text/plain": [
       "   source     sink  label\n",
       "0  687794  4763554      1\n",
       "1  687794  1224868      1\n",
       "2  687794    32423      1\n",
       "3  687794  1198888      1\n",
       "4  687794  1822375      1"
      ]
     },
     "execution_count": 15,
     "metadata": {},
     "output_type": "execute_result"
    }
   ],
   "source": [
    "train_df = pd.concat([sampled_edges_df, false_edges_df])\n",
    "train_df.head()"
   ]
  },
  {
   "cell_type": "code",
   "execution_count": 16,
   "id": "96e83f87-6e62-499b-b59c-7aa0265eee65",
   "metadata": {},
   "outputs": [
    {
     "data": {
      "text/plain": [
       "(925318, 3)"
      ]
     },
     "execution_count": 16,
     "metadata": {},
     "output_type": "execute_result"
    }
   ],
   "source": [
    "train_df.shape"
   ]
  },
  {
   "cell_type": "code",
   "execution_count": 17,
   "id": "700fcc72-abce-4d1b-8aef-1bded328a108",
   "metadata": {},
   "outputs": [
    {
     "data": {
      "text/plain": [
       "label\n",
       "0    547634\n",
       "1    377684\n",
       "Name: count, dtype: int64"
      ]
     },
     "execution_count": 17,
     "metadata": {},
     "output_type": "execute_result"
    }
   ],
   "source": [
    "train_df.label.value_counts()"
   ]
  },
  {
   "cell_type": "markdown",
   "id": "14c0b4b6-1aa7-4238-b3db-66a89609bf59",
   "metadata": {},
   "source": [
    "## Making a Graph"
   ]
  },
  {
   "cell_type": "code",
   "execution_count": 27,
   "id": "42bd8a48-c4ba-4d9e-9524-0e381ff177b0",
   "metadata": {},
   "outputs": [],
   "source": [
    "train_df = train_df.loc[~(train_df['source'] == train_df['sink'])] #to remove self loops"
   ]
  },
  {
   "cell_type": "code",
   "execution_count": 28,
   "id": "0afbea17-adaf-42a6-98f2-1f4798b3713d",
   "metadata": {},
   "outputs": [],
   "source": [
    "edge_list = list(zip(train_df['source'].tolist(), train_df['sink'].tolist()))"
   ]
  },
  {
   "cell_type": "code",
   "execution_count": 31,
   "id": "083335d0-014e-4eb8-8d65-6ca5fde3e582",
   "metadata": {},
   "outputs": [],
   "source": [
    "G = nx.Graph(edge_list)"
   ]
  },
  {
   "cell_type": "markdown",
   "id": "de638b44-c6aa-490d-9bc0-e99fda18eaf1",
   "metadata": {},
   "source": [
    "## Features"
   ]
  },
  {
   "cell_type": "markdown",
   "id": "a070056c-713d-4e7c-8d05-dea220cde2a5",
   "metadata": {},
   "source": [
    "### Feature 1: Source Degree"
   ]
  },
  {
   "cell_type": "code",
   "execution_count": 33,
   "id": "fff31c06-e451-416a-9eb1-44ace54e778a",
   "metadata": {},
   "outputs": [
    {
     "name": "stderr",
     "output_type": "stream",
     "text": [
      "C:\\Users\\Jugal balaji\\AppData\\Local\\Temp\\ipykernel_12560\\2560310594.py:1: SettingWithCopyWarning: \n",
      "A value is trying to be set on a copy of a slice from a DataFrame.\n",
      "Try using .loc[row_indexer,col_indexer] = value instead\n",
      "\n",
      "See the caveats in the documentation: https://pandas.pydata.org/pandas-docs/stable/user_guide/indexing.html#returning-a-view-versus-a-copy\n",
      "  train_df['source_degree'] = train_df['source'].apply(lambda x : G.degree(x))\n"
     ]
    },
    {
     "data": {
      "text/html": [
       "<div>\n",
       "<style scoped>\n",
       "    .dataframe tbody tr th:only-of-type {\n",
       "        vertical-align: middle;\n",
       "    }\n",
       "\n",
       "    .dataframe tbody tr th {\n",
       "        vertical-align: top;\n",
       "    }\n",
       "\n",
       "    .dataframe thead th {\n",
       "        text-align: right;\n",
       "    }\n",
       "</style>\n",
       "<table border=\"1\" class=\"dataframe\">\n",
       "  <thead>\n",
       "    <tr style=\"text-align: right;\">\n",
       "      <th></th>\n",
       "      <th>source</th>\n",
       "      <th>sink</th>\n",
       "      <th>label</th>\n",
       "      <th>source_degree</th>\n",
       "      <th>sink_degree</th>\n",
       "    </tr>\n",
       "  </thead>\n",
       "  <tbody>\n",
       "    <tr>\n",
       "      <th>0</th>\n",
       "      <td>687794</td>\n",
       "      <td>4763554</td>\n",
       "      <td>1</td>\n",
       "      <td>69</td>\n",
       "      <td>89</td>\n",
       "    </tr>\n",
       "    <tr>\n",
       "      <th>1</th>\n",
       "      <td>687794</td>\n",
       "      <td>1224868</td>\n",
       "      <td>1</td>\n",
       "      <td>69</td>\n",
       "      <td>86</td>\n",
       "    </tr>\n",
       "    <tr>\n",
       "      <th>2</th>\n",
       "      <td>687794</td>\n",
       "      <td>32423</td>\n",
       "      <td>1</td>\n",
       "      <td>69</td>\n",
       "      <td>54</td>\n",
       "    </tr>\n",
       "  </tbody>\n",
       "</table>\n",
       "</div>"
      ],
      "text/plain": [
       "   source     sink  label  source_degree  sink_degree\n",
       "0  687794  4763554      1             69           89\n",
       "1  687794  1224868      1             69           86\n",
       "2  687794    32423      1             69           54"
      ]
     },
     "execution_count": 33,
     "metadata": {},
     "output_type": "execute_result"
    }
   ],
   "source": [
    "train_df['source_degree'] = train_df['source'].apply(lambda x : G.degree(x))\n",
    "train_df.head(3)"
   ]
  },
  {
   "cell_type": "markdown",
   "id": "7c805205-5476-4749-983b-97e37de431a5",
   "metadata": {},
   "source": [
    "### Feature 2: Sink Degree"
   ]
  },
  {
   "cell_type": "code",
   "execution_count": 34,
   "id": "69cd1111-6a45-430c-8690-a92341ee938c",
   "metadata": {},
   "outputs": [
    {
     "name": "stderr",
     "output_type": "stream",
     "text": [
      "C:\\Users\\Jugal balaji\\AppData\\Local\\Temp\\ipykernel_12560\\1523597974.py:1: SettingWithCopyWarning: \n",
      "A value is trying to be set on a copy of a slice from a DataFrame.\n",
      "Try using .loc[row_indexer,col_indexer] = value instead\n",
      "\n",
      "See the caveats in the documentation: https://pandas.pydata.org/pandas-docs/stable/user_guide/indexing.html#returning-a-view-versus-a-copy\n",
      "  train_df['sink_degree'] = train_df['sink'].apply(lambda x : G.degree(x))\n"
     ]
    },
    {
     "data": {
      "text/html": [
       "<div>\n",
       "<style scoped>\n",
       "    .dataframe tbody tr th:only-of-type {\n",
       "        vertical-align: middle;\n",
       "    }\n",
       "\n",
       "    .dataframe tbody tr th {\n",
       "        vertical-align: top;\n",
       "    }\n",
       "\n",
       "    .dataframe thead th {\n",
       "        text-align: right;\n",
       "    }\n",
       "</style>\n",
       "<table border=\"1\" class=\"dataframe\">\n",
       "  <thead>\n",
       "    <tr style=\"text-align: right;\">\n",
       "      <th></th>\n",
       "      <th>source</th>\n",
       "      <th>sink</th>\n",
       "      <th>label</th>\n",
       "      <th>source_degree</th>\n",
       "      <th>sink_degree</th>\n",
       "    </tr>\n",
       "  </thead>\n",
       "  <tbody>\n",
       "    <tr>\n",
       "      <th>0</th>\n",
       "      <td>687794</td>\n",
       "      <td>4763554</td>\n",
       "      <td>1</td>\n",
       "      <td>69</td>\n",
       "      <td>89</td>\n",
       "    </tr>\n",
       "    <tr>\n",
       "      <th>1</th>\n",
       "      <td>687794</td>\n",
       "      <td>1224868</td>\n",
       "      <td>1</td>\n",
       "      <td>69</td>\n",
       "      <td>86</td>\n",
       "    </tr>\n",
       "    <tr>\n",
       "      <th>2</th>\n",
       "      <td>687794</td>\n",
       "      <td>32423</td>\n",
       "      <td>1</td>\n",
       "      <td>69</td>\n",
       "      <td>54</td>\n",
       "    </tr>\n",
       "  </tbody>\n",
       "</table>\n",
       "</div>"
      ],
      "text/plain": [
       "   source     sink  label  source_degree  sink_degree\n",
       "0  687794  4763554      1             69           89\n",
       "1  687794  1224868      1             69           86\n",
       "2  687794    32423      1             69           54"
      ]
     },
     "execution_count": 34,
     "metadata": {},
     "output_type": "execute_result"
    }
   ],
   "source": [
    "train_df['sink_degree'] = train_df['sink'].apply(lambda x : G.degree(x))\n",
    "train_df.head(3)"
   ]
  },
  {
   "cell_type": "markdown",
   "id": "73036d2a-4536-4318-b043-52eeabd074aa",
   "metadata": {},
   "source": [
    "### Feature 3: Common Neighbours"
   ]
  },
  {
   "cell_type": "code",
   "execution_count": 35,
   "id": "f26d911c-c2d4-44cf-9588-ac735e4d68a2",
   "metadata": {},
   "outputs": [
    {
     "name": "stderr",
     "output_type": "stream",
     "text": [
      "C:\\Users\\Jugal balaji\\AppData\\Local\\Temp\\ipykernel_12560\\2533043717.py:1: SettingWithCopyWarning: \n",
      "A value is trying to be set on a copy of a slice from a DataFrame.\n",
      "Try using .loc[row_indexer,col_indexer] = value instead\n",
      "\n",
      "See the caveats in the documentation: https://pandas.pydata.org/pandas-docs/stable/user_guide/indexing.html#returning-a-view-versus-a-copy\n",
      "  train_df['common_neighbours'] = [len(set(nx.common_neighbors(G, u, v))) for u, v in edge_list]\n"
     ]
    },
    {
     "data": {
      "text/html": [
       "<div>\n",
       "<style scoped>\n",
       "    .dataframe tbody tr th:only-of-type {\n",
       "        vertical-align: middle;\n",
       "    }\n",
       "\n",
       "    .dataframe tbody tr th {\n",
       "        vertical-align: top;\n",
       "    }\n",
       "\n",
       "    .dataframe thead th {\n",
       "        text-align: right;\n",
       "    }\n",
       "</style>\n",
       "<table border=\"1\" class=\"dataframe\">\n",
       "  <thead>\n",
       "    <tr style=\"text-align: right;\">\n",
       "      <th></th>\n",
       "      <th>source</th>\n",
       "      <th>sink</th>\n",
       "      <th>label</th>\n",
       "      <th>source_degree</th>\n",
       "      <th>sink_degree</th>\n",
       "      <th>common_neighbours</th>\n",
       "    </tr>\n",
       "  </thead>\n",
       "  <tbody>\n",
       "    <tr>\n",
       "      <th>0</th>\n",
       "      <td>687794</td>\n",
       "      <td>4763554</td>\n",
       "      <td>1</td>\n",
       "      <td>69</td>\n",
       "      <td>89</td>\n",
       "      <td>0</td>\n",
       "    </tr>\n",
       "    <tr>\n",
       "      <th>1</th>\n",
       "      <td>687794</td>\n",
       "      <td>1224868</td>\n",
       "      <td>1</td>\n",
       "      <td>69</td>\n",
       "      <td>86</td>\n",
       "      <td>1</td>\n",
       "    </tr>\n",
       "    <tr>\n",
       "      <th>2</th>\n",
       "      <td>687794</td>\n",
       "      <td>32423</td>\n",
       "      <td>1</td>\n",
       "      <td>69</td>\n",
       "      <td>54</td>\n",
       "      <td>1</td>\n",
       "    </tr>\n",
       "  </tbody>\n",
       "</table>\n",
       "</div>"
      ],
      "text/plain": [
       "   source     sink  label  source_degree  sink_degree  common_neighbours\n",
       "0  687794  4763554      1             69           89                  0\n",
       "1  687794  1224868      1             69           86                  1\n",
       "2  687794    32423      1             69           54                  1"
      ]
     },
     "execution_count": 35,
     "metadata": {},
     "output_type": "execute_result"
    }
   ],
   "source": [
    "train_df['common_neighbours'] = [len(set(nx.common_neighbors(G, u, v))) for u, v in edge_list]\n",
    "train_df.head(3)"
   ]
  },
  {
   "cell_type": "markdown",
   "id": "6dd7d494-ad79-441e-970a-cfe44b105c5e",
   "metadata": {},
   "source": [
    "### Feature 4: Resource Allocation Index"
   ]
  },
  {
   "cell_type": "markdown",
   "id": "e1cd7df9-690e-4bff-9bcb-497e4265f44c",
   "metadata": {},
   "source": [
    "The resource_allocation_index is a measure in graph theory that quantifies the similarity between two nodes in a network by considering the common neighbors they share. It is a local index used in the context of link prediction or node similarity in social networks, biological networks, and other complex systems"
   ]
  },
  {
   "cell_type": "code",
   "execution_count": 36,
   "id": "ebeeadf8-3b4f-4e69-b979-42328c89f33d",
   "metadata": {},
   "outputs": [],
   "source": [
    "ra_index_generator = nx.resource_allocation_index(G, edge_list)\n",
    "ra_index = [x for _,_,x in ra_index_generator]"
   ]
  },
  {
   "cell_type": "code",
   "execution_count": 37,
   "id": "4bbfcfc2-870e-428a-aae9-eb3cfc5ca941",
   "metadata": {},
   "outputs": [
    {
     "name": "stderr",
     "output_type": "stream",
     "text": [
      "C:\\Users\\Jugal balaji\\AppData\\Local\\Temp\\ipykernel_12560\\2517861329.py:1: SettingWithCopyWarning: \n",
      "A value is trying to be set on a copy of a slice from a DataFrame.\n",
      "Try using .loc[row_indexer,col_indexer] = value instead\n",
      "\n",
      "See the caveats in the documentation: https://pandas.pydata.org/pandas-docs/stable/user_guide/indexing.html#returning-a-view-versus-a-copy\n",
      "  train_df['ra_index'] = ra_index\n"
     ]
    },
    {
     "data": {
      "text/html": [
       "<div>\n",
       "<style scoped>\n",
       "    .dataframe tbody tr th:only-of-type {\n",
       "        vertical-align: middle;\n",
       "    }\n",
       "\n",
       "    .dataframe tbody tr th {\n",
       "        vertical-align: top;\n",
       "    }\n",
       "\n",
       "    .dataframe thead th {\n",
       "        text-align: right;\n",
       "    }\n",
       "</style>\n",
       "<table border=\"1\" class=\"dataframe\">\n",
       "  <thead>\n",
       "    <tr style=\"text-align: right;\">\n",
       "      <th></th>\n",
       "      <th>source</th>\n",
       "      <th>sink</th>\n",
       "      <th>label</th>\n",
       "      <th>source_degree</th>\n",
       "      <th>sink_degree</th>\n",
       "      <th>common_neighbours</th>\n",
       "      <th>ra_index</th>\n",
       "    </tr>\n",
       "  </thead>\n",
       "  <tbody>\n",
       "    <tr>\n",
       "      <th>0</th>\n",
       "      <td>687794</td>\n",
       "      <td>4763554</td>\n",
       "      <td>1</td>\n",
       "      <td>69</td>\n",
       "      <td>89</td>\n",
       "      <td>0</td>\n",
       "      <td>0.000000</td>\n",
       "    </tr>\n",
       "    <tr>\n",
       "      <th>1</th>\n",
       "      <td>687794</td>\n",
       "      <td>1224868</td>\n",
       "      <td>1</td>\n",
       "      <td>69</td>\n",
       "      <td>86</td>\n",
       "      <td>1</td>\n",
       "      <td>0.008000</td>\n",
       "    </tr>\n",
       "    <tr>\n",
       "      <th>2</th>\n",
       "      <td>687794</td>\n",
       "      <td>32423</td>\n",
       "      <td>1</td>\n",
       "      <td>69</td>\n",
       "      <td>54</td>\n",
       "      <td>1</td>\n",
       "      <td>0.014085</td>\n",
       "    </tr>\n",
       "  </tbody>\n",
       "</table>\n",
       "</div>"
      ],
      "text/plain": [
       "   source     sink  label  source_degree  sink_degree  common_neighbours  \\\n",
       "0  687794  4763554      1             69           89                  0   \n",
       "1  687794  1224868      1             69           86                  1   \n",
       "2  687794    32423      1             69           54                  1   \n",
       "\n",
       "   ra_index  \n",
       "0  0.000000  \n",
       "1  0.008000  \n",
       "2  0.014085  "
      ]
     },
     "execution_count": 37,
     "metadata": {},
     "output_type": "execute_result"
    }
   ],
   "source": [
    "train_df['ra_index'] = ra_index\n",
    "train_df.head(3)"
   ]
  },
  {
   "cell_type": "markdown",
   "id": "41917be0-525d-404f-b034-4580d06a070f",
   "metadata": {},
   "source": [
    "### Feature 5: Jaccard Coefficient"
   ]
  },
  {
   "cell_type": "code",
   "execution_count": 38,
   "id": "1712c7e6-18e6-43a2-a4e9-8dae69d7337d",
   "metadata": {},
   "outputs": [],
   "source": [
    "jaccard_coef_generator = nx.jaccard_coefficient(G, edge_list)\n",
    "jaccard_coef = [x for _,_,x in jaccard_coef_generator]"
   ]
  },
  {
   "cell_type": "code",
   "execution_count": 39,
   "id": "21b9b84f-92d6-4944-a7b5-24f1b40c0169",
   "metadata": {},
   "outputs": [
    {
     "name": "stderr",
     "output_type": "stream",
     "text": [
      "C:\\Users\\Jugal balaji\\AppData\\Local\\Temp\\ipykernel_12560\\38945059.py:1: SettingWithCopyWarning: \n",
      "A value is trying to be set on a copy of a slice from a DataFrame.\n",
      "Try using .loc[row_indexer,col_indexer] = value instead\n",
      "\n",
      "See the caveats in the documentation: https://pandas.pydata.org/pandas-docs/stable/user_guide/indexing.html#returning-a-view-versus-a-copy\n",
      "  train_df['jaccard_coef'] = jaccard_coef\n"
     ]
    },
    {
     "data": {
      "text/html": [
       "<div>\n",
       "<style scoped>\n",
       "    .dataframe tbody tr th:only-of-type {\n",
       "        vertical-align: middle;\n",
       "    }\n",
       "\n",
       "    .dataframe tbody tr th {\n",
       "        vertical-align: top;\n",
       "    }\n",
       "\n",
       "    .dataframe thead th {\n",
       "        text-align: right;\n",
       "    }\n",
       "</style>\n",
       "<table border=\"1\" class=\"dataframe\">\n",
       "  <thead>\n",
       "    <tr style=\"text-align: right;\">\n",
       "      <th></th>\n",
       "      <th>source</th>\n",
       "      <th>sink</th>\n",
       "      <th>label</th>\n",
       "      <th>source_degree</th>\n",
       "      <th>sink_degree</th>\n",
       "      <th>common_neighbours</th>\n",
       "      <th>ra_index</th>\n",
       "      <th>jaccard_coef</th>\n",
       "    </tr>\n",
       "  </thead>\n",
       "  <tbody>\n",
       "    <tr>\n",
       "      <th>0</th>\n",
       "      <td>687794</td>\n",
       "      <td>4763554</td>\n",
       "      <td>1</td>\n",
       "      <td>69</td>\n",
       "      <td>89</td>\n",
       "      <td>0</td>\n",
       "      <td>0.000000</td>\n",
       "      <td>0.000000</td>\n",
       "    </tr>\n",
       "    <tr>\n",
       "      <th>1</th>\n",
       "      <td>687794</td>\n",
       "      <td>1224868</td>\n",
       "      <td>1</td>\n",
       "      <td>69</td>\n",
       "      <td>86</td>\n",
       "      <td>1</td>\n",
       "      <td>0.008000</td>\n",
       "      <td>0.006494</td>\n",
       "    </tr>\n",
       "    <tr>\n",
       "      <th>2</th>\n",
       "      <td>687794</td>\n",
       "      <td>32423</td>\n",
       "      <td>1</td>\n",
       "      <td>69</td>\n",
       "      <td>54</td>\n",
       "      <td>1</td>\n",
       "      <td>0.014085</td>\n",
       "      <td>0.008197</td>\n",
       "    </tr>\n",
       "  </tbody>\n",
       "</table>\n",
       "</div>"
      ],
      "text/plain": [
       "   source     sink  label  source_degree  sink_degree  common_neighbours  \\\n",
       "0  687794  4763554      1             69           89                  0   \n",
       "1  687794  1224868      1             69           86                  1   \n",
       "2  687794    32423      1             69           54                  1   \n",
       "\n",
       "   ra_index  jaccard_coef  \n",
       "0  0.000000      0.000000  \n",
       "1  0.008000      0.006494  \n",
       "2  0.014085      0.008197  "
      ]
     },
     "execution_count": 39,
     "metadata": {},
     "output_type": "execute_result"
    }
   ],
   "source": [
    "train_df['jaccard_coef'] = jaccard_coef\n",
    "train_df.head(3)"
   ]
  },
  {
   "cell_type": "markdown",
   "id": "7f6e409b-3226-419c-9390-37a6c35291d6",
   "metadata": {},
   "source": [
    "### Feature 6: Adamic Agar Index"
   ]
  },
  {
   "cell_type": "code",
   "execution_count": 40,
   "id": "d5d5beb6-21f4-4aee-9757-55f4873b9c75",
   "metadata": {},
   "outputs": [],
   "source": [
    "aa_index_generator = nx.adamic_adar_index(G, edge_list)\n",
    "aa_index = [x for _,_,x in aa_index_generator]"
   ]
  },
  {
   "cell_type": "code",
   "execution_count": 41,
   "id": "9bb9a624-8a03-46ef-918c-1f3090822623",
   "metadata": {},
   "outputs": [
    {
     "name": "stderr",
     "output_type": "stream",
     "text": [
      "C:\\Users\\Jugal balaji\\AppData\\Local\\Temp\\ipykernel_12560\\2326837753.py:1: SettingWithCopyWarning: \n",
      "A value is trying to be set on a copy of a slice from a DataFrame.\n",
      "Try using .loc[row_indexer,col_indexer] = value instead\n",
      "\n",
      "See the caveats in the documentation: https://pandas.pydata.org/pandas-docs/stable/user_guide/indexing.html#returning-a-view-versus-a-copy\n",
      "  train_df['aa_index'] = aa_index\n"
     ]
    },
    {
     "data": {
      "text/html": [
       "<div>\n",
       "<style scoped>\n",
       "    .dataframe tbody tr th:only-of-type {\n",
       "        vertical-align: middle;\n",
       "    }\n",
       "\n",
       "    .dataframe tbody tr th {\n",
       "        vertical-align: top;\n",
       "    }\n",
       "\n",
       "    .dataframe thead th {\n",
       "        text-align: right;\n",
       "    }\n",
       "</style>\n",
       "<table border=\"1\" class=\"dataframe\">\n",
       "  <thead>\n",
       "    <tr style=\"text-align: right;\">\n",
       "      <th></th>\n",
       "      <th>source</th>\n",
       "      <th>sink</th>\n",
       "      <th>label</th>\n",
       "      <th>source_degree</th>\n",
       "      <th>sink_degree</th>\n",
       "      <th>common_neighbours</th>\n",
       "      <th>ra_index</th>\n",
       "      <th>jaccard_coef</th>\n",
       "      <th>aa_index</th>\n",
       "    </tr>\n",
       "  </thead>\n",
       "  <tbody>\n",
       "    <tr>\n",
       "      <th>0</th>\n",
       "      <td>687794</td>\n",
       "      <td>4763554</td>\n",
       "      <td>1</td>\n",
       "      <td>69</td>\n",
       "      <td>89</td>\n",
       "      <td>0</td>\n",
       "      <td>0.000000</td>\n",
       "      <td>0.000000</td>\n",
       "      <td>0.000000</td>\n",
       "    </tr>\n",
       "    <tr>\n",
       "      <th>1</th>\n",
       "      <td>687794</td>\n",
       "      <td>1224868</td>\n",
       "      <td>1</td>\n",
       "      <td>69</td>\n",
       "      <td>86</td>\n",
       "      <td>1</td>\n",
       "      <td>0.008000</td>\n",
       "      <td>0.006494</td>\n",
       "      <td>0.207112</td>\n",
       "    </tr>\n",
       "    <tr>\n",
       "      <th>2</th>\n",
       "      <td>687794</td>\n",
       "      <td>32423</td>\n",
       "      <td>1</td>\n",
       "      <td>69</td>\n",
       "      <td>54</td>\n",
       "      <td>1</td>\n",
       "      <td>0.014085</td>\n",
       "      <td>0.008197</td>\n",
       "      <td>0.234594</td>\n",
       "    </tr>\n",
       "  </tbody>\n",
       "</table>\n",
       "</div>"
      ],
      "text/plain": [
       "   source     sink  label  source_degree  sink_degree  common_neighbours  \\\n",
       "0  687794  4763554      1             69           89                  0   \n",
       "1  687794  1224868      1             69           86                  1   \n",
       "2  687794    32423      1             69           54                  1   \n",
       "\n",
       "   ra_index  jaccard_coef  aa_index  \n",
       "0  0.000000      0.000000  0.000000  \n",
       "1  0.008000      0.006494  0.207112  \n",
       "2  0.014085      0.008197  0.234594  "
      ]
     },
     "execution_count": 41,
     "metadata": {},
     "output_type": "execute_result"
    }
   ],
   "source": [
    "train_df['aa_index'] = aa_index\n",
    "train_df.head(3)"
   ]
  },
  {
   "cell_type": "markdown",
   "id": "1cb5ee8e-e645-435d-a06c-4810d739312b",
   "metadata": {},
   "source": [
    "## Sample Weights"
   ]
  },
  {
   "cell_type": "code",
   "execution_count": 42,
   "id": "41ebb4ff-6080-43b2-bbed-d7c7c61ac51b",
   "metadata": {},
   "outputs": [],
   "source": [
    "#sample_weights = train_df['label'].apply(lambda x : 1 if x == 1 else 0.7)"
   ]
  },
  {
   "cell_type": "markdown",
   "id": "9b649a39-25d5-415c-9087-2cd7f8d62ff4",
   "metadata": {},
   "source": [
    "## Model"
   ]
  },
  {
   "cell_type": "code",
   "execution_count": 48,
   "id": "d2ddd494-6253-4b08-84f3-c3fb86d93274",
   "metadata": {},
   "outputs": [],
   "source": [
    "X = train_df.drop(['source','sink','label'], axis=1)\n",
    "y = train_df['label']"
   ]
  },
  {
   "cell_type": "code",
   "execution_count": 49,
   "id": "755a0097-dc99-4859-ab07-dd30cf76c9f9",
   "metadata": {},
   "outputs": [],
   "source": [
    "scaler = MinMaxScaler()\n",
    "X = scaler.fit_transform(X)"
   ]
  },
  {
   "cell_type": "code",
   "execution_count": 50,
   "id": "7d69c0dd-60f1-41b0-a50c-441400c9f245",
   "metadata": {},
   "outputs": [],
   "source": [
    "model = LogisticRegression(C=1, class_weight = 'balanced')"
   ]
  },
  {
   "cell_type": "code",
   "execution_count": 51,
   "id": "6b2ba2ff-b79e-4839-8627-12a55f5557a0",
   "metadata": {},
   "outputs": [
    {
     "data": {
      "text/html": [
       "<style>#sk-container-id-2 {\n",
       "  /* Definition of color scheme common for light and dark mode */\n",
       "  --sklearn-color-text: black;\n",
       "  --sklearn-color-line: gray;\n",
       "  /* Definition of color scheme for unfitted estimators */\n",
       "  --sklearn-color-unfitted-level-0: #fff5e6;\n",
       "  --sklearn-color-unfitted-level-1: #f6e4d2;\n",
       "  --sklearn-color-unfitted-level-2: #ffe0b3;\n",
       "  --sklearn-color-unfitted-level-3: chocolate;\n",
       "  /* Definition of color scheme for fitted estimators */\n",
       "  --sklearn-color-fitted-level-0: #f0f8ff;\n",
       "  --sklearn-color-fitted-level-1: #d4ebff;\n",
       "  --sklearn-color-fitted-level-2: #b3dbfd;\n",
       "  --sklearn-color-fitted-level-3: cornflowerblue;\n",
       "\n",
       "  /* Specific color for light theme */\n",
       "  --sklearn-color-text-on-default-background: var(--sg-text-color, var(--theme-code-foreground, var(--jp-content-font-color1, black)));\n",
       "  --sklearn-color-background: var(--sg-background-color, var(--theme-background, var(--jp-layout-color0, white)));\n",
       "  --sklearn-color-border-box: var(--sg-text-color, var(--theme-code-foreground, var(--jp-content-font-color1, black)));\n",
       "  --sklearn-color-icon: #696969;\n",
       "\n",
       "  @media (prefers-color-scheme: dark) {\n",
       "    /* Redefinition of color scheme for dark theme */\n",
       "    --sklearn-color-text-on-default-background: var(--sg-text-color, var(--theme-code-foreground, var(--jp-content-font-color1, white)));\n",
       "    --sklearn-color-background: var(--sg-background-color, var(--theme-background, var(--jp-layout-color0, #111)));\n",
       "    --sklearn-color-border-box: var(--sg-text-color, var(--theme-code-foreground, var(--jp-content-font-color1, white)));\n",
       "    --sklearn-color-icon: #878787;\n",
       "  }\n",
       "}\n",
       "\n",
       "#sk-container-id-2 {\n",
       "  color: var(--sklearn-color-text);\n",
       "}\n",
       "\n",
       "#sk-container-id-2 pre {\n",
       "  padding: 0;\n",
       "}\n",
       "\n",
       "#sk-container-id-2 input.sk-hidden--visually {\n",
       "  border: 0;\n",
       "  clip: rect(1px 1px 1px 1px);\n",
       "  clip: rect(1px, 1px, 1px, 1px);\n",
       "  height: 1px;\n",
       "  margin: -1px;\n",
       "  overflow: hidden;\n",
       "  padding: 0;\n",
       "  position: absolute;\n",
       "  width: 1px;\n",
       "}\n",
       "\n",
       "#sk-container-id-2 div.sk-dashed-wrapped {\n",
       "  border: 1px dashed var(--sklearn-color-line);\n",
       "  margin: 0 0.4em 0.5em 0.4em;\n",
       "  box-sizing: border-box;\n",
       "  padding-bottom: 0.4em;\n",
       "  background-color: var(--sklearn-color-background);\n",
       "}\n",
       "\n",
       "#sk-container-id-2 div.sk-container {\n",
       "  /* jupyter's `normalize.less` sets `[hidden] { display: none; }`\n",
       "     but bootstrap.min.css set `[hidden] { display: none !important; }`\n",
       "     so we also need the `!important` here to be able to override the\n",
       "     default hidden behavior on the sphinx rendered scikit-learn.org.\n",
       "     See: https://github.com/scikit-learn/scikit-learn/issues/21755 */\n",
       "  display: inline-block !important;\n",
       "  position: relative;\n",
       "}\n",
       "\n",
       "#sk-container-id-2 div.sk-text-repr-fallback {\n",
       "  display: none;\n",
       "}\n",
       "\n",
       "div.sk-parallel-item,\n",
       "div.sk-serial,\n",
       "div.sk-item {\n",
       "  /* draw centered vertical line to link estimators */\n",
       "  background-image: linear-gradient(var(--sklearn-color-text-on-default-background), var(--sklearn-color-text-on-default-background));\n",
       "  background-size: 2px 100%;\n",
       "  background-repeat: no-repeat;\n",
       "  background-position: center center;\n",
       "}\n",
       "\n",
       "/* Parallel-specific style estimator block */\n",
       "\n",
       "#sk-container-id-2 div.sk-parallel-item::after {\n",
       "  content: \"\";\n",
       "  width: 100%;\n",
       "  border-bottom: 2px solid var(--sklearn-color-text-on-default-background);\n",
       "  flex-grow: 1;\n",
       "}\n",
       "\n",
       "#sk-container-id-2 div.sk-parallel {\n",
       "  display: flex;\n",
       "  align-items: stretch;\n",
       "  justify-content: center;\n",
       "  background-color: var(--sklearn-color-background);\n",
       "  position: relative;\n",
       "}\n",
       "\n",
       "#sk-container-id-2 div.sk-parallel-item {\n",
       "  display: flex;\n",
       "  flex-direction: column;\n",
       "}\n",
       "\n",
       "#sk-container-id-2 div.sk-parallel-item:first-child::after {\n",
       "  align-self: flex-end;\n",
       "  width: 50%;\n",
       "}\n",
       "\n",
       "#sk-container-id-2 div.sk-parallel-item:last-child::after {\n",
       "  align-self: flex-start;\n",
       "  width: 50%;\n",
       "}\n",
       "\n",
       "#sk-container-id-2 div.sk-parallel-item:only-child::after {\n",
       "  width: 0;\n",
       "}\n",
       "\n",
       "/* Serial-specific style estimator block */\n",
       "\n",
       "#sk-container-id-2 div.sk-serial {\n",
       "  display: flex;\n",
       "  flex-direction: column;\n",
       "  align-items: center;\n",
       "  background-color: var(--sklearn-color-background);\n",
       "  padding-right: 1em;\n",
       "  padding-left: 1em;\n",
       "}\n",
       "\n",
       "\n",
       "/* Toggleable style: style used for estimator/Pipeline/ColumnTransformer box that is\n",
       "clickable and can be expanded/collapsed.\n",
       "- Pipeline and ColumnTransformer use this feature and define the default style\n",
       "- Estimators will overwrite some part of the style using the `sk-estimator` class\n",
       "*/\n",
       "\n",
       "/* Pipeline and ColumnTransformer style (default) */\n",
       "\n",
       "#sk-container-id-2 div.sk-toggleable {\n",
       "  /* Default theme specific background. It is overwritten whether we have a\n",
       "  specific estimator or a Pipeline/ColumnTransformer */\n",
       "  background-color: var(--sklearn-color-background);\n",
       "}\n",
       "\n",
       "/* Toggleable label */\n",
       "#sk-container-id-2 label.sk-toggleable__label {\n",
       "  cursor: pointer;\n",
       "  display: block;\n",
       "  width: 100%;\n",
       "  margin-bottom: 0;\n",
       "  padding: 0.5em;\n",
       "  box-sizing: border-box;\n",
       "  text-align: center;\n",
       "}\n",
       "\n",
       "#sk-container-id-2 label.sk-toggleable__label-arrow:before {\n",
       "  /* Arrow on the left of the label */\n",
       "  content: \"▸\";\n",
       "  float: left;\n",
       "  margin-right: 0.25em;\n",
       "  color: var(--sklearn-color-icon);\n",
       "}\n",
       "\n",
       "#sk-container-id-2 label.sk-toggleable__label-arrow:hover:before {\n",
       "  color: var(--sklearn-color-text);\n",
       "}\n",
       "\n",
       "/* Toggleable content - dropdown */\n",
       "\n",
       "#sk-container-id-2 div.sk-toggleable__content {\n",
       "  max-height: 0;\n",
       "  max-width: 0;\n",
       "  overflow: hidden;\n",
       "  text-align: left;\n",
       "  /* unfitted */\n",
       "  background-color: var(--sklearn-color-unfitted-level-0);\n",
       "}\n",
       "\n",
       "#sk-container-id-2 div.sk-toggleable__content.fitted {\n",
       "  /* fitted */\n",
       "  background-color: var(--sklearn-color-fitted-level-0);\n",
       "}\n",
       "\n",
       "#sk-container-id-2 div.sk-toggleable__content pre {\n",
       "  margin: 0.2em;\n",
       "  border-radius: 0.25em;\n",
       "  color: var(--sklearn-color-text);\n",
       "  /* unfitted */\n",
       "  background-color: var(--sklearn-color-unfitted-level-0);\n",
       "}\n",
       "\n",
       "#sk-container-id-2 div.sk-toggleable__content.fitted pre {\n",
       "  /* unfitted */\n",
       "  background-color: var(--sklearn-color-fitted-level-0);\n",
       "}\n",
       "\n",
       "#sk-container-id-2 input.sk-toggleable__control:checked~div.sk-toggleable__content {\n",
       "  /* Expand drop-down */\n",
       "  max-height: 200px;\n",
       "  max-width: 100%;\n",
       "  overflow: auto;\n",
       "}\n",
       "\n",
       "#sk-container-id-2 input.sk-toggleable__control:checked~label.sk-toggleable__label-arrow:before {\n",
       "  content: \"▾\";\n",
       "}\n",
       "\n",
       "/* Pipeline/ColumnTransformer-specific style */\n",
       "\n",
       "#sk-container-id-2 div.sk-label input.sk-toggleable__control:checked~label.sk-toggleable__label {\n",
       "  color: var(--sklearn-color-text);\n",
       "  background-color: var(--sklearn-color-unfitted-level-2);\n",
       "}\n",
       "\n",
       "#sk-container-id-2 div.sk-label.fitted input.sk-toggleable__control:checked~label.sk-toggleable__label {\n",
       "  background-color: var(--sklearn-color-fitted-level-2);\n",
       "}\n",
       "\n",
       "/* Estimator-specific style */\n",
       "\n",
       "/* Colorize estimator box */\n",
       "#sk-container-id-2 div.sk-estimator input.sk-toggleable__control:checked~label.sk-toggleable__label {\n",
       "  /* unfitted */\n",
       "  background-color: var(--sklearn-color-unfitted-level-2);\n",
       "}\n",
       "\n",
       "#sk-container-id-2 div.sk-estimator.fitted input.sk-toggleable__control:checked~label.sk-toggleable__label {\n",
       "  /* fitted */\n",
       "  background-color: var(--sklearn-color-fitted-level-2);\n",
       "}\n",
       "\n",
       "#sk-container-id-2 div.sk-label label.sk-toggleable__label,\n",
       "#sk-container-id-2 div.sk-label label {\n",
       "  /* The background is the default theme color */\n",
       "  color: var(--sklearn-color-text-on-default-background);\n",
       "}\n",
       "\n",
       "/* On hover, darken the color of the background */\n",
       "#sk-container-id-2 div.sk-label:hover label.sk-toggleable__label {\n",
       "  color: var(--sklearn-color-text);\n",
       "  background-color: var(--sklearn-color-unfitted-level-2);\n",
       "}\n",
       "\n",
       "/* Label box, darken color on hover, fitted */\n",
       "#sk-container-id-2 div.sk-label.fitted:hover label.sk-toggleable__label.fitted {\n",
       "  color: var(--sklearn-color-text);\n",
       "  background-color: var(--sklearn-color-fitted-level-2);\n",
       "}\n",
       "\n",
       "/* Estimator label */\n",
       "\n",
       "#sk-container-id-2 div.sk-label label {\n",
       "  font-family: monospace;\n",
       "  font-weight: bold;\n",
       "  display: inline-block;\n",
       "  line-height: 1.2em;\n",
       "}\n",
       "\n",
       "#sk-container-id-2 div.sk-label-container {\n",
       "  text-align: center;\n",
       "}\n",
       "\n",
       "/* Estimator-specific */\n",
       "#sk-container-id-2 div.sk-estimator {\n",
       "  font-family: monospace;\n",
       "  border: 1px dotted var(--sklearn-color-border-box);\n",
       "  border-radius: 0.25em;\n",
       "  box-sizing: border-box;\n",
       "  margin-bottom: 0.5em;\n",
       "  /* unfitted */\n",
       "  background-color: var(--sklearn-color-unfitted-level-0);\n",
       "}\n",
       "\n",
       "#sk-container-id-2 div.sk-estimator.fitted {\n",
       "  /* fitted */\n",
       "  background-color: var(--sklearn-color-fitted-level-0);\n",
       "}\n",
       "\n",
       "/* on hover */\n",
       "#sk-container-id-2 div.sk-estimator:hover {\n",
       "  /* unfitted */\n",
       "  background-color: var(--sklearn-color-unfitted-level-2);\n",
       "}\n",
       "\n",
       "#sk-container-id-2 div.sk-estimator.fitted:hover {\n",
       "  /* fitted */\n",
       "  background-color: var(--sklearn-color-fitted-level-2);\n",
       "}\n",
       "\n",
       "/* Specification for estimator info (e.g. \"i\" and \"?\") */\n",
       "\n",
       "/* Common style for \"i\" and \"?\" */\n",
       "\n",
       ".sk-estimator-doc-link,\n",
       "a:link.sk-estimator-doc-link,\n",
       "a:visited.sk-estimator-doc-link {\n",
       "  float: right;\n",
       "  font-size: smaller;\n",
       "  line-height: 1em;\n",
       "  font-family: monospace;\n",
       "  background-color: var(--sklearn-color-background);\n",
       "  border-radius: 1em;\n",
       "  height: 1em;\n",
       "  width: 1em;\n",
       "  text-decoration: none !important;\n",
       "  margin-left: 1ex;\n",
       "  /* unfitted */\n",
       "  border: var(--sklearn-color-unfitted-level-1) 1pt solid;\n",
       "  color: var(--sklearn-color-unfitted-level-1);\n",
       "}\n",
       "\n",
       ".sk-estimator-doc-link.fitted,\n",
       "a:link.sk-estimator-doc-link.fitted,\n",
       "a:visited.sk-estimator-doc-link.fitted {\n",
       "  /* fitted */\n",
       "  border: var(--sklearn-color-fitted-level-1) 1pt solid;\n",
       "  color: var(--sklearn-color-fitted-level-1);\n",
       "}\n",
       "\n",
       "/* On hover */\n",
       "div.sk-estimator:hover .sk-estimator-doc-link:hover,\n",
       ".sk-estimator-doc-link:hover,\n",
       "div.sk-label-container:hover .sk-estimator-doc-link:hover,\n",
       ".sk-estimator-doc-link:hover {\n",
       "  /* unfitted */\n",
       "  background-color: var(--sklearn-color-unfitted-level-3);\n",
       "  color: var(--sklearn-color-background);\n",
       "  text-decoration: none;\n",
       "}\n",
       "\n",
       "div.sk-estimator.fitted:hover .sk-estimator-doc-link.fitted:hover,\n",
       ".sk-estimator-doc-link.fitted:hover,\n",
       "div.sk-label-container:hover .sk-estimator-doc-link.fitted:hover,\n",
       ".sk-estimator-doc-link.fitted:hover {\n",
       "  /* fitted */\n",
       "  background-color: var(--sklearn-color-fitted-level-3);\n",
       "  color: var(--sklearn-color-background);\n",
       "  text-decoration: none;\n",
       "}\n",
       "\n",
       "/* Span, style for the box shown on hovering the info icon */\n",
       ".sk-estimator-doc-link span {\n",
       "  display: none;\n",
       "  z-index: 9999;\n",
       "  position: relative;\n",
       "  font-weight: normal;\n",
       "  right: .2ex;\n",
       "  padding: .5ex;\n",
       "  margin: .5ex;\n",
       "  width: min-content;\n",
       "  min-width: 20ex;\n",
       "  max-width: 50ex;\n",
       "  color: var(--sklearn-color-text);\n",
       "  box-shadow: 2pt 2pt 4pt #999;\n",
       "  /* unfitted */\n",
       "  background: var(--sklearn-color-unfitted-level-0);\n",
       "  border: .5pt solid var(--sklearn-color-unfitted-level-3);\n",
       "}\n",
       "\n",
       ".sk-estimator-doc-link.fitted span {\n",
       "  /* fitted */\n",
       "  background: var(--sklearn-color-fitted-level-0);\n",
       "  border: var(--sklearn-color-fitted-level-3);\n",
       "}\n",
       "\n",
       ".sk-estimator-doc-link:hover span {\n",
       "  display: block;\n",
       "}\n",
       "\n",
       "/* \"?\"-specific style due to the `<a>` HTML tag */\n",
       "\n",
       "#sk-container-id-2 a.estimator_doc_link {\n",
       "  float: right;\n",
       "  font-size: 1rem;\n",
       "  line-height: 1em;\n",
       "  font-family: monospace;\n",
       "  background-color: var(--sklearn-color-background);\n",
       "  border-radius: 1rem;\n",
       "  height: 1rem;\n",
       "  width: 1rem;\n",
       "  text-decoration: none;\n",
       "  /* unfitted */\n",
       "  color: var(--sklearn-color-unfitted-level-1);\n",
       "  border: var(--sklearn-color-unfitted-level-1) 1pt solid;\n",
       "}\n",
       "\n",
       "#sk-container-id-2 a.estimator_doc_link.fitted {\n",
       "  /* fitted */\n",
       "  border: var(--sklearn-color-fitted-level-1) 1pt solid;\n",
       "  color: var(--sklearn-color-fitted-level-1);\n",
       "}\n",
       "\n",
       "/* On hover */\n",
       "#sk-container-id-2 a.estimator_doc_link:hover {\n",
       "  /* unfitted */\n",
       "  background-color: var(--sklearn-color-unfitted-level-3);\n",
       "  color: var(--sklearn-color-background);\n",
       "  text-decoration: none;\n",
       "}\n",
       "\n",
       "#sk-container-id-2 a.estimator_doc_link.fitted:hover {\n",
       "  /* fitted */\n",
       "  background-color: var(--sklearn-color-fitted-level-3);\n",
       "}\n",
       "</style><div id=\"sk-container-id-2\" class=\"sk-top-container\"><div class=\"sk-text-repr-fallback\"><pre>LogisticRegression(C=1, class_weight=&#x27;balanced&#x27;)</pre><b>In a Jupyter environment, please rerun this cell to show the HTML representation or trust the notebook. <br />On GitHub, the HTML representation is unable to render, please try loading this page with nbviewer.org.</b></div><div class=\"sk-container\" hidden><div class=\"sk-item\"><div class=\"sk-estimator fitted sk-toggleable\"><input class=\"sk-toggleable__control sk-hidden--visually\" id=\"sk-estimator-id-2\" type=\"checkbox\" checked><label for=\"sk-estimator-id-2\" class=\"sk-toggleable__label fitted sk-toggleable__label-arrow fitted\">&nbsp;&nbsp;LogisticRegression<a class=\"sk-estimator-doc-link fitted\" rel=\"noreferrer\" target=\"_blank\" href=\"https://scikit-learn.org/1.4/modules/generated/sklearn.linear_model.LogisticRegression.html\">?<span>Documentation for LogisticRegression</span></a><span class=\"sk-estimator-doc-link fitted\">i<span>Fitted</span></span></label><div class=\"sk-toggleable__content fitted\"><pre>LogisticRegression(C=1, class_weight=&#x27;balanced&#x27;)</pre></div> </div></div></div></div>"
      ],
      "text/plain": [
       "LogisticRegression(C=1, class_weight='balanced')"
      ]
     },
     "execution_count": 51,
     "metadata": {},
     "output_type": "execute_result"
    }
   ],
   "source": [
    "model.fit(X,y)"
   ]
  },
  {
   "cell_type": "code",
   "execution_count": 52,
   "id": "d444f78f-5806-45d7-96e3-6d09867aa0d7",
   "metadata": {},
   "outputs": [
    {
     "data": {
      "text/plain": [
       "array([[ 0.86062812, 22.83906591, 13.0674437 ,  7.94719745, 33.70844069,\n",
       "        13.00832443]])"
      ]
     },
     "execution_count": 52,
     "metadata": {},
     "output_type": "execute_result"
    }
   ],
   "source": [
    "model.coef_"
   ]
  },
  {
   "cell_type": "markdown",
   "id": "2b8afc20-ef55-467a-911f-37741fb81a29",
   "metadata": {},
   "source": [
    "## Load Test Data"
   ]
  },
  {
   "cell_type": "code",
   "execution_count": 70,
   "id": "f9a70549-5c4f-43ad-83ae-32b072709389",
   "metadata": {},
   "outputs": [
    {
     "data": {
      "text/html": [
       "<div>\n",
       "<style scoped>\n",
       "    .dataframe tbody tr th:only-of-type {\n",
       "        vertical-align: middle;\n",
       "    }\n",
       "\n",
       "    .dataframe tbody tr th {\n",
       "        vertical-align: top;\n",
       "    }\n",
       "\n",
       "    .dataframe thead th {\n",
       "        text-align: right;\n",
       "    }\n",
       "</style>\n",
       "<table border=\"1\" class=\"dataframe\">\n",
       "  <thead>\n",
       "    <tr style=\"text-align: right;\">\n",
       "      <th></th>\n",
       "      <th>Id</th>\n",
       "      <th>From</th>\n",
       "      <th>To</th>\n",
       "    </tr>\n",
       "  </thead>\n",
       "  <tbody>\n",
       "    <tr>\n",
       "      <th>0</th>\n",
       "      <td>1</td>\n",
       "      <td>3360982</td>\n",
       "      <td>4457271</td>\n",
       "    </tr>\n",
       "    <tr>\n",
       "      <th>1</th>\n",
       "      <td>2</td>\n",
       "      <td>4761876</td>\n",
       "      <td>4698439</td>\n",
       "    </tr>\n",
       "    <tr>\n",
       "      <th>2</th>\n",
       "      <td>3</td>\n",
       "      <td>4198430</td>\n",
       "      <td>3615486</td>\n",
       "    </tr>\n",
       "  </tbody>\n",
       "</table>\n",
       "</div>"
      ],
      "text/plain": [
       "   Id     From       To\n",
       "0   1  3360982  4457271\n",
       "1   2  4761876  4698439\n",
       "2   3  4198430  3615486"
      ]
     },
     "execution_count": 70,
     "metadata": {},
     "output_type": "execute_result"
    }
   ],
   "source": [
    "test_df = pd.read_csv('test.csv')\n",
    "test_df.head(3)"
   ]
  },
  {
   "cell_type": "code",
   "execution_count": 71,
   "id": "30d8b6e5-308f-4f94-906f-aa5a953774c9",
   "metadata": {},
   "outputs": [
    {
     "data": {
      "text/html": [
       "<div>\n",
       "<style scoped>\n",
       "    .dataframe tbody tr th:only-of-type {\n",
       "        vertical-align: middle;\n",
       "    }\n",
       "\n",
       "    .dataframe tbody tr th {\n",
       "        vertical-align: top;\n",
       "    }\n",
       "\n",
       "    .dataframe thead th {\n",
       "        text-align: right;\n",
       "    }\n",
       "</style>\n",
       "<table border=\"1\" class=\"dataframe\">\n",
       "  <thead>\n",
       "    <tr style=\"text-align: right;\">\n",
       "      <th></th>\n",
       "      <th>Id</th>\n",
       "      <th>From</th>\n",
       "      <th>To</th>\n",
       "      <th>source_degree</th>\n",
       "      <th>sink_degree</th>\n",
       "      <th>common_neighbours</th>\n",
       "      <th>ra_index</th>\n",
       "      <th>jaccard_coef</th>\n",
       "      <th>aa_index</th>\n",
       "    </tr>\n",
       "  </thead>\n",
       "  <tbody>\n",
       "    <tr>\n",
       "      <th>0</th>\n",
       "      <td>1</td>\n",
       "      <td>3360982</td>\n",
       "      <td>4457271</td>\n",
       "      <td>35</td>\n",
       "      <td>61</td>\n",
       "      <td>0</td>\n",
       "      <td>0.0</td>\n",
       "      <td>0.0</td>\n",
       "      <td>0.0</td>\n",
       "    </tr>\n",
       "    <tr>\n",
       "      <th>1</th>\n",
       "      <td>2</td>\n",
       "      <td>4761876</td>\n",
       "      <td>4698439</td>\n",
       "      <td>41</td>\n",
       "      <td>1</td>\n",
       "      <td>0</td>\n",
       "      <td>0.0</td>\n",
       "      <td>0.0</td>\n",
       "      <td>0.0</td>\n",
       "    </tr>\n",
       "    <tr>\n",
       "      <th>2</th>\n",
       "      <td>3</td>\n",
       "      <td>4198430</td>\n",
       "      <td>3615486</td>\n",
       "      <td>33</td>\n",
       "      <td>1</td>\n",
       "      <td>0</td>\n",
       "      <td>0.0</td>\n",
       "      <td>0.0</td>\n",
       "      <td>0.0</td>\n",
       "    </tr>\n",
       "  </tbody>\n",
       "</table>\n",
       "</div>"
      ],
      "text/plain": [
       "   Id     From       To  source_degree  sink_degree  common_neighbours  \\\n",
       "0   1  3360982  4457271             35           61                  0   \n",
       "1   2  4761876  4698439             41            1                  0   \n",
       "2   3  4198430  3615486             33            1                  0   \n",
       "\n",
       "   ra_index  jaccard_coef  aa_index  \n",
       "0       0.0           0.0       0.0  \n",
       "1       0.0           0.0       0.0  \n",
       "2       0.0           0.0       0.0  "
      ]
     },
     "execution_count": 71,
     "metadata": {},
     "output_type": "execute_result"
    }
   ],
   "source": [
    "test_edge_list = list(zip(test_df['From'].tolist(), test_df['To'].tolist()))\n",
    "TG = G.copy()\n",
    "TG.add_edges_from(test_edge_list)\n",
    "\n",
    "test_df['source_degree'] = test_df['From'].apply(lambda x : TG.degree(x))\n",
    "test_df['sink_degree'] = test_df['To'].apply(lambda x : TG.degree(x))\n",
    "test_df['common_neighbours'] = [len(set(nx.common_neighbors(TG, u, v))) for u, v in test_edge_list]\n",
    "\n",
    "ra_index_generator = nx.resource_allocation_index(TG, test_edge_list)\n",
    "ra_index = [x for _,_,x in ra_index_generator]\n",
    "test_df['ra_index'] = ra_index\n",
    "\n",
    "jaccard_coef_generator = nx.jaccard_coefficient(TG, test_edge_list)\n",
    "jaccard_coef = [x for _,_,x in jaccard_coef_generator]\n",
    "test_df['jaccard_coef'] = jaccard_coef\n",
    "\n",
    "aa_index_generator = nx.adamic_adar_index(TG, test_edge_list)\n",
    "aa_index = [x for _,_,x in aa_index_generator]\n",
    "test_df['aa_index'] = aa_index\n",
    "\n",
    "test_df.head(3)"
   ]
  },
  {
   "cell_type": "code",
   "execution_count": 72,
   "id": "222cb9f8-9087-4f1e-b1ee-cedfbd4ee57e",
   "metadata": {},
   "outputs": [],
   "source": [
    "X_test = scaler.transform(test_df.drop(['From','To','Id'], axis=1))"
   ]
  },
  {
   "cell_type": "code",
   "execution_count": 74,
   "id": "578ef515-8039-4fad-a7d5-1d4cca1d382a",
   "metadata": {},
   "outputs": [],
   "source": [
    "output_df = test_df.copy()\n",
    "output_df.drop(['From' ,'To','source_degree','common_neighbours','sink_degree', 'ra_index', 'jaccard_coef', 'aa_index'], axis = 1, inplace = True)"
   ]
  },
  {
   "cell_type": "code",
   "execution_count": 75,
   "id": "577582cd-40ff-46ad-a855-182ff0259bb4",
   "metadata": {},
   "outputs": [],
   "source": [
    "output_df['Predictions'] = np.transpose(model.predict_proba(X_test))[1]"
   ]
  },
  {
   "cell_type": "code",
   "execution_count": 76,
   "id": "c4a73246-f862-4e32-b5eb-4679c3722402",
   "metadata": {},
   "outputs": [
    {
     "data": {
      "text/plain": [
       "0    1612\n",
       "1     388\n",
       "Name: count, dtype: int64"
      ]
     },
     "execution_count": 76,
     "metadata": {},
     "output_type": "execute_result"
    }
   ],
   "source": [
    "pd.Series(model.predict(X_test)).value_counts()"
   ]
  },
  {
   "cell_type": "code",
   "execution_count": 77,
   "id": "325c0a40-07b6-4854-8081-e6a6decc9e76",
   "metadata": {},
   "outputs": [
    {
     "data": {
      "text/plain": [
       "array([1, 0, 0, ..., 0, 0, 0], dtype=int64)"
      ]
     },
     "execution_count": 77,
     "metadata": {},
     "output_type": "execute_result"
    }
   ],
   "source": [
    "model.predict(X_test)"
   ]
  },
  {
   "cell_type": "code",
   "execution_count": 78,
   "id": "ce0ca798-c8d9-4089-bce7-da38d6da3b74",
   "metadata": {
    "scrolled": true
   },
   "outputs": [
    {
     "data": {
      "text/html": [
       "<div>\n",
       "<style scoped>\n",
       "    .dataframe tbody tr th:only-of-type {\n",
       "        vertical-align: middle;\n",
       "    }\n",
       "\n",
       "    .dataframe tbody tr th {\n",
       "        vertical-align: top;\n",
       "    }\n",
       "\n",
       "    .dataframe thead th {\n",
       "        text-align: right;\n",
       "    }\n",
       "</style>\n",
       "<table border=\"1\" class=\"dataframe\">\n",
       "  <thead>\n",
       "    <tr style=\"text-align: right;\">\n",
       "      <th></th>\n",
       "      <th>Id</th>\n",
       "      <th>Predictions</th>\n",
       "    </tr>\n",
       "  </thead>\n",
       "  <tbody>\n",
       "    <tr>\n",
       "      <th>0</th>\n",
       "      <td>1</td>\n",
       "      <td>0.656078</td>\n",
       "    </tr>\n",
       "    <tr>\n",
       "      <th>1</th>\n",
       "      <td>2</td>\n",
       "      <td>0.406360</td>\n",
       "    </tr>\n",
       "    <tr>\n",
       "      <th>2</th>\n",
       "      <td>3</td>\n",
       "      <td>0.405110</td>\n",
       "    </tr>\n",
       "    <tr>\n",
       "      <th>3</th>\n",
       "      <td>4</td>\n",
       "      <td>0.423408</td>\n",
       "    </tr>\n",
       "    <tr>\n",
       "      <th>4</th>\n",
       "      <td>5</td>\n",
       "      <td>0.438478</td>\n",
       "    </tr>\n",
       "  </tbody>\n",
       "</table>\n",
       "</div>"
      ],
      "text/plain": [
       "   Id  Predictions\n",
       "0   1     0.656078\n",
       "1   2     0.406360\n",
       "2   3     0.405110\n",
       "3   4     0.423408\n",
       "4   5     0.438478"
      ]
     },
     "execution_count": 78,
     "metadata": {},
     "output_type": "execute_result"
    }
   ],
   "source": [
    "output_df.head()"
   ]
  },
  {
   "cell_type": "code",
   "execution_count": 79,
   "id": "dcb4e38f-7cc3-4e39-bda0-791c6eddc23a",
   "metadata": {},
   "outputs": [],
   "source": [
    "today_date = datetime.now().strftime(\"%Y%m%d_%H%M\")\n",
    "output_df.to_csv(f'submissions\\{today_date}_submission.csv', index = False)"
   ]
  },
  {
   "cell_type": "markdown",
   "id": "81b39896-721a-492c-a459-96a6d3957c42",
   "metadata": {},
   "source": [
    "## Playground"
   ]
  },
  {
   "cell_type": "code",
   "execution_count": null,
   "id": "80f564fe-ecc9-4d33-b13f-faafc0e99524",
   "metadata": {},
   "outputs": [],
   "source": [
    "get_ra_index(train_df, ['687794', '1212121'])"
   ]
  },
  {
   "cell_type": "code",
   "execution_count": null,
   "id": "dfe2773d-96a0-436e-836b-a9f6ac103e6c",
   "metadata": {},
   "outputs": [],
   "source": [
    "# Define the number of folds\n",
    "k = 5\n",
    "\n",
    "# Initialize the KFold object\n",
    "kf = KFold(n_splits=k, shuffle=True, stratify = y)\n",
    "\n",
    "# Initialize lists to store predictions and true labels\n",
    "all_predictions = []\n",
    "all_true_labels = []\n",
    "\n",
    "# Iterate over each fold\n",
    "for train_index, val_index in kf.split(X):\n",
    "    # Split the data into training and validation sets\n",
    "    X_train, X_val = X.iloc[train_index], X.iloc[val_index]\n",
    "    y_train, y_val = y.iloc[train_index], y.iloc[val_index]\n",
    "    \n",
    "    # Define and train your machine learning model\n",
    "    model = LogisticRegression()\n",
    "    model.fit(X_train, y_train)\n",
    "    \n",
    "    # Make predictions on the validation set\n",
    "    predictions = model.predict(X_val)\n",
    "    \n",
    "    # Collect the predictions and true labels for each fold\n",
    "    all_predictions.extend(predictions)\n",
    "    all_true_labels.extend(y_val)\n",
    "\n",
    "# Compute the confusion matrix\n",
    "cm = confusion_matrix(all_true_labels, all_predictions)\n",
    "\n",
    "# Plot the confusion matrix\n",
    "plt.figure(figsize=(8, 6))\n",
    "sns.heatmap(cm, annot=True, cmap='Blues', fmt='d')\n",
    "plt.xlabel('Predicted')\n",
    "plt.ylabel('True')\n",
    "plt.title('Confusion Matrix')\n",
    "plt.show()"
   ]
  }
 ],
 "metadata": {
  "kernelspec": {
   "display_name": "Python 3 (ipykernel)",
   "language": "python",
   "name": "python3"
  },
  "language_info": {
   "codemirror_mode": {
    "name": "ipython",
    "version": 3
   },
   "file_extension": ".py",
   "mimetype": "text/x-python",
   "name": "python",
   "nbconvert_exporter": "python",
   "pygments_lexer": "ipython3",
   "version": "3.11.7"
  }
 },
 "nbformat": 4,
 "nbformat_minor": 5
}
